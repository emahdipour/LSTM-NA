{
 "cells": [
  {
   "cell_type": "markdown",
   "metadata": {},
   "source": [
    "# This project implemented by Elham Mahdipour\n",
    "## I am a Ph.D. Graduate  of computer engineering at Yazd University, Yazd, Iran.\n",
    "## I am a Faculty Member of Computer Engineering Department at Khavaran Institute of Higher Education, Mashhad, Iran.\n",
    "### Please feel free and contact to me: elham.mahdipour@gmail.com/ e.mahdipour@profs.khi.ac.ir"
   ]
  },
  {
   "cell_type": "markdown",
   "metadata": {},
   "source": [
    "# Please run all cells for train the LSTM-NA model. This program train LSTM-NA tune model for EC-SC species."
   ]
  },
  {
   "cell_type": "markdown",
   "metadata": {},
   "source": [
    "# Phase 1 \n",
    "## Create Dataset and Preprocessing"
   ]
  },
  {
   "cell_type": "code",
   "execution_count": 1,
   "metadata": {},
   "outputs": [
    {
     "data": {
      "text/plain": [
       "<networkx.classes.graph.Graph at 0x1892bd32be0>"
      ]
     },
     "execution_count": 1,
     "metadata": {},
     "output_type": "execute_result"
    }
   ],
   "source": [
    "import networkx as nx\n",
    "G1=nx.read_weighted_edgelist('large dataset\\sc-sc.evals')\n",
    "G1"
   ]
  },
  {
   "cell_type": "code",
   "execution_count": 2,
   "metadata": {},
   "outputs": [
    {
     "data": {
      "text/plain": [
       "<networkx.classes.graph.Graph at 0x18929ea0fd0>"
      ]
     },
     "execution_count": 2,
     "metadata": {},
     "output_type": "execute_result"
    }
   ],
   "source": [
    "G2=nx.read_weighted_edgelist('large dataset\\ec-ec.evals')\n",
    "G2"
   ]
  },
  {
   "cell_type": "code",
   "execution_count": 3,
   "metadata": {},
   "outputs": [
    {
     "name": "stdout",
     "output_type": "stream",
     "text": [
      "4265\n",
      "6613\n"
     ]
    }
   ],
   "source": [
    "### Check and Swap if G1 > G2 ###\n",
    "if len(G1)>len(G2):\n",
    "    temp=G1\n",
    "    G1=G2\n",
    "    G2=temp\n",
    "print(len(G1))\n",
    "print(len(G2))"
   ]
  },
  {
   "cell_type": "code",
   "execution_count": 4,
   "metadata": {},
   "outputs": [
    {
     "data": {
      "text/plain": [
       "<networkx.classes.graph.Graph at 0x1892cfefdd8>"
      ]
     },
     "execution_count": 4,
     "metadata": {},
     "output_type": "execute_result"
    }
   ],
   "source": [
    "G_target_na=nx.read_weighted_edgelist('large dataset\\ec-sc.evals')\n",
    "G_target_na  "
   ]
  },
  {
   "cell_type": "code",
   "execution_count": 5,
   "metadata": {},
   "outputs": [],
   "source": [
    "ed1=G1.edges()\n",
    "ed2=G2.edges()\n",
    "\n",
    "nd1=G1.nodes()\n",
    "nd2=G2.nodes()\n",
    "\n",
    "el1=list(ed1)\n",
    "el2=list(ed2)\n",
    "\n",
    "nd1=list(nd1)\n",
    "nd2=list(nd2)\n",
    "\n",
    "degG1 = [val for (node, val) in G1.degree()]\n",
    "degG2 = [val for (node, val) in G2.degree()]"
   ]
  },
  {
   "cell_type": "markdown",
   "metadata": {},
   "source": [
    "# Feature Extraction"
   ]
  },
  {
   "cell_type": "markdown",
   "metadata": {},
   "source": [
    "# compute score for create similarity matrix"
   ]
  },
  {
   "cell_type": "code",
   "execution_count": 6,
   "metadata": {},
   "outputs": [],
   "source": [
    "def deg_Diff(G1,G2):\n",
    "    Degree_Difference=np.zeros((len(G1),len(G2)))\n",
    "    for i in range(len(G1)):\n",
    "        for j in range(len(G2)):\n",
    "            Degree_Difference[i][j]=abs(degG1[i]-degG2[j])/max(degG1[i],degG2[j])\n",
    "    return Degree_Difference"
   ]
  },
  {
   "cell_type": "code",
   "execution_count": 7,
   "metadata": {},
   "outputs": [],
   "source": [
    "def score_pageRank(X):\n",
    "    a=nx.pagerank(X)\n",
    "    return a"
   ]
  },
  {
   "cell_type": "code",
   "execution_count": 8,
   "metadata": {},
   "outputs": [],
   "source": [
    "def coefficient_pagerank(x,y):  #x is G1, y is G2\n",
    "   # print(len(x))\n",
    "    p1=score_pageRank(x)\n",
    "    b=p1.values()\n",
    "    pr1=list(b)\n",
    "    p2=score_pageRank(y)\n",
    "    c=p2.values()\n",
    "    pr2=list(c)\n",
    "    pr=np.zeros((len(x),len(y)))\n",
    "    for i in range(len(x)):\n",
    "        for j in range(len(y)):\n",
    "            #print(pr1[i],pr2[j])\n",
    "            pr[i][j]=abs(pr1[i]-pr2[j])/max(pr1[i],pr2[j])   #minimum pr is maximum similarity of topology \n",
    "    return pr"
   ]
  },
  {
   "cell_type": "code",
   "execution_count": 9,
   "metadata": {},
   "outputs": [],
   "source": [
    "def coefficient_edges(index_node, G, GraphNumber):\n",
    "    if GraphNumber==1:\n",
    "        sum_edge=0        \n",
    "        for i in G.neighbors(nd1[index_node]):                       \n",
    "            sum_edge=sum_edge+degG1[nd1.index(i)]\n",
    "        #print(sum_edge)\n",
    "        temp=(degG1[index_node]-1) if degG1[index_node]> 1 else 1        \n",
    "        coeff_node=(2*sum_edge)/(degG1[index_node]*temp)\n",
    "    else:\n",
    "        sum_edge=0        \n",
    "        for i in G.neighbors(nd2[index_node]):                       \n",
    "            sum_edge=sum_edge+degG2[nd2.index(i)]\n",
    "        #print(sum_edge)\n",
    "        temp=(degG2[index_node]-1) if degG2[index_node]> 1 else 1        \n",
    "        coeff_node=(2*sum_edge)/(degG2[index_node]*temp)\n",
    "    return coeff_node"
   ]
  },
  {
   "cell_type": "code",
   "execution_count": 10,
   "metadata": {},
   "outputs": [],
   "source": [
    "def compute_Ea(G1,G2):\n",
    "    Ea_G1=np.zeros(len(G1))\n",
    "    Ea_G2=np.zeros(len(G2))\n",
    "    for i in range(len(G1)):\n",
    "        Ea_G1[i]=coefficient_edges(i, G1, 1)\n",
    "    for j in range(len(G2)):\n",
    "        Ea_G2[j]=coefficient_edges(j,G2,2)\n",
    "    ea=[Ea_G1, Ea_G2]\n",
    "    return(ea)"
   ]
  },
  {
   "cell_type": "code",
   "execution_count": 11,
   "metadata": {},
   "outputs": [],
   "source": [
    "# compute relative clustering coefficient difference between node a (in G1) and node b (in G2)\n",
    "def CD(G1, G2):\n",
    "    cd=np.zeros((len(G1),len(G2)))\n",
    "    EA=compute_Ea(G1,G2)\n",
    "    #print(EA[0])      #Ea for G1\n",
    "    #print(\"===================\")\n",
    "    #print(EA[1])      #Ea for G2\n",
    "    for i in range(len(G1)):\n",
    "        for j in range(len(G2)):\n",
    "            cd[i,j]=abs(EA[0][i]-EA[1][j])/max(EA[0][i],EA[1][j])\n",
    "    return cd"
   ]
  },
  {
   "cell_type": "code",
   "execution_count": 12,
   "metadata": {},
   "outputs": [],
   "source": [
    "def sequence_score(x,y):\n",
    "    seq=np.zeros((len(x),len(y)))\n",
    "    for i in range(len(x)):\n",
    "        for j in range(len(y)):\n",
    "            q1=G_target_na.get_edge_data(str(nd1[i]),str(nd2[j]))\n",
    "            if q1==None:\n",
    "                c=0\n",
    "            else:\n",
    "                c=list(q1.values())\n",
    "                c=c[0]\n",
    "            seq[i][j]=c    \n",
    "            \n",
    "    return seq"
   ]
  },
  {
   "cell_type": "code",
   "execution_count": 13,
   "metadata": {},
   "outputs": [],
   "source": [
    "def compute_score(G1,G2):\n",
    "    coeff_pr=coefficient_pagerank(G1,G2)\n",
    "    dd=deg_Diff(G1,G2)\n",
    "    cd=CD(G1,G2)\n",
    "    seq_sc=sequence_score(G1,G2)\n",
    "    \n",
    "    alpha=0.1\n",
    "    betta=0.2\n",
    "    gamma=0.2\n",
    "    zetta=1-alpha-betta-gamma\n",
    "    s=alpha*(1-coeff_pr)+betta*(1-dd)+gamma*(1-cd)+zetta*seq_sc\n",
    "    return s,coeff_pr, dd, cd"
   ]
  },
  {
   "cell_type": "code",
   "execution_count": 14,
   "metadata": {},
   "outputs": [],
   "source": [
    "import numpy as np\n",
    "m, coeff_pr, dd, cd=compute_score(G1,G2)\n",
    "sim=m"
   ]
  },
  {
   "cell_type": "markdown",
   "metadata": {},
   "source": [
    "# Phase 2: Dataset Generation"
   ]
  },
  {
   "cell_type": "markdown",
   "metadata": {},
   "source": [
    "# create data for deep learning"
   ]
  },
  {
   "cell_type": "markdown",
   "metadata": {},
   "source": [
    "# change problem to classification \n",
    "## [node of G1, node of G2, Coefficient page rank, clustering coefficient difference,  similarity score, alignment=yes(0)/TN or no(1)/TP]"
   ]
  },
  {
   "cell_type": "code",
   "execution_count": 15,
   "metadata": {},
   "outputs": [],
   "source": [
    "import numpy as np\n",
    "int_nd1=np.zeros(len(nd1))\n",
    "int_nd2=np.zeros(len(nd2))\n",
    "\n",
    "species=['ec','sc','ce','dm','mm','hs']\n",
    "ch1=0  #please set index for first species of species list, for example index of ec is 0\n",
    "ch2=1  #please set index for second species of species list, for example index of sc is 1\n",
    "# If don't set index with considering species may be given an error\n",
    "for i in range(len(nd1)):\n",
    "    if (species[ch1] in nd1[i] or species[ch2] in nd1[i]):\n",
    "        s=nd1[i][2:]\n",
    "        x=int(s)\n",
    "        int_nd1[i]=x    \n",
    "for i in range(len(nd2)):\n",
    "    if (species[ch1] in nd2[i] or species[ch2] in nd2[i]):\n",
    "        s=nd2[i][2:]\n",
    "        x=int(s)\n",
    "        int_nd2[i]=x    "
   ]
  },
  {
   "cell_type": "code",
   "execution_count": 16,
   "metadata": {},
   "outputs": [
    {
     "name": "stdout",
     "output_type": "stream",
     "text": [
      "28204445\n"
     ]
    }
   ],
   "source": [
    "# en_mat is encoding matrix\n",
    "en_mat=[]\n",
    "\n",
    "for i in range(len(nd1)):\n",
    "    for j in range(len(nd2)):\n",
    "        if G_target_na.has_edge(nd1[i],nd2[j]):\n",
    "            align_class='Yes'\n",
    "        else:\n",
    "            align_class='No'\n",
    "        \n",
    "        sample=[int_nd1[i],int_nd2[j], coeff_pr[i][j], dd[i][j],cd[i][j],sim[i][j],align_class] \n",
    "        en_mat.append(sample)\n",
    "print(len(en_mat))"
   ]
  },
  {
   "cell_type": "code",
   "execution_count": 17,
   "metadata": {},
   "outputs": [
    {
     "name": "stdout",
     "output_type": "stream",
     "text": [
      "4561 28199884\n"
     ]
    }
   ],
   "source": [
    "yc=[]\n",
    "noc=[]\n",
    "for i in range(len(en_mat)):\n",
    "    if en_mat[i][6]=='Yes':\n",
    "        yc.append(en_mat[i])\n",
    "    else:\n",
    "        noc.append(en_mat[i])\n",
    "print(len(yc), len(noc))"
   ]
  },
  {
   "cell_type": "code",
   "execution_count": 18,
   "metadata": {},
   "outputs": [
    {
     "data": {
      "text/plain": [
       "(9122, 9122)"
      ]
     },
     "execution_count": 18,
     "metadata": {},
     "output_type": "execute_result"
    }
   ],
   "source": [
    "from random import shuffle\n",
    "noc.sort(key = lambda i: i[6])\n",
    "data=yc+noc[0:len(yc)] \n",
    "shuffle(data)\n",
    "X=[]\n",
    "y=[]\n",
    "for i in range(len(data)):\n",
    "    X.append(data[i][0:6])\n",
    "    y.append(data[i][6])\n",
    "\n",
    "len(X),len(y)"
   ]
  },
  {
   "cell_type": "code",
   "execution_count": 36,
   "metadata": {},
   "outputs": [
    {
     "data": {
      "text/plain": [
       "(28204445, 28204445)"
      ]
     },
     "execution_count": 36,
     "metadata": {},
     "output_type": "execute_result"
    }
   ],
   "source": [
    "data=yc+noc \n",
    "len(data)\n",
    "X=[]\n",
    "y=[]\n",
    "for i in range(len(data)):\n",
    "    X.append(data[i][0:6])\n",
    "    y.append(data[i][6])\n",
    "\n",
    "len(X),len(y)"
   ]
  },
  {
   "cell_type": "code",
   "execution_count": 19,
   "metadata": {},
   "outputs": [],
   "source": [
    "from sklearn.model_selection import train_test_split\n",
    "X_train, X_test, y_train, y_test = train_test_split(X, y, test_size=0.1)"
   ]
  },
  {
   "cell_type": "code",
   "execution_count": 20,
   "metadata": {},
   "outputs": [
    {
     "name": "stdout",
     "output_type": "stream",
     "text": [
      "8209 8209 913 913\n"
     ]
    }
   ],
   "source": [
    "print(len(X_train), len(y_train), len(X_test), len(y_test))"
   ]
  },
  {
   "cell_type": "code",
   "execution_count": 20,
   "metadata": {},
   "outputs": [],
   "source": [
    "x_tr,y_tr,x_te,y_te=X_train, y_train,X_test,y_test"
   ]
  },
  {
   "cell_type": "markdown",
   "metadata": {},
   "source": [
    "# test model for real data"
   ]
  },
  {
   "cell_type": "code",
   "execution_count": 20,
   "metadata": {},
   "outputs": [
    {
     "name": "stderr",
     "output_type": "stream",
     "text": [
      "Using TensorFlow backend.\n",
      "C:\\Users\\ASUS\\Anaconda3\\lib\\site-packages\\tensorflow\\python\\framework\\dtypes.py:516: FutureWarning: Passing (type, 1) or '1type' as a synonym of type is deprecated; in a future version of numpy, it will be understood as (type, (1,)) / '(1,)type'.\n",
      "  _np_qint8 = np.dtype([(\"qint8\", np.int8, 1)])\n",
      "C:\\Users\\ASUS\\Anaconda3\\lib\\site-packages\\tensorflow\\python\\framework\\dtypes.py:517: FutureWarning: Passing (type, 1) or '1type' as a synonym of type is deprecated; in a future version of numpy, it will be understood as (type, (1,)) / '(1,)type'.\n",
      "  _np_quint8 = np.dtype([(\"quint8\", np.uint8, 1)])\n",
      "C:\\Users\\ASUS\\Anaconda3\\lib\\site-packages\\tensorflow\\python\\framework\\dtypes.py:518: FutureWarning: Passing (type, 1) or '1type' as a synonym of type is deprecated; in a future version of numpy, it will be understood as (type, (1,)) / '(1,)type'.\n",
      "  _np_qint16 = np.dtype([(\"qint16\", np.int16, 1)])\n",
      "C:\\Users\\ASUS\\Anaconda3\\lib\\site-packages\\tensorflow\\python\\framework\\dtypes.py:519: FutureWarning: Passing (type, 1) or '1type' as a synonym of type is deprecated; in a future version of numpy, it will be understood as (type, (1,)) / '(1,)type'.\n",
      "  _np_quint16 = np.dtype([(\"quint16\", np.uint16, 1)])\n",
      "C:\\Users\\ASUS\\Anaconda3\\lib\\site-packages\\tensorflow\\python\\framework\\dtypes.py:520: FutureWarning: Passing (type, 1) or '1type' as a synonym of type is deprecated; in a future version of numpy, it will be understood as (type, (1,)) / '(1,)type'.\n",
      "  _np_qint32 = np.dtype([(\"qint32\", np.int32, 1)])\n",
      "C:\\Users\\ASUS\\Anaconda3\\lib\\site-packages\\tensorflow\\python\\framework\\dtypes.py:525: FutureWarning: Passing (type, 1) or '1type' as a synonym of type is deprecated; in a future version of numpy, it will be understood as (type, (1,)) / '(1,)type'.\n",
      "  np_resource = np.dtype([(\"resource\", np.ubyte, 1)])\n",
      "C:\\Users\\ASUS\\Anaconda3\\lib\\site-packages\\tensorboard\\compat\\tensorflow_stub\\dtypes.py:541: FutureWarning: Passing (type, 1) or '1type' as a synonym of type is deprecated; in a future version of numpy, it will be understood as (type, (1,)) / '(1,)type'.\n",
      "  _np_qint8 = np.dtype([(\"qint8\", np.int8, 1)])\n",
      "C:\\Users\\ASUS\\Anaconda3\\lib\\site-packages\\tensorboard\\compat\\tensorflow_stub\\dtypes.py:542: FutureWarning: Passing (type, 1) or '1type' as a synonym of type is deprecated; in a future version of numpy, it will be understood as (type, (1,)) / '(1,)type'.\n",
      "  _np_quint8 = np.dtype([(\"quint8\", np.uint8, 1)])\n",
      "C:\\Users\\ASUS\\Anaconda3\\lib\\site-packages\\tensorboard\\compat\\tensorflow_stub\\dtypes.py:543: FutureWarning: Passing (type, 1) or '1type' as a synonym of type is deprecated; in a future version of numpy, it will be understood as (type, (1,)) / '(1,)type'.\n",
      "  _np_qint16 = np.dtype([(\"qint16\", np.int16, 1)])\n",
      "C:\\Users\\ASUS\\Anaconda3\\lib\\site-packages\\tensorboard\\compat\\tensorflow_stub\\dtypes.py:544: FutureWarning: Passing (type, 1) or '1type' as a synonym of type is deprecated; in a future version of numpy, it will be understood as (type, (1,)) / '(1,)type'.\n",
      "  _np_quint16 = np.dtype([(\"quint16\", np.uint16, 1)])\n",
      "C:\\Users\\ASUS\\Anaconda3\\lib\\site-packages\\tensorboard\\compat\\tensorflow_stub\\dtypes.py:545: FutureWarning: Passing (type, 1) or '1type' as a synonym of type is deprecated; in a future version of numpy, it will be understood as (type, (1,)) / '(1,)type'.\n",
      "  _np_qint32 = np.dtype([(\"qint32\", np.int32, 1)])\n",
      "C:\\Users\\ASUS\\Anaconda3\\lib\\site-packages\\tensorboard\\compat\\tensorflow_stub\\dtypes.py:550: FutureWarning: Passing (type, 1) or '1type' as a synonym of type is deprecated; in a future version of numpy, it will be understood as (type, (1,)) / '(1,)type'.\n",
      "  np_resource = np.dtype([(\"resource\", np.ubyte, 1)])\n"
     ]
    }
   ],
   "source": [
    "# Label encode Class (Species)\n",
    "from sklearn.preprocessing import LabelEncoder\n",
    "from keras.utils import np_utils\n",
    "encoder = LabelEncoder()\n",
    "encoder.fit(y_train)\n",
    "encoded_Y = encoder.transform(y_train)\n",
    "# One Hot Encode\n",
    "y_train = np_utils.to_categorical(encoded_Y)"
   ]
  },
  {
   "cell_type": "code",
   "execution_count": 22,
   "metadata": {},
   "outputs": [],
   "source": [
    "# Label encode Class (Species)\n",
    "from sklearn.preprocessing import LabelEncoder\n",
    "from keras.utils import np_utils\n",
    "encoder = LabelEncoder()\n",
    "encoder.fit(y_test)\n",
    "encoded_Y = encoder.transform(y_test)\n",
    "# One Hot Encode\n",
    "y_test = np_utils.to_categorical(encoded_Y)"
   ]
  },
  {
   "cell_type": "code",
   "execution_count": 23,
   "metadata": {},
   "outputs": [],
   "source": [
    "import numpy as np\n",
    "X_train=np.array(X_train)\n",
    "y_train=np.array(y_train)\n",
    "X_test=np.array(X_test)\n",
    "y_test=np.array(y_test)"
   ]
  },
  {
   "cell_type": "code",
   "execution_count": 37,
   "metadata": {},
   "outputs": [],
   "source": [
    "# Label encode Class (Species)\n",
    "from sklearn.preprocessing import LabelEncoder\n",
    "from keras.utils import np_utils\n",
    "encoder = LabelEncoder()\n",
    "encoder.fit(y)\n",
    "encoded_Y = encoder.transform(y)\n",
    "# One Hot Encode\n",
    "y_test = np_utils.to_categorical(encoded_Y)"
   ]
  },
  {
   "cell_type": "code",
   "execution_count": 38,
   "metadata": {},
   "outputs": [],
   "source": [
    "import numpy as np\n",
    "X_test=np.array(X)\n",
    "y_test=np.array(y_test)"
   ]
  },
  {
   "cell_type": "markdown",
   "metadata": {},
   "source": [
    "# Phase 3: Architecture of LSTM-NA Network"
   ]
  },
  {
   "cell_type": "markdown",
   "metadata": {},
   "source": [
    "# Train model with resample"
   ]
  },
  {
   "cell_type": "code",
   "execution_count": 28,
   "metadata": {},
   "outputs": [
    {
     "name": "stdout",
     "output_type": "stream",
     "text": [
      "Model: \"sequential_4\"\n",
      "_________________________________________________________________\n",
      "Layer (type)                 Output Shape              Param #   \n",
      "=================================================================\n",
      "embedding_4 (Embedding)      (None, None, 8)           48        \n",
      "_________________________________________________________________\n",
      "lstm_4 (LSTM)                (None, 4)                 208       \n",
      "_________________________________________________________________\n",
      "dense_4 (Dense)              (None, 2)                 10        \n",
      "=================================================================\n",
      "Total params: 266\n",
      "Trainable params: 266\n",
      "Non-trainable params: 0\n",
      "_________________________________________________________________\n",
      "Train on 6567 samples, validate on 1642 samples\n",
      "Epoch 1/1000\n",
      "6567/6567 [==============================] - 1s 214us/step - loss: 0.6917 - acc: 0.5354 - mae: 0.4992 - mse: 0.2493 - val_loss: 0.6907 - val_acc: 0.4787 - val_mae: 0.4987 - val_mse: 0.2488\n",
      "Epoch 2/1000\n",
      "6567/6567 [==============================] - 1s 166us/step - loss: 0.6878 - acc: 0.5050 - mae: 0.4972 - mse: 0.2473 - val_loss: 0.6861 - val_acc: 0.4787 - val_mae: 0.4964 - val_mse: 0.2465\n",
      "Epoch 3/1000\n",
      "6567/6567 [==============================] - 1s 165us/step - loss: 0.6823 - acc: 0.5668 - mae: 0.4945 - mse: 0.2446 - val_loss: 0.6782 - val_acc: 0.4787 - val_mae: 0.4932 - val_mse: 0.2434\n",
      "Epoch 4/1000\n",
      "6567/6567 [==============================] - 1s 170us/step - loss: 0.6741 - acc: 0.6594 - mae: 0.4903 - mse: 0.2405 - val_loss: 0.6647 - val_acc: 1.0000 - val_mae: 0.4875 - val_mse: 0.2377\n",
      "Epoch 5/1000\n",
      "6567/6567 [==============================] - 1s 168us/step - loss: 0.6585 - acc: 1.0000 - mae: 0.4823 - mse: 0.2327 - val_loss: 0.6385 - val_acc: 1.0000 - val_mae: 0.4744 - val_mse: 0.2252\n",
      "Epoch 6/1000\n",
      "6567/6567 [==============================] - 1s 169us/step - loss: 0.6008 - acc: 0.9999 - mae: 0.4500 - mse: 0.2044 - val_loss: 0.5458 - val_acc: 0.9988 - val_mae: 0.4218 - val_mse: 0.1828\n",
      "Epoch 7/1000\n",
      "6567/6567 [==============================] - 1s 170us/step - loss: 0.4798 - acc: 0.9995 - mae: 0.3781 - mse: 0.1465 - val_loss: 0.3839 - val_acc: 1.0000 - val_mae: 0.3257 - val_mse: 0.1068\n",
      "Epoch 8/1000\n",
      "6567/6567 [==============================] - 1s 167us/step - loss: 0.3143 - acc: 1.0000 - mae: 0.2686 - mse: 0.0737 - val_loss: 0.2308 - val_acc: 1.0000 - val_mae: 0.2132 - val_mse: 0.0454\n",
      "Epoch 9/1000\n",
      "6567/6567 [==============================] - 1s 172us/step - loss: 0.1864 - acc: 1.0000 - mae: 0.1697 - mse: 0.0294 - val_loss: 0.1377 - val_acc: 1.0000 - val_mae: 0.1333 - val_mse: 0.0178\n",
      "Epoch 10/1000\n",
      "6567/6567 [==============================] - 1s 171us/step - loss: 0.1155 - acc: 1.0000 - mae: 0.1089 - mse: 0.0120 - val_loss: 0.0896 - val_acc: 1.0000 - val_mae: 0.0899 - val_mse: 0.0082\n",
      "Epoch 11/1000\n",
      "6567/6567 [==============================] - 1s 168us/step - loss: 0.0801 - acc: 1.0000 - mae: 0.0769 - mse: 0.0060 - val_loss: 0.0653 - val_acc: 1.0000 - val_mae: 0.0664 - val_mse: 0.0045\n",
      "Epoch 12/1000\n",
      "6567/6567 [==============================] - 1s 199us/step - loss: 0.0611 - acc: 1.0000 - mae: 0.0592 - mse: 0.0036 - val_loss: 0.0518 - val_acc: 1.0000 - val_mae: 0.0530 - val_mse: 0.0028\n",
      "Epoch 13/1000\n",
      "6567/6567 [==============================] - 1s 162us/step - loss: 0.0502 - acc: 1.0000 - mae: 0.0490 - mse: 0.0024 - val_loss: 0.0437 - val_acc: 1.0000 - val_mae: 0.0449 - val_mse: 0.0020\n",
      "Epoch 14/1000\n",
      "6567/6567 [==============================] - 1s 164us/step - loss: 0.0428 - acc: 1.0000 - mae: 0.0419 - mse: 0.0018 - val_loss: 0.0375 - val_acc: 1.0000 - val_mae: 0.0387 - val_mse: 0.0015\n",
      "Epoch 15/1000\n",
      "6567/6567 [==============================] - 1s 164us/step - loss: 0.0368 - acc: 1.0000 - mae: 0.0362 - mse: 0.0013 - val_loss: 0.0324 - val_acc: 1.0000 - val_mae: 0.0335 - val_mse: 0.0011\n",
      "Epoch 16/1000\n",
      "6567/6567 [==============================] - 1s 186us/step - loss: 0.0320 - acc: 1.0000 - mae: 0.0315 - mse: 0.0010 - val_loss: 0.0281 - val_acc: 1.0000 - val_mae: 0.0291 - val_mse: 8.6565e-04\n",
      "Epoch 17/1000\n",
      "6567/6567 [==============================] - 1s 174us/step - loss: 0.0280 - acc: 1.0000 - mae: 0.0275 - mse: 8.0872e-04 - val_loss: 0.0247 - val_acc: 1.0000 - val_mae: 0.0257 - val_mse: 6.7875e-04\n",
      "Epoch 18/1000\n",
      "6567/6567 [==============================] - 1s 187us/step - loss: 0.0248 - acc: 1.0000 - mae: 0.0245 - mse: 6.2337e-04 - val_loss: 0.0221 - val_acc: 1.0000 - val_mae: 0.0230 - val_mse: 5.3302e-04\n",
      "Epoch 19/1000\n",
      "6567/6567 [==============================] - 1s 212us/step - loss: 0.0222 - acc: 1.0000 - mae: 0.0220 - mse: 4.9346e-04 - val_loss: 0.0200 - val_acc: 1.0000 - val_mae: 0.0209 - val_mse: 4.3958e-04\n",
      "Epoch 20/1000\n",
      "6567/6567 [==============================] - 1s 222us/step - loss: 0.0200 - acc: 1.0000 - mae: 0.0198 - mse: 3.9891e-04 - val_loss: 0.0179 - val_acc: 1.0000 - val_mae: 0.0187 - val_mse: 3.5449e-04\n",
      "Epoch 21/1000\n",
      "6567/6567 [==============================] - 1s 216us/step - loss: 0.0183 - acc: 1.0000 - mae: 0.0181 - mse: 3.3591e-04 - val_loss: 0.0164 - val_acc: 1.0000 - val_mae: 0.0171 - val_mse: 2.9481e-04\n",
      "Epoch 22/1000\n",
      "6567/6567 [==============================] - 1s 225us/step - loss: 0.0279 - acc: 0.9976 - mae: 0.0213 - mse: 0.0027 - val_loss: 0.0160 - val_acc: 1.0000 - val_mae: 0.0167 - val_mse: 2.8059e-04\n"
     ]
    }
   ],
   "source": [
    "from keras import Sequential\n",
    "from keras.layers import Dense,LSTM,Embedding\n",
    "from keras import layers\n",
    "import keras\n",
    "callbacks_list = [keras.callbacks.EarlyStopping(monitor='loss',patience=1,),\n",
    "keras.callbacks.ModelCheckpoint(filepath='my_model.h5',monitor='val_loss',save_best_only=True,)]\n",
    "\n",
    "model_lstm = Sequential()\n",
    "\n",
    "model_lstm.add(layers.Embedding(6, 8))\n",
    "model_lstm.add(layers.LSTM(4))\n",
    "model_lstm.add(Dense(2, activation='softmax'))\n",
    "model_lstm.compile(optimizer='sgd', loss='categorical_crossentropy', metrics=['acc','mae','mse'])\n",
    "model_lstm.summary()\n",
    "history_lstm = model_lstm.fit(X_train, y_train,epochs=1000,validation_split=0.2,callbacks=callbacks_list)"
   ]
  },
  {
   "cell_type": "code",
   "execution_count": 29,
   "metadata": {},
   "outputs": [
    {
     "data": {
      "image/png": "[encoded data removed]",
      "text/plain": [
       "<Figure size 432x288 with 1 Axes>"
      ]
     },
     "metadata": {
      "needs_background": "light"
     },
     "output_type": "display_data"
    },
    {
     "data": {
      "image/png": "[encoded data removed]",
      "text/plain": [
       "<Figure size 432x288 with 1 Axes>"
      ]
     },
     "metadata": {
      "needs_background": "light"
     },
     "output_type": "display_data"
    },
    {
     "data": {
      "image/png": "[encoded data removed]",
      "text/plain": [
       "<Figure size 432x288 with 1 Axes>"
      ]
     },
     "metadata": {
      "needs_background": "light"
     },
     "output_type": "display_data"
    },
    {
     "data": {
      "image/png": "[encoded data removed]",
      "text/plain": [
       "<Figure size 432x288 with 1 Axes>"
      ]
     },
     "metadata": {
      "needs_background": "light"
     },
     "output_type": "display_data"
    }
   ],
   "source": [
    "import matplotlib.pyplot as plt\n",
    "loss = history_lstm.history['loss']\n",
    "val_loss = history_lstm.history['val_loss']\n",
    "mse = history_lstm.history['mse']\n",
    "val_mse = history_lstm.history['val_mse']\n",
    "mae = history_lstm.history['mae']\n",
    "val_mae = history_lstm.history['val_mae']\n",
    "acc = history_lstm.history['acc']\n",
    "val_acc = history_lstm.history['val_acc']\n",
    "\n",
    "epochs = range(1, len(loss) + 1)\n",
    "\n",
    "plt.figure()\n",
    "plt.plot(epochs, loss, 'bo', label='Training loss')\n",
    "plt.plot(epochs, val_loss, 'r', label='Validation loss')\n",
    "plt.xlabel('Epochs')\n",
    "plt.ylabel('Loss')\n",
    "plt.title('Training and validation Loss for LSTM-NA model with Under-sampling')\n",
    "plt.legend()\n",
    "plt.show()\n",
    "\n",
    "plt.figure()\n",
    "plt.plot(epochs, mse, 'ro', label='Training mse')\n",
    "plt.plot(epochs, val_mse, 'b', label='Validation mse')\n",
    "plt.xlabel('Epochs')\n",
    "plt.ylabel('MSE')\n",
    "plt.title('Training and validation MSE for LSTM-NA model')\n",
    "plt.legend()\n",
    "plt.show()\n",
    "\n",
    "plt.figure()\n",
    "plt.plot(epochs, loss, 'go', label='Training mae')\n",
    "plt.plot(epochs, val_loss, 'r', label='Validation mae')\n",
    "plt.xlabel('Epochs')\n",
    "plt.ylabel('MAE')\n",
    "plt.title('Training and validation MAE for LSTM-NA model')\n",
    "plt.legend()\n",
    "plt.show()\n",
    "\n",
    "plt.figure()\n",
    "plt.plot(epochs, acc, 'co', label='Training acc')\n",
    "plt.plot(epochs, val_acc, 'r', label='Validation acc')\n",
    "plt.xlabel('Epochs')\n",
    "plt.ylabel('Accuracy')\n",
    "plt.title('Training and validation Acc for LSTM-NA model')\n",
    "plt.legend()\n",
    "plt.show()\n"
   ]
  },
  {
   "cell_type": "code",
   "execution_count": 24,
   "metadata": {},
   "outputs": [
    {
     "name": "stdout",
     "output_type": "stream",
     "text": [
      "Model: \"sequential_2\"\n",
      "_________________________________________________________________\n",
      "Layer (type)                 Output Shape              Param #   \n",
      "=================================================================\n",
      "embedding_2 (Embedding)      (None, None, 8)           48        \n",
      "_________________________________________________________________\n",
      "lstm_2 (LSTM)                (None, 4)                 208       \n",
      "_________________________________________________________________\n",
      "dense_2 (Dense)              (None, 2)                 10        \n",
      "=================================================================\n",
      "Total params: 266\n",
      "Trainable params: 266\n",
      "Non-trainable params: 0\n",
      "_________________________________________________________________\n",
      "Train on 6567 samples, validate on 1642 samples\n",
      "Epoch 1/1000\n",
      "6567/6567 [==============================] - 1s 216us/step - loss: 0.6901 - acc: 0.5514 - mae: 0.4985 - mse: 0.2485 - val_loss: 0.6865 - val_acc: 1.0000 - val_mae: 0.4966 - val_mse: 0.2467\n",
      "Epoch 2/1000\n",
      "6567/6567 [==============================] - 1s 167us/step - loss: 0.6831 - acc: 0.9499 - mae: 0.4949 - mse: 0.2450 - val_loss: 0.6742 - val_acc: 1.0000 - val_mae: 0.4930 - val_mse: 0.2431\n",
      "Epoch 3/1000\n",
      "6567/6567 [==============================] - 1s 164us/step - loss: 0.6750 - acc: 0.9083 - mae: 0.4908 - mse: 0.2409 - val_loss: 0.6655 - val_acc: 1.0000 - val_mae: 0.4885 - val_mse: 0.2387\n",
      "Epoch 4/1000\n",
      "6567/6567 [==============================] - 1s 166us/step - loss: 0.6641 - acc: 0.9851 - mae: 0.4852 - mse: 0.2355 - val_loss: 0.6387 - val_acc: 1.0000 - val_mae: 0.4811 - val_mse: 0.2315\n",
      "Epoch 5/1000\n",
      "6567/6567 [==============================] - 1s 164us/step - loss: 0.6465 - acc: 1.0000 - mae: 0.4760 - mse: 0.2267 - val_loss: 0.6097 - val_acc: 1.0000 - val_mae: 0.4693 - val_mse: 0.2203\n",
      "Epoch 6/1000\n",
      "6567/6567 [==============================] - 1s 165us/step - loss: 0.6171 - acc: 1.0000 - mae: 0.4602 - mse: 0.2121 - val_loss: 0.5572 - val_acc: 1.0000 - val_mae: 0.4492 - val_mse: 0.2022\n",
      "Epoch 7/1000\n",
      "6567/6567 [==============================] - 1s 164us/step - loss: 0.5676 - acc: 1.0000 - mae: 0.4326 - mse: 0.1877 - val_loss: 0.4791 - val_acc: 1.0000 - val_mae: 0.4115 - val_mse: 0.1699\n",
      "Epoch 8/1000\n",
      "6567/6567 [==============================] - 1s 165us/step - loss: 0.4954 - acc: 1.0000 - mae: 0.3900 - mse: 0.1529 - val_loss: 0.3994 - val_acc: 1.0000 - val_mae: 0.3650 - val_mse: 0.1344\n",
      "Epoch 9/1000\n",
      "6567/6567 [==============================] - 1s 176us/step - loss: 0.4158 - acc: 1.0000 - mae: 0.3395 - mse: 0.1162 - val_loss: 0.3182 - val_acc: 1.0000 - val_mae: 0.3101 - val_mse: 0.0973\n",
      "Epoch 10/1000\n",
      "6567/6567 [==============================] - 1s 166us/step - loss: 0.3273 - acc: 1.0000 - mae: 0.2784 - mse: 0.0786 - val_loss: 0.2391 - val_acc: 1.0000 - val_mae: 0.2434 - val_mse: 0.0603\n",
      "Epoch 11/1000\n",
      "6567/6567 [==============================] - 1s 165us/step - loss: 0.2439 - acc: 1.0000 - mae: 0.2159 - mse: 0.0475 - val_loss: 0.1717 - val_acc: 1.0000 - val_mae: 0.1869 - val_mse: 0.0359\n",
      "Epoch 12/1000\n",
      "6567/6567 [==============================] - 1s 163us/step - loss: 0.1822 - acc: 1.0000 - mae: 0.1662 - mse: 0.0283 - val_loss: 0.1297 - val_acc: 1.0000 - val_mae: 0.1467 - val_mse: 0.0216\n",
      "Epoch 13/1000\n",
      "6567/6567 [==============================] - 1s 166us/step - loss: 0.1399 - acc: 1.0000 - mae: 0.1303 - mse: 0.0174 - val_loss: 0.0966 - val_acc: 1.0000 - val_mae: 0.1142 - val_mse: 0.0136\n",
      "Epoch 14/1000\n",
      "6567/6567 [==============================] - 1s 166us/step - loss: 0.1087 - acc: 1.0000 - mae: 0.1028 - mse: 0.0109 - val_loss: 0.0747 - val_acc: 1.0000 - val_mae: 0.0913 - val_mse: 0.0086\n",
      "Epoch 15/1000\n",
      "6567/6567 [==============================] - 1s 165us/step - loss: 0.0854 - acc: 1.0000 - mae: 0.0818 - mse: 0.0069 - val_loss: 0.0589 - val_acc: 1.0000 - val_mae: 0.0728 - val_mse: 0.0054\n",
      "Epoch 16/1000\n",
      "6567/6567 [==============================] - 1s 166us/step - loss: 0.0692 - acc: 1.0000 - mae: 0.0667 - mse: 0.0046 - val_loss: 0.0476 - val_acc: 1.0000 - val_mae: 0.0604 - val_mse: 0.0038\n",
      "Epoch 17/1000\n",
      "6567/6567 [==============================] - 1s 167us/step - loss: 0.0574 - acc: 1.0000 - mae: 0.0557 - mse: 0.0032 - val_loss: 0.0399 - val_acc: 1.0000 - val_mae: 0.0511 - val_mse: 0.0027\n",
      "Epoch 18/1000\n",
      "6567/6567 [==============================] - 1s 182us/step - loss: 0.0489 - acc: 1.0000 - mae: 0.0477 - mse: 0.0024 - val_loss: 0.0344 - val_acc: 1.0000 - val_mae: 0.0442 - val_mse: 0.0021\n",
      "Epoch 19/1000\n",
      "6567/6567 [==============================] - 1s 177us/step - loss: 0.0424 - acc: 1.0000 - mae: 0.0415 - mse: 0.0018 - val_loss: 0.0301 - val_acc: 1.0000 - val_mae: 0.0388 - val_mse: 0.0016\n",
      "Epoch 20/1000\n",
      "6567/6567 [==============================] - 1s 173us/step - loss: 0.0371 - acc: 1.0000 - mae: 0.0364 - mse: 0.0014 - val_loss: 0.0262 - val_acc: 1.0000 - val_mae: 0.0339 - val_mse: 0.0012\n",
      "Epoch 21/1000\n",
      "6567/6567 [==============================] - 1s 173us/step - loss: 0.0326 - acc: 1.0000 - mae: 0.0321 - mse: 0.0011 - val_loss: 0.0233 - val_acc: 1.0000 - val_mae: 0.0301 - val_mse: 9.5004e-04\n",
      "Epoch 22/1000\n",
      "6567/6567 [==============================] - 1s 170us/step - loss: 0.0292 - acc: 1.0000 - mae: 0.0287 - mse: 8.6821e-04 - val_loss: 0.0209 - val_acc: 1.0000 - val_mae: 0.0271 - val_mse: 7.7428e-04\n",
      "Epoch 23/1000\n",
      "6567/6567 [==============================] - 1s 169us/step - loss: 0.0258 - acc: 1.0000 - mae: 0.0254 - mse: 6.7920e-04 - val_loss: 0.0184 - val_acc: 1.0000 - val_mae: 0.0239 - val_mse: 6.0978e-04\n",
      "Epoch 24/1000\n",
      "6567/6567 [==============================] - 2s 229us/step - loss: 0.0230 - acc: 1.0000 - mae: 0.0228 - mse: 5.4466e-04 - val_loss: 0.0166 - val_acc: 1.0000 - val_mae: 0.0216 - val_mse: 4.9221e-04\n",
      "Epoch 25/1000\n",
      "6567/6567 [==============================] - 1s 166us/step - loss: 0.0212 - acc: 1.0000 - mae: 0.0209 - mse: 4.5799e-04 - val_loss: 0.0155 - val_acc: 1.0000 - val_mae: 0.0202 - val_mse: 4.1937e-04\n",
      "Epoch 26/1000\n",
      "6567/6567 [==============================] - 1s 166us/step - loss: 0.0196 - acc: 1.0000 - mae: 0.0194 - mse: 3.8556e-04 - val_loss: 0.0145 - val_acc: 1.0000 - val_mae: 0.0189 - val_mse: 3.5720e-04\n",
      "Epoch 27/1000\n",
      "6567/6567 [==============================] - 1s 184us/step - loss: 0.0188 - acc: 1.0000 - mae: 0.0187 - mse: 3.4941e-04 - val_loss: 0.0140 - val_acc: 1.0000 - val_mae: 0.0182 - val_mse: 3.3387e-04\n",
      "Epoch 28/1000\n",
      "6567/6567 [==============================] - 1s 173us/step - loss: 0.0179 - acc: 1.0000 - mae: 0.0177 - mse: 3.1838e-04 - val_loss: 0.0134 - val_acc: 1.0000 - val_mae: 0.0175 - val_mse: 3.1560e-04\n",
      "Epoch 29/1000\n",
      "6567/6567 [==============================] - 1s 168us/step - loss: 0.0168 - acc: 1.0000 - mae: 0.0166 - mse: 2.8628e-04 - val_loss: 0.0122 - val_acc: 1.0000 - val_mae: 0.0159 - val_mse: 2.5557e-04\n",
      "Epoch 30/1000\n",
      "6567/6567 [==============================] - 1s 170us/step - loss: 0.0153 - acc: 1.0000 - mae: 0.0152 - mse: 2.3295e-04 - val_loss: 0.0114 - val_acc: 1.0000 - val_mae: 0.0149 - val_mse: 2.2745e-04\n",
      "Epoch 31/1000\n",
      "6567/6567 [==============================] - 1s 164us/step - loss: 0.0146 - acc: 1.0000 - mae: 0.0145 - mse: 2.1797e-04 - val_loss: 0.0113 - val_acc: 1.0000 - val_mae: 0.0148 - val_mse: 2.2427e-04\n",
      "Epoch 32/1000\n",
      "6567/6567 [==============================] - 1s 177us/step - loss: 0.0153 - acc: 1.0000 - mae: 0.0152 - mse: 2.4657e-04 - val_loss: 0.0119 - val_acc: 1.0000 - val_mae: 0.0155 - val_mse: 2.6348e-04\n",
      "Epoch 33/1000\n",
      "6567/6567 [==============================] - 1s 183us/step - loss: 0.0159 - acc: 1.0000 - mae: 0.0158 - mse: 2.8204e-04 - val_loss: 0.0121 - val_acc: 1.0000 - val_mae: 0.0158 - val_mse: 2.8348e-04\n",
      "Epoch 34/1000\n",
      "6567/6567 [==============================] - 1s 173us/step - loss: 0.0158 - acc: 1.0000 - mae: 0.0157 - mse: 2.8064e-04 - val_loss: 0.0122 - val_acc: 1.0000 - val_mae: 0.0159 - val_mse: 2.9022e-04\n",
      "Epoch 35/1000\n",
      "6567/6567 [==============================] - 1s 177us/step - loss: 0.0158 - acc: 1.0000 - mae: 0.0157 - mse: 2.8602e-04 - val_loss: 0.0123 - val_acc: 1.0000 - val_mae: 0.0161 - val_mse: 3.0894e-04\n",
      "Epoch 36/1000\n",
      "6567/6567 [==============================] - 1s 172us/step - loss: 0.0158 - acc: 1.0000 - mae: 0.0156 - mse: 2.8416e-04 - val_loss: 0.0121 - val_acc: 1.0000 - val_mae: 0.0158 - val_mse: 2.8447e-04\n"
     ]
    },
    {
     "name": "stdout",
     "output_type": "stream",
     "text": [
      "Epoch 37/1000\n",
      "6567/6567 [==============================] - 1s 175us/step - loss: 0.0166 - acc: 1.0000 - mae: 0.0164 - mse: 3.2025e-04 - val_loss: 0.0131 - val_acc: 1.0000 - val_mae: 0.0171 - val_mse: 3.4465e-04\n",
      "Epoch 38/1000\n",
      "6567/6567 [==============================] - 1s 175us/step - loss: 0.0173 - acc: 1.0000 - mae: 0.0171 - mse: 3.4449e-04 - val_loss: 0.0134 - val_acc: 1.0000 - val_mae: 0.0174 - val_mse: 3.5208e-04\n",
      "Epoch 39/1000\n",
      "6567/6567 [==============================] - 1s 170us/step - loss: 0.0179 - acc: 1.0000 - mae: 0.0177 - mse: 3.7429e-04 - val_loss: 0.0139 - val_acc: 1.0000 - val_mae: 0.0181 - val_mse: 3.8050e-04\n",
      "Epoch 40/1000\n",
      "6567/6567 [==============================] - 1s 165us/step - loss: 0.0185 - acc: 1.0000 - mae: 0.0183 - mse: 3.9689e-04 - val_loss: 0.0145 - val_acc: 1.0000 - val_mae: 0.0188 - val_mse: 4.1137e-04\n",
      "Epoch 41/1000\n",
      "6567/6567 [==============================] - 1s 167us/step - loss: 0.0192 - acc: 1.0000 - mae: 0.0190 - mse: 4.2717e-04 - val_loss: 0.0149 - val_acc: 1.0000 - val_mae: 0.0193 - val_mse: 4.4045e-04\n",
      "Epoch 42/1000\n",
      "6567/6567 [==============================] - 1s 174us/step - loss: 0.0191 - acc: 1.0000 - mae: 0.0189 - mse: 4.1889e-04 - val_loss: 0.0141 - val_acc: 1.0000 - val_mae: 0.0184 - val_mse: 3.8124e-04\n",
      "Epoch 43/1000\n",
      "6567/6567 [==============================] - 2s 236us/step - loss: 0.0182 - acc: 1.0000 - mae: 0.0180 - mse: 3.7553e-04 - val_loss: 0.0133 - val_acc: 1.0000 - val_mae: 0.0174 - val_mse: 3.4171e-04\n",
      "Epoch 44/1000\n",
      "6567/6567 [==============================] - 2s 235us/step - loss: 0.0168 - acc: 1.0000 - mae: 0.0166 - mse: 3.1267e-04 - val_loss: 0.0126 - val_acc: 1.0000 - val_mae: 0.0163 - val_mse: 3.0055e-04\n",
      "Epoch 45/1000\n",
      "6567/6567 [==============================] - 2s 238us/step - loss: 1.5818 - acc: 0.6170 - mae: 0.4086 - mse: 0.3686 - val_loss: 1.5816 - val_acc: 0.4921 - val_mae: 0.6012 - val_mse: 0.4795\n",
      "Epoch 46/1000\n",
      "6567/6567 [==============================] - 2s 237us/step - loss: 0.1799 - acc: 0.9630 - mae: 0.1265 - mse: 0.0390 - val_loss: 0.0972 - val_acc: 1.0000 - val_mae: 0.0690 - val_mse: 0.0052\n",
      "Epoch 47/1000\n",
      "6567/6567 [==============================] - 1s 228us/step - loss: 0.2127 - acc: 0.9816 - mae: 0.1732 - mse: 0.0547 - val_loss: 0.6304 - val_acc: 1.0000 - val_mae: 0.2833 - val_mse: 0.1092\n",
      "Epoch 48/1000\n",
      "6567/6567 [==============================] - 1s 224us/step - loss: 0.3021 - acc: 0.9999 - mae: 0.2489 - mse: 0.0795 - val_loss: 0.4888 - val_acc: 1.0000 - val_mae: 0.2157 - val_mse: 0.0563\n",
      "Epoch 49/1000\n",
      "6567/6567 [==============================] - 1s 214us/step - loss: 0.2109 - acc: 0.9999 - mae: 0.1856 - mse: 0.0418 - val_loss: 0.3911 - val_acc: 1.0000 - val_mae: 0.1670 - val_mse: 0.0325\n",
      "Epoch 50/1000\n",
      "6567/6567 [==============================] - 1s 218us/step - loss: 0.1687 - acc: 1.0000 - mae: 0.1532 - mse: 0.0269 - val_loss: 0.3241 - val_acc: 1.0000 - val_mae: 0.1414 - val_mse: 0.0225\n",
      "Epoch 51/1000\n",
      "6567/6567 [==============================] - 1s 181us/step - loss: 0.1414 - acc: 1.0001 - mae: 0.1306 - mse: 0.0192 - val_loss: 0.3006 - val_acc: 1.0000 - val_mae: 0.1206 - val_mse: 0.0163\n",
      "Epoch 52/1000\n",
      "6567/6567 [==============================] - 1s 175us/step - loss: 0.1212 - acc: 0.9997 - mae: 0.1133 - mse: 0.0143 - val_loss: 0.2682 - val_acc: 1.0000 - val_mae: 0.1086 - val_mse: 0.0129\n",
      "Epoch 53/1000\n",
      "6567/6567 [==============================] - 1s 175us/step - loss: 0.1066 - acc: 1.0001 - mae: 0.1006 - mse: 0.0111 - val_loss: 0.2381 - val_acc: 1.0000 - val_mae: 0.0949 - val_mse: 0.0098\n",
      "Epoch 54/1000\n",
      "6567/6567 [==============================] - 1s 165us/step - loss: 0.0945 - acc: 1.0000 - mae: 0.0897 - mse: 0.0088 - val_loss: 0.2134 - val_acc: 1.0000 - val_mae: 0.0855 - val_mse: 0.0080\n",
      "Epoch 55/1000\n",
      "6567/6567 [==============================] - 1s 168us/step - loss: 0.0857 - acc: 0.9998 - mae: 0.0818 - mse: 0.0073 - val_loss: 0.1954 - val_acc: 1.0000 - val_mae: 0.0787 - val_mse: 0.0067\n",
      "Epoch 56/1000\n",
      "6567/6567 [==============================] - 1s 173us/step - loss: 0.0786 - acc: 1.0000 - mae: 0.0753 - mse: 0.0061 - val_loss: 0.1794 - val_acc: 1.0000 - val_mae: 0.0725 - val_mse: 0.0057\n",
      "Epoch 57/1000\n",
      "6567/6567 [==============================] - 1s 168us/step - loss: 0.0717 - acc: 1.0000 - mae: 0.0690 - mse: 0.0052 - val_loss: 0.1753 - val_acc: 1.0000 - val_mae: 0.0666 - val_mse: 0.0048\n",
      "Epoch 58/1000\n",
      "6567/6567 [==============================] - 1s 168us/step - loss: 0.0664 - acc: 0.9998 - mae: 0.0644 - mse: 0.0044 - val_loss: 0.2014 - val_acc: 1.0000 - val_mae: 0.0624 - val_mse: 0.0042\n",
      "Epoch 59/1000\n",
      "6567/6567 [==============================] - 1s 175us/step - loss: 0.0623 - acc: 1.0000 - mae: 0.0603 - mse: 0.0039 - val_loss: 0.2032 - val_acc: 1.0000 - val_mae: 0.0590 - val_mse: 0.0037\n",
      "Epoch 60/1000\n",
      "6567/6567 [==============================] - 1s 180us/step - loss: 0.0585 - acc: 0.9998 - mae: 0.0569 - mse: 0.0034 - val_loss: 0.2002 - val_acc: 1.0000 - val_mae: 0.0550 - val_mse: 0.0032\n",
      "Epoch 61/1000\n",
      "6567/6567 [==============================] - 1s 187us/step - loss: 0.0542 - acc: 1.0000 - mae: 0.0527 - mse: 0.0030 - val_loss: 0.1896 - val_acc: 1.0000 - val_mae: 0.0510 - val_mse: 0.0028\n",
      "Epoch 62/1000\n",
      "6567/6567 [==============================] - 1s 175us/step - loss: 0.0504 - acc: 0.9999 - mae: 0.0491 - mse: 0.0026 - val_loss: 0.1884 - val_acc: 1.0000 - val_mae: 0.0482 - val_mse: 0.0025\n",
      "Epoch 63/1000\n",
      "6567/6567 [==============================] - 1s 174us/step - loss: 0.0476 - acc: 1.0001 - mae: 0.0466 - mse: 0.0023 - val_loss: 0.1763 - val_acc: 1.0000 - val_mae: 0.0451 - val_mse: 0.0022\n",
      "Epoch 64/1000\n",
      "6567/6567 [==============================] - 1s 169us/step - loss: 0.0453 - acc: 1.0000 - mae: 0.0442 - mse: 0.0021 - val_loss: 0.1776 - val_acc: 1.0000 - val_mae: 0.0438 - val_mse: 0.0020\n",
      "Epoch 65/1000\n",
      "6567/6567 [==============================] - 1s 186us/step - loss: 0.0433 - acc: 0.9999 - mae: 0.0423 - mse: 0.0021 - val_loss: 0.1842 - val_acc: 1.0000 - val_mae: 0.0414 - val_mse: 0.0018\n",
      "Epoch 66/1000\n",
      "6567/6567 [==============================] - 1s 170us/step - loss: 0.0413 - acc: 1.0000 - mae: 0.0404 - mse: 0.0017 - val_loss: 0.1867 - val_acc: 1.0000 - val_mae: 0.0395 - val_mse: 0.0017\n",
      "Epoch 67/1000\n",
      "6567/6567 [==============================] - 1s 170us/step - loss: 0.0391 - acc: 0.9997 - mae: 0.0383 - mse: 0.0016 - val_loss: 0.1770 - val_acc: 1.0000 - val_mae: 0.0375 - val_mse: 0.0015\n",
      "Epoch 68/1000\n",
      "6567/6567 [==============================] - 1s 175us/step - loss: 0.0373 - acc: 1.0002 - mae: 0.0366 - mse: 0.0014 - val_loss: 0.1769 - val_acc: 1.0000 - val_mae: 0.0359 - val_mse: 0.0014\n",
      "Epoch 69/1000\n",
      "6567/6567 [==============================] - 1s 170us/step - loss: 0.0357 - acc: 0.9998 - mae: 0.0350 - mse: 0.0014 - val_loss: 0.1795 - val_acc: 1.0000 - val_mae: 0.0344 - val_mse: 0.0013\n",
      "Epoch 70/1000\n",
      "6567/6567 [==============================] - 1s 181us/step - loss: 0.0342 - acc: 0.9998 - mae: 0.0336 - mse: 0.0012 - val_loss: 0.1775 - val_acc: 1.0000 - val_mae: 0.0332 - val_mse: 0.0012\n",
      "Epoch 71/1000\n",
      "6567/6567 [==============================] - 1s 176us/step - loss: 0.0329 - acc: 1.0000 - mae: 0.0323 - mse: 0.0011 - val_loss: 0.1703 - val_acc: 1.0000 - val_mae: 0.0319 - val_mse: 0.0011\n",
      "Epoch 72/1000\n",
      "6567/6567 [==============================] - 1s 167us/step - loss: 0.0315 - acc: 1.0001 - mae: 0.0310 - mse: 0.0010 - val_loss: 0.1677 - val_acc: 1.0000 - val_mae: 0.0304 - val_mse: 0.0010\n",
      "Epoch 73/1000\n",
      "6567/6567 [==============================] - 1s 179us/step - loss: 0.0304 - acc: 1.0000 - mae: 0.0299 - mse: 0.0011 - val_loss: 0.1686 - val_acc: 1.0000 - val_mae: 0.0296 - val_mse: 9.4162e-04\n",
      "Epoch 74/1000\n",
      "6567/6567 [==============================] - 1s 171us/step - loss: 0.0295 - acc: 1.0001 - mae: 0.0290 - mse: 9.0563e-04 - val_loss: 0.1715 - val_acc: 1.0000 - val_mae: 0.0286 - val_mse: 8.8282e-04\n",
      "Epoch 75/1000\n",
      "6567/6567 [==============================] - 1s 181us/step - loss: 0.0285 - acc: 1.0000 - mae: 0.0280 - mse: 8.6923e-04 - val_loss: 0.1651 - val_acc: 1.0000 - val_mae: 0.0276 - val_mse: 8.2205e-04\n",
      "Epoch 76/1000\n",
      "6567/6567 [==============================] - 1s 173us/step - loss: 0.0274 - acc: 1.0001 - mae: 0.0270 - mse: 7.8859e-04 - val_loss: 0.1657 - val_acc: 1.0000 - val_mae: 0.0267 - val_mse: 7.7242e-04\n"
     ]
    },
    {
     "name": "stdout",
     "output_type": "stream",
     "text": [
      "Epoch 77/1000\n",
      "6567/6567 [==============================] - 1s 168us/step - loss: 0.0267 - acc: 1.0000 - mae: 0.0264 - mse: 8.1083e-04 - val_loss: 0.1635 - val_acc: 1.0000 - val_mae: 0.0260 - val_mse: 7.3126e-04\n",
      "Epoch 78/1000\n",
      "6567/6567 [==============================] - 1s 178us/step - loss: 0.0259 - acc: 1.0001 - mae: 0.0255 - mse: 7.0279e-04 - val_loss: 0.1630 - val_acc: 1.0000 - val_mae: 0.0254 - val_mse: 6.9208e-04\n",
      "Epoch 79/1000\n",
      "6567/6567 [==============================] - 1s 167us/step - loss: 0.0252 - acc: 1.0000 - mae: 0.0249 - mse: 7.6424e-04 - val_loss: 0.1610 - val_acc: 1.0000 - val_mae: 0.0247 - val_mse: 6.5494e-04\n",
      "Epoch 80/1000\n",
      "6567/6567 [==============================] - 1s 182us/step - loss: 0.0245 - acc: 1.0001 - mae: 0.0242 - mse: 6.3122e-04 - val_loss: 0.1603 - val_acc: 1.0000 - val_mae: 0.0240 - val_mse: 6.2086e-04\n",
      "Epoch 81/1000\n",
      "6567/6567 [==============================] - 1s 168us/step - loss: 0.0239 - acc: 1.0000 - mae: 0.0236 - mse: 7.1122e-04 - val_loss: 0.1602 - val_acc: 1.0000 - val_mae: 0.0234 - val_mse: 5.8677e-04\n",
      "Epoch 82/1000\n",
      "6567/6567 [==============================] - 1s 172us/step - loss: 0.0233 - acc: 1.0001 - mae: 0.0230 - mse: 5.6941e-04 - val_loss: 0.1596 - val_acc: 1.0000 - val_mae: 0.0230 - val_mse: 5.6363e-04\n",
      "Epoch 83/1000\n",
      "6567/6567 [==============================] - 1s 172us/step - loss: 0.0228 - acc: 1.0000 - mae: 0.0225 - mse: 6.6301e-04 - val_loss: 0.1571 - val_acc: 1.0000 - val_mae: 0.0223 - val_mse: 5.3307e-04\n",
      "Epoch 84/1000\n",
      "6567/6567 [==============================] - 1s 171us/step - loss: 0.0222 - acc: 1.0001 - mae: 0.0220 - mse: 5.1761e-04 - val_loss: 0.1566 - val_acc: 1.0000 - val_mae: 0.0219 - val_mse: 5.1087e-04\n",
      "Epoch 85/1000\n",
      "6567/6567 [==============================] - 1s 171us/step - loss: 0.0218 - acc: 1.0000 - mae: 0.0215 - mse: 5.2181e-04 - val_loss: 0.1532 - val_acc: 1.0000 - val_mae: 0.0214 - val_mse: 4.8859e-04\n",
      "Epoch 86/1000\n",
      "6567/6567 [==============================] - 1s 171us/step - loss: 0.0212 - acc: 1.0000 - mae: 0.0209 - mse: 4.7028e-04 - val_loss: 0.1484 - val_acc: 1.0000 - val_mae: 0.0207 - val_mse: 4.6098e-04\n",
      "Epoch 87/1000\n",
      "6567/6567 [==============================] - 1s 170us/step - loss: 0.0206 - acc: 1.0000 - mae: 0.0203 - mse: 4.6752e-04 - val_loss: 0.1446 - val_acc: 1.0000 - val_mae: 0.0202 - val_mse: 4.3850e-04\n",
      "Epoch 88/1000\n",
      "6567/6567 [==============================] - 1s 167us/step - loss: 0.0201 - acc: 1.0000 - mae: 0.0199 - mse: 4.6290e-04 - val_loss: 0.1422 - val_acc: 1.0000 - val_mae: 0.0199 - val_mse: 4.2278e-04\n",
      "Epoch 89/1000\n",
      "6567/6567 [==============================] - 1s 167us/step - loss: 0.0198 - acc: 1.0000 - mae: 0.0196 - mse: 4.0989e-04 - val_loss: 0.1393 - val_acc: 1.0000 - val_mae: 0.0195 - val_mse: 4.0543e-04\n",
      "Epoch 90/1000\n",
      "6567/6567 [==============================] - 1s 170us/step - loss: 0.0193 - acc: 1.0000 - mae: 0.0191 - mse: 4.2183e-04 - val_loss: 0.1358 - val_acc: 1.0000 - val_mae: 0.0190 - val_mse: 3.8605e-04\n",
      "Epoch 91/1000\n",
      "6567/6567 [==============================] - 1s 170us/step - loss: 0.0189 - acc: 1.0000 - mae: 0.0188 - mse: 3.9483e-04 - val_loss: 0.1343 - val_acc: 1.0000 - val_mae: 0.0188 - val_mse: 3.7548e-04\n",
      "Epoch 92/1000\n",
      "6567/6567 [==============================] - 1s 172us/step - loss: 0.0187 - acc: 1.0000 - mae: 0.0185 - mse: 3.9556e-04 - val_loss: 0.1319 - val_acc: 1.0000 - val_mae: 0.0184 - val_mse: 3.6166e-04\n",
      "Epoch 93/1000\n",
      "6567/6567 [==============================] - 1s 228us/step - loss: 0.0183 - acc: 1.0000 - mae: 0.0181 - mse: 3.6849e-04 - val_loss: 0.1284 - val_acc: 1.0000 - val_mae: 0.0180 - val_mse: 3.4432e-04\n",
      "Epoch 94/1000\n",
      "6567/6567 [==============================] - 2s 252us/step - loss: 0.0179 - acc: 1.0000 - mae: 0.0177 - mse: 3.6628e-04 - val_loss: 0.1257 - val_acc: 1.0000 - val_mae: 0.0176 - val_mse: 3.3056e-04\n",
      "Epoch 95/1000\n",
      "6567/6567 [==============================] - 2s 243us/step - loss: 0.0175 - acc: 1.0000 - mae: 0.0174 - mse: 3.4688e-04 - val_loss: 0.1232 - val_acc: 1.0000 - val_mae: 0.0172 - val_mse: 3.1767e-04\n",
      "Epoch 96/1000\n",
      "6567/6567 [==============================] - 1s 226us/step - loss: 0.0171 - acc: 1.0000 - mae: 0.0170 - mse: 3.2067e-04 - val_loss: 0.1205 - val_acc: 1.0000 - val_mae: 0.0169 - val_mse: 3.0445e-04\n",
      "Epoch 97/1000\n",
      "6567/6567 [==============================] - 2s 247us/step - loss: 0.0167 - acc: 1.0000 - mae: 0.0166 - mse: 3.0747e-04 - val_loss: 0.1180 - val_acc: 1.0000 - val_mae: 0.0165 - val_mse: 2.9261e-04\n",
      "Epoch 98/1000\n",
      "6567/6567 [==============================] - 2s 244us/step - loss: 0.0164 - acc: 1.0000 - mae: 0.0163 - mse: 3.0258e-04 - val_loss: 0.1160 - val_acc: 1.0000 - val_mae: 0.0162 - val_mse: 2.8277e-04\n",
      "Epoch 99/1000\n",
      "6567/6567 [==============================] - 2s 262us/step - loss: 0.0162 - acc: 1.0000 - mae: 0.0161 - mse: 2.8607e-04 - val_loss: 0.1146 - val_acc: 1.0000 - val_mae: 0.0160 - val_mse: 2.7506e-04\n",
      "Epoch 100/1000\n",
      "6567/6567 [==============================] - 2s 278us/step - loss: 0.0159 - acc: 1.0000 - mae: 0.0158 - mse: 2.6675e-04 - val_loss: 0.1119 - val_acc: 1.0000 - val_mae: 0.0157 - val_mse: 2.6341e-04\n",
      "Epoch 101/1000\n",
      "6567/6567 [==============================] - 1s 171us/step - loss: 0.0156 - acc: 1.0000 - mae: 0.0155 - mse: 2.5633e-04 - val_loss: 0.1101 - val_acc: 1.0000 - val_mae: 0.0154 - val_mse: 2.5482e-04\n",
      "Epoch 102/1000\n",
      "6567/6567 [==============================] - 1s 171us/step - loss: 0.0154 - acc: 1.0000 - mae: 0.0153 - mse: 2.8337e-04 - val_loss: 0.1086 - val_acc: 1.0000 - val_mae: 0.0152 - val_mse: 2.4737e-04\n",
      "Epoch 103/1000\n",
      "6567/6567 [==============================] - 1s 172us/step - loss: 0.0151 - acc: 1.0000 - mae: 0.0150 - mse: 2.6770e-04 - val_loss: 0.1061 - val_acc: 1.0000 - val_mae: 0.0149 - val_mse: 2.3727e-04\n",
      "Epoch 104/1000\n",
      "6567/6567 [==============================] - 1s 178us/step - loss: 0.0147 - acc: 1.0000 - mae: 0.0147 - mse: 2.6146e-04 - val_loss: 0.1037 - val_acc: 1.0000 - val_mae: 0.0145 - val_mse: 2.2749e-04\n",
      "Epoch 105/1000\n",
      "6567/6567 [==============================] - 1s 172us/step - loss: 0.0145 - acc: 1.0000 - mae: 0.0145 - mse: 2.2251e-04 - val_loss: 0.1021 - val_acc: 1.0000 - val_mae: 0.0143 - val_mse: 2.2032e-04\n",
      "Epoch 106/1000\n",
      "6567/6567 [==============================] - 1s 172us/step - loss: 0.0143 - acc: 1.0000 - mae: 0.0142 - mse: 2.4585e-04 - val_loss: 0.1015 - val_acc: 1.0000 - val_mae: 0.0142 - val_mse: 2.1657e-04\n",
      "Epoch 107/1000\n",
      "6567/6567 [==============================] - 1s 170us/step - loss: 0.0141 - acc: 1.0000 - mae: 0.0140 - mse: 2.2228e-04 - val_loss: 0.0994 - val_acc: 1.0000 - val_mae: 0.0139 - val_mse: 2.0835e-04\n",
      "Epoch 108/1000\n",
      "6567/6567 [==============================] - 1s 170us/step - loss: 0.0138 - acc: 1.0000 - mae: 0.0137 - mse: 2.2273e-04 - val_loss: 0.0977 - val_acc: 1.0000 - val_mae: 0.0137 - val_mse: 2.0145e-04\n",
      "Epoch 109/1000\n",
      "6567/6567 [==============================] - 1s 172us/step - loss: 0.0136 - acc: 1.0000 - mae: 0.0136 - mse: 1.9690e-04 - val_loss: 0.0961 - val_acc: 1.0000 - val_mae: 0.0135 - val_mse: 1.9520e-04\n",
      "Epoch 110/1000\n",
      "6567/6567 [==============================] - 1s 214us/step - loss: 0.0134 - acc: 1.0000 - mae: 0.0133 - mse: 2.0141e-04 - val_loss: 0.0948 - val_acc: 1.0000 - val_mae: 0.0133 - val_mse: 1.8976e-04\n",
      "Epoch 111/1000\n",
      "6567/6567 [==============================] - 1s 170us/step - loss: 0.0132 - acc: 1.0000 - mae: 0.0131 - mse: 1.8492e-04 - val_loss: 0.0932 - val_acc: 1.0000 - val_mae: 0.0131 - val_mse: 1.8355e-04\n",
      "Epoch 112/1000\n",
      "6567/6567 [==============================] - 1s 175us/step - loss: 0.0130 - acc: 1.0001 - mae: 0.0129 - mse: 2.4093e-04 - val_loss: 0.0931 - val_acc: 1.0000 - val_mae: 0.0129 - val_mse: 1.7833e-04\n",
      "Epoch 113/1000\n",
      "6567/6567 [==============================] - 1s 176us/step - loss: 0.0128 - acc: 1.0001 - mae: 0.0127 - mse: 2.2424e-04 - val_loss: 0.0928 - val_acc: 1.0000 - val_mae: 0.0127 - val_mse: 1.7373e-04\n",
      "Epoch 114/1000\n",
      "6567/6567 [==============================] - 1s 171us/step - loss: 0.0127 - acc: 1.0001 - mae: 0.0126 - mse: 2.2392e-04 - val_loss: 0.0940 - val_acc: 1.0000 - val_mae: 0.0126 - val_mse: 1.6988e-04\n",
      "Epoch 115/1000\n",
      "6567/6567 [==============================] - 1s 169us/step - loss: 0.0125 - acc: 1.0001 - mae: 0.0124 - mse: 2.3265e-04 - val_loss: 0.0945 - val_acc: 1.0000 - val_mae: 0.0125 - val_mse: 1.6601e-04\n"
     ]
    },
    {
     "name": "stdout",
     "output_type": "stream",
     "text": [
      "Epoch 116/1000\n",
      "6567/6567 [==============================] - 1s 173us/step - loss: 0.0124 - acc: 1.0000 - mae: 0.0123 - mse: 2.2029e-04 - val_loss: 0.0930 - val_acc: 1.0000 - val_mae: 0.0123 - val_mse: 1.6118e-04\n",
      "Epoch 117/1000\n",
      "6567/6567 [==============================] - 1s 187us/step - loss: 0.0122 - acc: 1.0001 - mae: 0.0121 - mse: 2.3258e-04 - val_loss: 0.0935 - val_acc: 1.0000 - val_mae: 0.0121 - val_mse: 1.5772e-04\n",
      "Epoch 118/1000\n",
      "6567/6567 [==============================] - 1s 177us/step - loss: 0.0121 - acc: 1.0001 - mae: 0.0120 - mse: 2.0054e-04 - val_loss: 0.0943 - val_acc: 1.0000 - val_mae: 0.0120 - val_mse: 1.5449e-04\n",
      "Epoch 119/1000\n",
      "6567/6567 [==============================] - 1s 173us/step - loss: 0.0119 - acc: 1.0000 - mae: 0.0119 - mse: 2.0402e-04 - val_loss: 0.0943 - val_acc: 1.0000 - val_mae: 0.0118 - val_mse: 1.4962e-04\n",
      "Epoch 120/1000\n",
      "6567/6567 [==============================] - 1s 173us/step - loss: 0.0117 - acc: 1.0001 - mae: 0.0117 - mse: 2.1235e-04 - val_loss: 0.0945 - val_acc: 1.0000 - val_mae: 0.0116 - val_mse: 1.4519e-04\n",
      "Epoch 121/1000\n",
      "6567/6567 [==============================] - 1s 173us/step - loss: 0.0116 - acc: 1.0001 - mae: 0.0115 - mse: 2.0616e-04 - val_loss: 0.0957 - val_acc: 1.0000 - val_mae: 0.0115 - val_mse: 1.4208e-04\n",
      "Epoch 122/1000\n",
      "6567/6567 [==============================] - 1s 173us/step - loss: 0.0114 - acc: 1.0001 - mae: 0.0114 - mse: 2.2725e-04 - val_loss: 0.0953 - val_acc: 1.0000 - val_mae: 0.0113 - val_mse: 1.3771e-04\n",
      "Epoch 123/1000\n",
      "6567/6567 [==============================] - 1s 173us/step - loss: 0.0113 - acc: 1.0001 - mae: 0.0112 - mse: 2.0031e-04 - val_loss: 0.0958 - val_acc: 1.0000 - val_mae: 0.0112 - val_mse: 1.3490e-04\n",
      "Epoch 124/1000\n",
      "6567/6567 [==============================] - 1s 169us/step - loss: 0.0112 - acc: 1.0001 - mae: 0.0111 - mse: 2.0282e-04 - val_loss: 0.0953 - val_acc: 1.0000 - val_mae: 0.0110 - val_mse: 1.3111e-04\n",
      "Epoch 125/1000\n",
      "6567/6567 [==============================] - 1s 181us/step - loss: 0.0110 - acc: 1.0001 - mae: 0.0109 - mse: 2.0597e-04 - val_loss: 0.0954 - val_acc: 1.0000 - val_mae: 0.0109 - val_mse: 1.2760e-04\n",
      "Epoch 126/1000\n",
      "6567/6567 [==============================] - 1s 179us/step - loss: 0.0108 - acc: 1.0000 - mae: 0.0108 - mse: 1.5643e-04 - val_loss: 0.0948 - val_acc: 1.0000 - val_mae: 0.0108 - val_mse: 1.2555e-04\n",
      "Epoch 127/1000\n",
      "6567/6567 [==============================] - 1s 193us/step - loss: 0.0108 - acc: 1.0001 - mae: 0.0107 - mse: 1.8876e-04 - val_loss: 0.0956 - val_acc: 1.0000 - val_mae: 0.0107 - val_mse: 1.2218e-04\n",
      "Epoch 128/1000\n",
      "6567/6567 [==============================] - 1s 174us/step - loss: 0.0106 - acc: 1.0001 - mae: 0.0106 - mse: 1.6974e-04 - val_loss: 0.0958 - val_acc: 1.0000 - val_mae: 0.0105 - val_mse: 1.1916e-04\n",
      "Epoch 129/1000\n",
      "6567/6567 [==============================] - 1s 174us/step - loss: 0.0105 - acc: 1.0001 - mae: 0.0104 - mse: 1.1669e-04 - val_loss: 0.0962 - val_acc: 1.0000 - val_mae: 0.0104 - val_mse: 1.1639e-04\n",
      "Epoch 130/1000\n",
      "6567/6567 [==============================] - 1s 173us/step - loss: 0.0103 - acc: 1.0001 - mae: 0.0103 - mse: 1.7492e-04 - val_loss: 0.0964 - val_acc: 1.0000 - val_mae: 0.0103 - val_mse: 1.1353e-04\n",
      "Epoch 131/1000\n",
      "6567/6567 [==============================] - 1s 172us/step - loss: 0.0102 - acc: 1.0000 - mae: 0.0102 - mse: 1.7650e-04 - val_loss: 0.0965 - val_acc: 1.0000 - val_mae: 0.0101 - val_mse: 1.1041e-04\n",
      "Epoch 132/1000\n",
      "6567/6567 [==============================] - 1s 176us/step - loss: 0.0101 - acc: 1.0000 - mae: 0.0100 - mse: 1.8164e-04 - val_loss: 0.0957 - val_acc: 1.0000 - val_mae: 0.0100 - val_mse: 1.0833e-04\n",
      "Epoch 133/1000\n",
      "6567/6567 [==============================] - 1s 173us/step - loss: 0.0100 - acc: 1.0001 - mae: 0.0099 - mse: 1.8606e-04 - val_loss: 0.0965 - val_acc: 1.0000 - val_mae: 0.0100 - val_mse: 1.0651e-04\n",
      "Epoch 134/1000\n",
      "6567/6567 [==============================] - 1s 172us/step - loss: 0.0099 - acc: 1.0001 - mae: 0.0099 - mse: 1.0448e-04 - val_loss: 0.0967 - val_acc: 1.0000 - val_mae: 0.0099 - val_mse: 1.0424e-04\n",
      "Epoch 135/1000\n",
      "6567/6567 [==============================] - 1s 168us/step - loss: 0.0098 - acc: 1.0001 - mae: 0.0097 - mse: 1.0208e-04 - val_loss: 0.0957 - val_acc: 1.0000 - val_mae: 0.0098 - val_mse: 1.0203e-04\n",
      "Epoch 136/1000\n",
      "6567/6567 [==============================] - 1s 176us/step - loss: 0.0097 - acc: 1.0001 - mae: 0.0097 - mse: 1.7833e-04 - val_loss: 0.0966 - val_acc: 1.0000 - val_mae: 0.0097 - val_mse: 1.0057e-04\n",
      "Epoch 137/1000\n",
      "6567/6567 [==============================] - 1s 173us/step - loss: 0.0096 - acc: 1.0000 - mae: 0.0096 - mse: 1.4619e-04 - val_loss: 0.0973 - val_acc: 1.0000 - val_mae: 0.0096 - val_mse: 9.7946e-05\n",
      "Epoch 138/1000\n",
      "6567/6567 [==============================] - 1s 179us/step - loss: 0.0096 - acc: 1.0001 - mae: 0.0096 - mse: 1.6559e-04 - val_loss: 0.0995 - val_acc: 1.0000 - val_mae: 0.0097 - val_mse: 9.8855e-05\n",
      "Epoch 139/1000\n",
      "6567/6567 [==============================] - 1s 173us/step - loss: 0.0097 - acc: 1.0001 - mae: 0.0096 - mse: 1.9091e-04 - val_loss: 0.1012 - val_acc: 1.0000 - val_mae: 0.0097 - val_mse: 9.8284e-05\n",
      "Epoch 140/1000\n",
      "6567/6567 [==============================] - 1s 174us/step - loss: 0.0096 - acc: 1.0000 - mae: 0.0096 - mse: 1.5547e-04 - val_loss: 0.1002 - val_acc: 1.0000 - val_mae: 0.0096 - val_mse: 9.6487e-05\n",
      "Epoch 141/1000\n",
      "6567/6567 [==============================] - 1s 190us/step - loss: 0.0095 - acc: 1.0001 - mae: 0.0095 - mse: 1.4839e-04 - val_loss: 0.1010 - val_acc: 1.0000 - val_mae: 0.0094 - val_mse: 9.4210e-05\n",
      "Epoch 142/1000\n",
      "6567/6567 [==============================] - 1s 211us/step - loss: 0.0094 - acc: 1.0001 - mae: 0.0093 - mse: 1.7613e-04 - val_loss: 0.1015 - val_acc: 1.0000 - val_mae: 0.0093 - val_mse: 9.2065e-05\n",
      "Epoch 143/1000\n",
      "6567/6567 [==============================] - 1s 209us/step - loss: 0.0093 - acc: 1.0000 - mae: 0.0092 - mse: 1.5370e-04 - val_loss: 0.1007 - val_acc: 1.0000 - val_mae: 0.0092 - val_mse: 8.9740e-05\n",
      "Epoch 144/1000\n",
      "6567/6567 [==============================] - 1s 203us/step - loss: 0.0092 - acc: 1.0001 - mae: 0.0091 - mse: 1.4274e-04 - val_loss: 0.1013 - val_acc: 1.0000 - val_mae: 0.0091 - val_mse: 8.8036e-05\n",
      "Epoch 145/1000\n",
      "6567/6567 [==============================] - 1s 225us/step - loss: 0.0091 - acc: 1.0001 - mae: 0.0090 - mse: 1.4111e-04 - val_loss: 0.1030 - val_acc: 1.0000 - val_mae: 0.0091 - val_mse: 8.7030e-05\n",
      "Epoch 146/1000\n",
      "6567/6567 [==============================] - 1s 209us/step - loss: 0.0090 - acc: 1.0001 - mae: 0.0090 - mse: 1.6497e-04 - val_loss: 0.1036 - val_acc: 1.0000 - val_mae: 0.0090 - val_mse: 8.5661e-05\n",
      "Epoch 147/1000\n",
      "6567/6567 [==============================] - 1s 213us/step - loss: 0.0090 - acc: 1.0001 - mae: 0.0089 - mse: 1.3376e-04 - val_loss: 0.1043 - val_acc: 1.0000 - val_mae: 0.0089 - val_mse: 8.4279e-05\n",
      "Epoch 148/1000\n",
      "6567/6567 [==============================] - 1s 220us/step - loss: 0.0089 - acc: 1.0000 - mae: 0.0089 - mse: 1.3678e-04 - val_loss: 0.1035 - val_acc: 1.0000 - val_mae: 0.0089 - val_mse: 8.2950e-05\n",
      "Epoch 149/1000\n",
      "6567/6567 [==============================] - 1s 208us/step - loss: 0.0088 - acc: 1.0001 - mae: 0.0088 - mse: 1.4487e-04 - val_loss: 0.1045 - val_acc: 1.0000 - val_mae: 0.0088 - val_mse: 8.2336e-05\n",
      "Epoch 150/1000\n",
      "6567/6567 [==============================] - 1s 184us/step - loss: 0.0088 - acc: 1.0001 - mae: 0.0087 - mse: 1.6459e-04 - val_loss: 0.1049 - val_acc: 1.0000 - val_mae: 0.0087 - val_mse: 8.0440e-05\n",
      "Epoch 151/1000\n",
      "6567/6567 [==============================] - 1s 187us/step - loss: 0.0087 - acc: 1.0000 - mae: 0.0086 - mse: 7.8827e-05 - val_loss: 0.1051 - val_acc: 1.0000 - val_mae: 0.0086 - val_mse: 7.8530e-05\n",
      "Epoch 152/1000\n",
      "6567/6567 [==============================] - 1s 173us/step - loss: 0.0086 - acc: 1.0001 - mae: 0.0086 - mse: 1.6293e-04 - val_loss: 0.1057 - val_acc: 1.0000 - val_mae: 0.0086 - val_mse: 7.7875e-05\n",
      "Epoch 153/1000\n",
      "6567/6567 [==============================] - 1s 178us/step - loss: 0.0085 - acc: 1.0000 - mae: 0.0085 - mse: 1.5760e-04 - val_loss: 0.1051 - val_acc: 1.0000 - val_mae: 0.0085 - val_mse: 7.6285e-05\n",
      "Epoch 154/1000\n",
      "6567/6567 [==============================] - 1s 176us/step - loss: 0.0085 - acc: 1.0001 - mae: 0.0084 - mse: 1.5328e-04 - val_loss: 0.1050 - val_acc: 1.0000 - val_mae: 0.0084 - val_mse: 7.4844e-05\n"
     ]
    },
    {
     "name": "stdout",
     "output_type": "stream",
     "text": [
      "Epoch 155/1000\n",
      "6567/6567 [==============================] - 1s 178us/step - loss: 0.0084 - acc: 1.0001 - mae: 0.0083 - mse: 1.4449e-04 - val_loss: 0.1052 - val_acc: 1.0000 - val_mae: 0.0084 - val_mse: 7.3853e-05\n",
      "Epoch 156/1000\n",
      "6567/6567 [==============================] - 1s 180us/step - loss: 0.0083 - acc: 1.0001 - mae: 0.0083 - mse: 1.4502e-04 - val_loss: 0.1049 - val_acc: 1.0000 - val_mae: 0.0083 - val_mse: 7.2367e-05\n",
      "Epoch 157/1000\n",
      "6567/6567 [==============================] - 1s 173us/step - loss: 0.0083 - acc: 1.0001 - mae: 0.0082 - mse: 7.1564e-05 - val_loss: 0.1049 - val_acc: 1.0000 - val_mae: 0.0083 - val_mse: 7.2100e-05\n",
      "Epoch 158/1000\n",
      "6567/6567 [==============================] - 1s 176us/step - loss: 0.0082 - acc: 1.0001 - mae: 0.0082 - mse: 1.1340e-04 - val_loss: 0.1046 - val_acc: 1.0000 - val_mae: 0.0082 - val_mse: 7.0536e-05\n",
      "Epoch 159/1000\n",
      "6567/6567 [==============================] - 1s 173us/step - loss: 0.0082 - acc: 1.0001 - mae: 0.0081 - mse: 1.3774e-04 - val_loss: 0.1052 - val_acc: 1.0000 - val_mae: 0.0081 - val_mse: 6.9657e-05\n",
      "Epoch 160/1000\n",
      "6567/6567 [==============================] - 1s 175us/step - loss: 0.0081 - acc: 1.0001 - mae: 0.0081 - mse: 1.3904e-04 - val_loss: 0.1064 - val_acc: 1.0000 - val_mae: 0.0081 - val_mse: 6.9406e-05\n",
      "Epoch 161/1000\n",
      "6567/6567 [==============================] - 1s 175us/step - loss: 0.0081 - acc: 1.0001 - mae: 0.0081 - mse: 6.8433e-05 - val_loss: 0.1063 - val_acc: 1.0000 - val_mae: 0.0081 - val_mse: 6.9048e-05\n",
      "Epoch 162/1000\n",
      "6567/6567 [==============================] - 1s 177us/step - loss: 0.0081 - acc: 1.0001 - mae: 0.0081 - mse: 6.7978e-05 - val_loss: 0.1060 - val_acc: 1.0000 - val_mae: 0.0080 - val_mse: 6.7781e-05\n",
      "Epoch 163/1000\n",
      "6567/6567 [==============================] - 1s 173us/step - loss: 0.0080 - acc: 1.0001 - mae: 0.0080 - mse: 1.4654e-04 - val_loss: 0.1068 - val_acc: 1.0000 - val_mae: 0.0080 - val_mse: 6.7200e-05\n",
      "Epoch 164/1000\n",
      "6567/6567 [==============================] - 1s 173us/step - loss: 0.0080 - acc: 1.0001 - mae: 0.0080 - mse: 6.6070e-05 - val_loss: 0.1066 - val_acc: 1.0000 - val_mae: 0.0079 - val_mse: 6.5906e-05\n",
      "Epoch 165/1000\n",
      "6567/6567 [==============================] - 1s 174us/step - loss: 0.0080 - acc: 1.0001 - mae: 0.0080 - mse: 6.5716e-05 - val_loss: 0.1070 - val_acc: 1.0000 - val_mae: 0.0080 - val_mse: 6.6013e-05\n",
      "Epoch 166/1000\n",
      "6567/6567 [==============================] - 1s 170us/step - loss: 0.0080 - acc: 1.0001 - mae: 0.0080 - mse: 1.3401e-04 - val_loss: 0.1094 - val_acc: 1.0000 - val_mae: 0.0080 - val_mse: 6.6713e-05\n",
      "Epoch 167/1000\n",
      "6567/6567 [==============================] - 1s 177us/step - loss: 0.0080 - acc: 1.0001 - mae: 0.0080 - mse: 1.4634e-04 - val_loss: 0.1114 - val_acc: 1.0000 - val_mae: 0.0081 - val_mse: 6.7326e-05\n",
      "Epoch 168/1000\n",
      "6567/6567 [==============================] - 1s 177us/step - loss: 0.0081 - acc: 1.0001 - mae: 0.0080 - mse: 6.6219e-05 - val_loss: 0.1107 - val_acc: 1.0000 - val_mae: 0.0080 - val_mse: 6.5862e-05\n",
      "Epoch 169/1000\n",
      "6567/6567 [==============================] - 1s 174us/step - loss: 0.0080 - acc: 1.0001 - mae: 0.0080 - mse: 1.4824e-04 - val_loss: 0.1117 - val_acc: 1.0000 - val_mae: 0.0079 - val_mse: 6.4792e-05\n",
      "Epoch 170/1000\n",
      "6567/6567 [==============================] - 1s 176us/step - loss: 0.0079 - acc: 1.0001 - mae: 0.0078 - mse: 6.3637e-05 - val_loss: 0.1109 - val_acc: 1.0000 - val_mae: 0.0078 - val_mse: 6.3313e-05\n",
      "Epoch 171/1000\n",
      "6567/6567 [==============================] - 1s 172us/step - loss: 0.0078 - acc: 1.0001 - mae: 0.0078 - mse: 6.3073e-05 - val_loss: 0.1118 - val_acc: 1.0000 - val_mae: 0.0079 - val_mse: 6.3978e-05\n",
      "Epoch 172/1000\n",
      "6567/6567 [==============================] - 1s 177us/step - loss: 0.0079 - acc: 0.9999 - mae: 0.0079 - mse: 1.7886e-04 - val_loss: 0.1134 - val_acc: 1.0000 - val_mae: 0.0079 - val_mse: 6.4304e-05\n",
      "Epoch 173/1000\n",
      "6567/6567 [==============================] - 1s 177us/step - loss: 0.0079 - acc: 1.0001 - mae: 0.0079 - mse: 1.5502e-04 - val_loss: 0.1157 - val_acc: 1.0000 - val_mae: 0.0079 - val_mse: 6.4573e-05\n",
      "Epoch 174/1000\n",
      "6567/6567 [==============================] - 1s 180us/step - loss: 0.0080 - acc: 1.0000 - mae: 0.0079 - mse: 1.2007e-04 - val_loss: 0.1169 - val_acc: 1.0000 - val_mae: 0.0080 - val_mse: 6.5605e-05\n",
      "Epoch 175/1000\n",
      "6567/6567 [==============================] - 1s 177us/step - loss: 0.0081 - acc: 1.0001 - mae: 0.0080 - mse: 1.6564e-04 - val_loss: 0.1186 - val_acc: 1.0000 - val_mae: 0.0081 - val_mse: 6.5840e-05\n",
      "Epoch 176/1000\n",
      "6567/6567 [==============================] - 1s 173us/step - loss: 0.0080 - acc: 0.9999 - mae: 0.0080 - mse: 6.4804e-05 - val_loss: 0.1186 - val_acc: 1.0000 - val_mae: 0.0079 - val_mse: 6.4280e-05\n",
      "Epoch 177/1000\n",
      "6567/6567 [==============================] - 1s 180us/step - loss: 0.0079 - acc: 1.0001 - mae: 0.0079 - mse: 1.6923e-04 - val_loss: 0.1191 - val_acc: 1.0000 - val_mae: 0.0079 - val_mse: 6.3856e-05\n",
      "Epoch 178/1000\n",
      "6567/6567 [==============================] - 1s 179us/step - loss: 0.0079 - acc: 1.0001 - mae: 0.0078 - mse: 1.7108e-04 - val_loss: 0.1183 - val_acc: 1.0000 - val_mae: 0.0078 - val_mse: 6.2237e-05\n",
      "Epoch 179/1000\n",
      "6567/6567 [==============================] - 1s 176us/step - loss: 0.0078 - acc: 1.0001 - mae: 0.0078 - mse: 1.4928e-04 - val_loss: 0.1193 - val_acc: 1.0000 - val_mae: 0.0078 - val_mse: 6.1542e-05\n",
      "Epoch 180/1000\n",
      "6567/6567 [==============================] - 1s 176us/step - loss: 0.0078 - acc: 1.0000 - mae: 0.0077 - mse: 1.5269e-04 - val_loss: 0.1189 - val_acc: 1.0000 - val_mae: 0.0077 - val_mse: 6.1092e-05\n",
      "Epoch 181/1000\n",
      "6567/6567 [==============================] - 1s 178us/step - loss: 0.0078 - acc: 1.0001 - mae: 0.0078 - mse: 1.4304e-04 - val_loss: 0.1214 - val_acc: 1.0000 - val_mae: 0.0078 - val_mse: 6.1977e-05\n",
      "Epoch 182/1000\n",
      "6567/6567 [==============================] - 1s 180us/step - loss: 0.0078 - acc: 1.0000 - mae: 0.0078 - mse: 1.5041e-04 - val_loss: 0.1207 - val_acc: 1.0000 - val_mae: 0.0078 - val_mse: 6.1305e-05\n",
      "Epoch 183/1000\n",
      "6567/6567 [==============================] - 1s 175us/step - loss: 0.0078 - acc: 1.0001 - mae: 0.0078 - mse: 1.5578e-04 - val_loss: 0.1214 - val_acc: 1.0000 - val_mae: 0.0078 - val_mse: 6.1269e-05\n",
      "Epoch 184/1000\n",
      "6567/6567 [==============================] - 1s 179us/step - loss: 0.0077 - acc: 1.0001 - mae: 0.0077 - mse: 1.5697e-04 - val_loss: 0.1210 - val_acc: 1.0000 - val_mae: 0.0077 - val_mse: 6.0310e-05\n",
      "Epoch 185/1000\n",
      "6567/6567 [==============================] - 1s 177us/step - loss: 0.0077 - acc: 1.0000 - mae: 0.0077 - mse: 1.3140e-04 - val_loss: 0.1205 - val_acc: 1.0000 - val_mae: 0.0076 - val_mse: 5.8840e-05\n",
      "Epoch 186/1000\n",
      "6567/6567 [==============================] - 1s 180us/step - loss: 0.0076 - acc: 1.0000 - mae: 0.0076 - mse: 5.8287e-05 - val_loss: 0.1199 - val_acc: 1.0000 - val_mae: 0.0076 - val_mse: 5.8264e-05\n",
      "Epoch 187/1000\n",
      "6567/6567 [==============================] - 1s 182us/step - loss: 0.0075 - acc: 1.0001 - mae: 0.0075 - mse: 1.5165e-04 - val_loss: 0.1199 - val_acc: 1.0000 - val_mae: 0.0075 - val_mse: 5.6893e-05\n",
      "Epoch 188/1000\n",
      "6567/6567 [==============================] - 1s 179us/step - loss: 0.0074 - acc: 1.0000 - mae: 0.0074 - mse: 1.1846e-04 - val_loss: 0.1185 - val_acc: 1.0000 - val_mae: 0.0074 - val_mse: 5.5768e-05\n",
      "Epoch 189/1000\n",
      "6567/6567 [==============================] - 1s 177us/step - loss: 0.0073 - acc: 1.0001 - mae: 0.0073 - mse: 1.1887e-04 - val_loss: 0.1183 - val_acc: 1.0000 - val_mae: 0.0073 - val_mse: 5.4811e-05\n",
      "Epoch 190/1000\n",
      "6567/6567 [==============================] - 1s 179us/step - loss: 0.0073 - acc: 1.0001 - mae: 0.0073 - mse: 1.1600e-04 - val_loss: 0.1192 - val_acc: 1.0000 - val_mae: 0.0073 - val_mse: 5.4531e-05\n",
      "Epoch 191/1000\n",
      "6567/6567 [==============================] - 1s 203us/step - loss: 0.0073 - acc: 1.0001 - mae: 0.0072 - mse: 5.3716e-05 - val_loss: 0.1188 - val_acc: 1.0000 - val_mae: 0.0073 - val_mse: 5.4126e-05\n",
      "Epoch 192/1000\n",
      "6567/6567 [==============================] - 1s 198us/step - loss: 0.0073 - acc: 1.0001 - mae: 0.0072 - mse: 1.3234e-04 - val_loss: 0.1198 - val_acc: 1.0000 - val_mae: 0.0072 - val_mse: 5.3665e-05\n",
      "Epoch 193/1000\n",
      "6567/6567 [==============================] - 1s 192us/step - loss: 0.0073 - acc: 1.0001 - mae: 0.0073 - mse: 5.3605e-05 - val_loss: 0.1199 - val_acc: 1.0000 - val_mae: 0.0072 - val_mse: 5.3625e-05\n"
     ]
    },
    {
     "name": "stdout",
     "output_type": "stream",
     "text": [
      "Epoch 194/1000\n",
      "6567/6567 [==============================] - 1s 195us/step - loss: 0.0072 - acc: 1.0001 - mae: 0.0073 - mse: 1.3672e-04 - val_loss: 0.1203 - val_acc: 1.0000 - val_mae: 0.0072 - val_mse: 5.3337e-05\n",
      "Epoch 195/1000\n",
      "6567/6567 [==============================] - 1s 192us/step - loss: 0.0072 - acc: 1.0001 - mae: 0.0072 - mse: 5.2830e-05 - val_loss: 0.1198 - val_acc: 1.0000 - val_mae: 0.0072 - val_mse: 5.2934e-05\n",
      "Epoch 196/1000\n",
      "6567/6567 [==============================] - 1s 191us/step - loss: 0.0072 - acc: 1.0001 - mae: 0.0072 - mse: 8.7815e-05 - val_loss: 0.1204 - val_acc: 1.0000 - val_mae: 0.0072 - val_mse: 5.2766e-05\n",
      "Epoch 197/1000\n",
      "6567/6567 [==============================] - 1s 189us/step - loss: 0.0072 - acc: 0.9999 - mae: 0.0071 - mse: 1.3590e-04 - val_loss: 0.1199 - val_acc: 1.0000 - val_mae: 0.0071 - val_mse: 5.1948e-05\n",
      "Epoch 198/1000\n",
      "6567/6567 [==============================] - 1s 206us/step - loss: 0.0072 - acc: 1.0001 - mae: 0.0071 - mse: 1.1407e-04 - val_loss: 0.1211 - val_acc: 1.0000 - val_mae: 0.0072 - val_mse: 5.2117e-05\n",
      "Epoch 199/1000\n",
      "6567/6567 [==============================] - 1s 214us/step - loss: 0.0071 - acc: 1.0001 - mae: 0.0071 - mse: 1.1565e-04 - val_loss: 0.1204 - val_acc: 1.0000 - val_mae: 0.0071 - val_mse: 5.0943e-05\n",
      "Epoch 200/1000\n",
      "6567/6567 [==============================] - 1s 179us/step - loss: 0.0070 - acc: 0.9999 - mae: 0.0070 - mse: 5.0197e-05 - val_loss: 0.1197 - val_acc: 1.0000 - val_mae: 0.0070 - val_mse: 5.0020e-05\n",
      "Epoch 201/1000\n",
      "6567/6567 [==============================] - 1s 184us/step - loss: 0.0070 - acc: 1.0001 - mae: 0.0069 - mse: 4.9228e-05 - val_loss: 0.1184 - val_acc: 1.0000 - val_mae: 0.0069 - val_mse: 4.9032e-05\n",
      "Epoch 202/1000\n",
      "6567/6567 [==============================] - 1s 179us/step - loss: 0.0069 - acc: 1.0001 - mae: 0.0069 - mse: 1.2013e-04 - val_loss: 0.1184 - val_acc: 1.0000 - val_mae: 0.0068 - val_mse: 4.8184e-05\n",
      "Epoch 203/1000\n",
      "6567/6567 [==============================] - 1s 176us/step - loss: 0.0068 - acc: 1.0001 - mae: 0.0068 - mse: 1.3655e-04 - val_loss: 0.1198 - val_acc: 1.0000 - val_mae: 0.0069 - val_mse: 4.8210e-05\n",
      "Epoch 204/1000\n",
      "6567/6567 [==============================] - 1s 178us/step - loss: 0.0068 - acc: 1.0001 - mae: 0.0068 - mse: 1.0667e-04 - val_loss: 0.1198 - val_acc: 1.0000 - val_mae: 0.0068 - val_mse: 4.7617e-05\n",
      "Epoch 205/1000\n",
      "6567/6567 [==============================] - 1s 182us/step - loss: 0.0068 - acc: 1.0001 - mae: 0.0068 - mse: 1.3744e-04 - val_loss: 0.1199 - val_acc: 1.0000 - val_mae: 0.0067 - val_mse: 4.6805e-05\n",
      "Epoch 206/1000\n",
      "6567/6567 [==============================] - 1s 182us/step - loss: 0.0067 - acc: 0.9999 - mae: 0.0067 - mse: 1.3239e-04 - val_loss: 0.1205 - val_acc: 1.0000 - val_mae: 0.0067 - val_mse: 4.6633e-05\n",
      "Epoch 207/1000\n",
      "6567/6567 [==============================] - 1s 182us/step - loss: 0.0068 - acc: 1.0001 - mae: 0.0067 - mse: 1.1768e-04 - val_loss: 0.1223 - val_acc: 1.0000 - val_mae: 0.0068 - val_mse: 4.6977e-05\n",
      "Epoch 208/1000\n",
      "6567/6567 [==============================] - 1s 182us/step - loss: 0.0067 - acc: 1.0001 - mae: 0.0067 - mse: 1.0575e-04 - val_loss: 0.1219 - val_acc: 1.0000 - val_mae: 0.0067 - val_mse: 4.6184e-05\n",
      "Epoch 209/1000\n",
      "6567/6567 [==============================] - 1s 182us/step - loss: 0.0067 - acc: 1.0001 - mae: 0.0067 - mse: 4.5668e-05 - val_loss: 0.1212 - val_acc: 1.0000 - val_mae: 0.0067 - val_mse: 4.5689e-05\n",
      "Epoch 210/1000\n",
      "6567/6567 [==============================] - 1s 180us/step - loss: 0.0067 - acc: 1.0000 - mae: 0.0067 - mse: 1.0004e-04 - val_loss: 0.1233 - val_acc: 1.0000 - val_mae: 0.0067 - val_mse: 4.6125e-05\n",
      "Epoch 211/1000\n",
      "6567/6567 [==============================] - 1s 181us/step - loss: 0.0067 - acc: 1.0001 - mae: 0.0067 - mse: 4.5594e-05 - val_loss: 0.1224 - val_acc: 1.0000 - val_mae: 0.0067 - val_mse: 4.5471e-05\n",
      "Epoch 212/1000\n",
      "6567/6567 [==============================] - 1s 175us/step - loss: 0.0066 - acc: 0.9999 - mae: 0.0067 - mse: 1.2249e-04 - val_loss: 0.1222 - val_acc: 1.0000 - val_mae: 0.0066 - val_mse: 4.4771e-05\n",
      "Epoch 213/1000\n",
      "6567/6567 [==============================] - 1s 175us/step - loss: 0.0066 - acc: 1.0001 - mae: 0.0066 - mse: 9.8763e-05 - val_loss: 0.1227 - val_acc: 1.0000 - val_mae: 0.0066 - val_mse: 4.4401e-05\n",
      "Epoch 214/1000\n",
      "6567/6567 [==============================] - 1s 172us/step - loss: 0.0066 - acc: 1.0000 - mae: 0.0066 - mse: 4.3967e-05 - val_loss: 0.1229 - val_acc: 1.0000 - val_mae: 0.0066 - val_mse: 4.4468e-05\n",
      "Epoch 215/1000\n",
      "6567/6567 [==============================] - 1s 183us/step - loss: 0.0066 - acc: 1.0000 - mae: 0.0065 - mse: 1.0099e-04 - val_loss: 0.1224 - val_acc: 1.0000 - val_mae: 0.0065 - val_mse: 4.3565e-05\n",
      "Epoch 216/1000\n",
      "6567/6567 [==============================] - 1s 185us/step - loss: 0.0065 - acc: 1.0000 - mae: 0.0065 - mse: 1.2879e-04 - val_loss: 0.1230 - val_acc: 1.0000 - val_mae: 0.0066 - val_mse: 4.3890e-05\n",
      "Epoch 217/1000\n",
      "6567/6567 [==============================] - 1s 188us/step - loss: 0.0066 - acc: 1.0001 - mae: 0.0065 - mse: 1.2704e-04 - val_loss: 0.1230 - val_acc: 1.0000 - val_mae: 0.0065 - val_mse: 4.3457e-05\n",
      "Epoch 218/1000\n",
      "6567/6567 [==============================] - 1s 185us/step - loss: 0.0065 - acc: 1.0000 - mae: 0.0065 - mse: 1.2749e-04 - val_loss: 0.1223 - val_acc: 1.0000 - val_mae: 0.0065 - val_mse: 4.2944e-05\n",
      "Epoch 219/1000\n",
      "6567/6567 [==============================] - 1s 179us/step - loss: 0.0065 - acc: 1.0001 - mae: 0.0065 - mse: 1.0218e-04 - val_loss: 0.1232 - val_acc: 1.0000 - val_mae: 0.0065 - val_mse: 4.2829e-05\n",
      "Epoch 220/1000\n",
      "6567/6567 [==============================] - 1s 177us/step - loss: 0.0064 - acc: 1.0001 - mae: 0.0064 - mse: 1.0616e-04 - val_loss: 0.1233 - val_acc: 1.0000 - val_mae: 0.0064 - val_mse: 4.2043e-05\n",
      "Epoch 221/1000\n",
      "6567/6567 [==============================] - 1s 177us/step - loss: 0.0064 - acc: 1.0001 - mae: 0.0064 - mse: 4.1618e-05 - val_loss: 0.1229 - val_acc: 1.0000 - val_mae: 0.0064 - val_mse: 4.1762e-05\n",
      "Epoch 222/1000\n",
      "6567/6567 [==============================] - 1s 179us/step - loss: 0.0064 - acc: 1.0001 - mae: 0.0064 - mse: 1.2058e-04 - val_loss: 0.1252 - val_acc: 1.0000 - val_mae: 0.0064 - val_mse: 4.2256e-05\n",
      "Epoch 223/1000\n",
      "6567/6567 [==============================] - 1s 176us/step - loss: 0.0064 - acc: 1.0000 - mae: 0.0064 - mse: 9.5714e-05 - val_loss: 0.1252 - val_acc: 1.0000 - val_mae: 0.0064 - val_mse: 4.1783e-05\n",
      "Epoch 224/1000\n",
      "6567/6567 [==============================] - 1s 180us/step - loss: 0.0064 - acc: 1.0001 - mae: 0.0064 - mse: 1.0270e-04 - val_loss: 0.1251 - val_acc: 1.0000 - val_mae: 0.0064 - val_mse: 4.1341e-05\n",
      "Epoch 225/1000\n",
      "6567/6567 [==============================] - 1s 176us/step - loss: 0.0063 - acc: 1.0000 - mae: 0.0063 - mse: 4.0783e-05 - val_loss: 0.1248 - val_acc: 1.0000 - val_mae: 0.0063 - val_mse: 4.0678e-05\n",
      "Epoch 226/1000\n",
      "6567/6567 [==============================] - 1s 182us/step - loss: 0.0063 - acc: 1.0001 - mae: 0.0063 - mse: 1.2016e-04 - val_loss: 0.1249 - val_acc: 1.0000 - val_mae: 0.0063 - val_mse: 4.0355e-05\n",
      "Epoch 227/1000\n",
      "6567/6567 [==============================] - 1s 177us/step - loss: 0.0063 - acc: 1.0001 - mae: 0.0063 - mse: 4.0023e-05 - val_loss: 0.1251 - val_acc: 1.0000 - val_mae: 0.0063 - val_mse: 4.0407e-05\n",
      "Epoch 228/1000\n",
      "6567/6567 [==============================] - 1s 179us/step - loss: 0.0063 - acc: 1.0001 - mae: 0.0063 - mse: 1.1481e-04 - val_loss: 0.1261 - val_acc: 1.0000 - val_mae: 0.0063 - val_mse: 4.0317e-05\n",
      "Epoch 229/1000\n",
      "6567/6567 [==============================] - 1s 174us/step - loss: 0.0063 - acc: 1.0001 - mae: 0.0063 - mse: 4.0213e-05 - val_loss: 0.1264 - val_acc: 1.0000 - val_mae: 0.0063 - val_mse: 4.0463e-05\n",
      "Epoch 230/1000\n",
      "6567/6567 [==============================] - 1s 176us/step - loss: 0.0063 - acc: 1.0001 - mae: 0.0063 - mse: 1.4906e-04 - val_loss: 0.1304 - val_acc: 1.0000 - val_mae: 0.0064 - val_mse: 4.1576e-05\n",
      "Epoch 231/1000\n",
      "6567/6567 [==============================] - 1s 177us/step - loss: 0.0064 - acc: 1.0001 - mae: 0.0064 - mse: 1.1940e-04 - val_loss: 0.1307 - val_acc: 1.0000 - val_mae: 0.0064 - val_mse: 4.1022e-05\n",
      "Epoch 232/1000\n",
      "6567/6567 [==============================] - 1s 181us/step - loss: 0.0063 - acc: 1.0000 - mae: 0.0064 - mse: 1.4659e-04 - val_loss: 0.1296 - val_acc: 1.0000 - val_mae: 0.0063 - val_mse: 4.0399e-05\n"
     ]
    },
    {
     "name": "stdout",
     "output_type": "stream",
     "text": [
      "Epoch 233/1000\n",
      "6567/6567 [==============================] - 1s 178us/step - loss: 0.0063 - acc: 1.0001 - mae: 0.0063 - mse: 1.3097e-04 - val_loss: 0.1293 - val_acc: 1.0000 - val_mae: 0.0062 - val_mse: 3.9663e-05\n",
      "Epoch 234/1000\n",
      "6567/6567 [==============================] - 1s 177us/step - loss: 0.0063 - acc: 1.0001 - mae: 0.0063 - mse: 1.0896e-04 - val_loss: 0.1310 - val_acc: 1.0000 - val_mae: 0.0063 - val_mse: 3.9942e-05\n",
      "Epoch 235/1000\n",
      "6567/6567 [==============================] - 1s 179us/step - loss: 0.0062 - acc: 1.0000 - mae: 0.0062 - mse: 9.8163e-05 - val_loss: 0.1309 - val_acc: 1.0000 - val_mae: 0.0062 - val_mse: 3.9224e-05\n",
      "Epoch 236/1000\n",
      "6567/6567 [==============================] - 1s 177us/step - loss: 0.0062 - acc: 1.0000 - mae: 0.0062 - mse: 1.4172e-04 - val_loss: 0.1315 - val_acc: 1.0000 - val_mae: 0.0062 - val_mse: 3.9540e-05\n",
      "Epoch 237/1000\n",
      "6567/6567 [==============================] - 1s 175us/step - loss: 0.0062 - acc: 1.0001 - mae: 0.0063 - mse: 1.1947e-04 - val_loss: 0.1312 - val_acc: 1.0000 - val_mae: 0.0062 - val_mse: 3.8822e-05\n",
      "Epoch 238/1000\n",
      "6567/6567 [==============================] - 1s 175us/step - loss: 0.0062 - acc: 1.0001 - mae: 0.0062 - mse: 3.8309e-05 - val_loss: 0.1306 - val_acc: 1.0000 - val_mae: 0.0061 - val_mse: 3.8147e-05\n",
      "Epoch 239/1000\n",
      "6567/6567 [==============================] - 1s 179us/step - loss: 0.0061 - acc: 1.0001 - mae: 0.0061 - mse: 1.2432e-04 - val_loss: 0.1304 - val_acc: 1.0000 - val_mae: 0.0061 - val_mse: 3.7493e-05\n",
      "Epoch 240/1000\n",
      "6567/6567 [==============================] - 1s 182us/step - loss: 0.0061 - acc: 1.0000 - mae: 0.0060 - mse: 3.7095e-05 - val_loss: 0.1302 - val_acc: 1.0000 - val_mae: 0.0061 - val_mse: 3.7316e-05\n",
      "Epoch 241/1000\n",
      "6567/6567 [==============================] - 1s 222us/step - loss: 0.0060 - acc: 1.0000 - mae: 0.0060 - mse: 1.0235e-04 - val_loss: 0.1298 - val_acc: 1.0000 - val_mae: 0.0060 - val_mse: 3.6606e-05\n",
      "Epoch 242/1000\n",
      "6567/6567 [==============================] - 1s 192us/step - loss: 0.0060 - acc: 1.0001 - mae: 0.0060 - mse: 1.3136e-04 - val_loss: 0.1318 - val_acc: 1.0000 - val_mae: 0.0060 - val_mse: 3.6828e-05\n",
      "Epoch 243/1000\n",
      "6567/6567 [==============================] - 1s 192us/step - loss: 0.0060 - acc: 1.0001 - mae: 0.0060 - mse: 1.2323e-04 - val_loss: 0.1327 - val_acc: 1.0000 - val_mae: 0.0060 - val_mse: 3.6913e-05\n",
      "Epoch 244/1000\n",
      "6567/6567 [==============================] - 1s 191us/step - loss: 0.0060 - acc: 1.0000 - mae: 0.0060 - mse: 1.0216e-04 - val_loss: 0.1326 - val_acc: 1.0000 - val_mae: 0.0060 - val_mse: 3.6787e-05\n",
      "Epoch 245/1000\n",
      "6567/6567 [==============================] - 1s 188us/step - loss: 0.0060 - acc: 1.0001 - mae: 0.0060 - mse: 1.1024e-04 - val_loss: 0.1328 - val_acc: 1.0000 - val_mae: 0.0060 - val_mse: 3.6370e-05\n",
      "Epoch 246/1000\n",
      "6567/6567 [==============================] - 1s 190us/step - loss: 0.0060 - acc: 1.0001 - mae: 0.0060 - mse: 1.1993e-04 - val_loss: 0.1366 - val_acc: 1.0000 - val_mae: 0.0061 - val_mse: 3.7700e-05\n",
      "Epoch 247/1000\n",
      "6567/6567 [==============================] - 1s 189us/step - loss: 0.0061 - acc: 1.0001 - mae: 0.0061 - mse: 1.1578e-04 - val_loss: 0.1379 - val_acc: 1.0000 - val_mae: 0.0061 - val_mse: 3.8034e-05\n",
      "Epoch 248/1000\n",
      "6567/6567 [==============================] - 1s 198us/step - loss: 0.0061 - acc: 0.9999 - mae: 0.0061 - mse: 8.8630e-05 - val_loss: 0.1375 - val_acc: 1.0000 - val_mae: 0.0061 - val_mse: 3.7535e-05\n",
      "Epoch 249/1000\n",
      "6567/6567 [==============================] - 1s 191us/step - loss: 0.0061 - acc: 1.0000 - mae: 0.0061 - mse: 1.1491e-04 - val_loss: 0.1371 - val_acc: 1.0000 - val_mae: 0.0060 - val_mse: 3.6924e-05\n",
      "Epoch 250/1000\n",
      "6567/6567 [==============================] - 1s 180us/step - loss: 0.0061 - acc: 1.0001 - mae: 0.0061 - mse: 1.1842e-04 - val_loss: 0.1397 - val_acc: 1.0000 - val_mae: 0.0061 - val_mse: 3.7946e-05\n",
      "Epoch 251/1000\n",
      "6567/6567 [==============================] - 1s 182us/step - loss: 0.0061 - acc: 1.0001 - mae: 0.0061 - mse: 7.1094e-05 - val_loss: 0.1396 - val_acc: 1.0000 - val_mae: 0.0061 - val_mse: 3.7399e-05\n",
      "Epoch 252/1000\n",
      "6567/6567 [==============================] - 1s 171us/step - loss: 0.0061 - acc: 1.0001 - mae: 0.0060 - mse: 3.6888e-05 - val_loss: 0.1393 - val_acc: 1.0000 - val_mae: 0.0060 - val_mse: 3.6702e-05\n",
      "Epoch 253/1000\n",
      "6567/6567 [==============================] - 1s 171us/step - loss: 0.0060 - acc: 1.0001 - mae: 0.0060 - mse: 1.1002e-04 - val_loss: 0.1393 - val_acc: 1.0000 - val_mae: 0.0060 - val_mse: 3.6222e-05\n",
      "Epoch 254/1000\n",
      "6567/6567 [==============================] - 1s 173us/step - loss: 0.0060 - acc: 1.0001 - mae: 0.0060 - mse: 1.2617e-04 - val_loss: 0.1408 - val_acc: 1.0000 - val_mae: 0.0060 - val_mse: 3.6382e-05\n",
      "Epoch 255/1000\n",
      "6567/6567 [==============================] - 1s 174us/step - loss: 0.0060 - acc: 1.0001 - mae: 0.0060 - mse: 1.2544e-04 - val_loss: 0.1428 - val_acc: 1.0000 - val_mae: 0.0060 - val_mse: 3.6692e-05\n",
      "Epoch 256/1000\n",
      "6567/6567 [==============================] - 1s 171us/step - loss: 0.0060 - acc: 1.0001 - mae: 0.0060 - mse: 9.6719e-05 - val_loss: 0.1429 - val_acc: 1.0000 - val_mae: 0.0060 - val_mse: 3.6341e-05\n",
      "Epoch 257/1000\n",
      "6567/6567 [==============================] - 1s 170us/step - loss: 0.0061 - acc: 1.0001 - mae: 0.0060 - mse: 3.6741e-05 - val_loss: 0.1444 - val_acc: 1.0000 - val_mae: 0.0061 - val_mse: 3.7006e-05\n",
      "Epoch 258/1000\n",
      "6567/6567 [==============================] - 1s 172us/step - loss: 0.0060 - acc: 1.0001 - mae: 0.0060 - mse: 1.1057e-04 - val_loss: 0.1431 - val_acc: 1.0000 - val_mae: 0.0060 - val_mse: 3.6200e-05\n",
      "Epoch 259/1000\n",
      "6567/6567 [==============================] - 1s 171us/step - loss: 0.0060 - acc: 1.0001 - mae: 0.0060 - mse: 1.1359e-04 - val_loss: 0.1436 - val_acc: 1.0000 - val_mae: 0.0060 - val_mse: 3.6082e-05\n",
      "Epoch 260/1000\n",
      "6567/6567 [==============================] - 1s 172us/step - loss: 0.0060 - acc: 1.0001 - mae: 0.0060 - mse: 1.2052e-04 - val_loss: 0.1447 - val_acc: 1.0000 - val_mae: 0.0060 - val_mse: 3.5939e-05\n",
      "Epoch 261/1000\n",
      "6567/6567 [==============================] - 1s 173us/step - loss: 0.0059 - acc: 1.0001 - mae: 0.0059 - mse: 1.4635e-04 - val_loss: 0.1438 - val_acc: 1.0000 - val_mae: 0.0059 - val_mse: 3.5191e-05\n",
      "Epoch 262/1000\n",
      "6567/6567 [==============================] - 1s 171us/step - loss: 0.0059 - acc: 1.0001 - mae: 0.0059 - mse: 9.3213e-05 - val_loss: 0.1451 - val_acc: 1.0000 - val_mae: 0.0059 - val_mse: 3.5236e-05\n",
      "Epoch 263/1000\n",
      "6567/6567 [==============================] - 1s 173us/step - loss: 0.0059 - acc: 1.0001 - mae: 0.0059 - mse: 1.1342e-04 - val_loss: 0.1454 - val_acc: 1.0000 - val_mae: 0.0059 - val_mse: 3.5098e-05\n",
      "Epoch 264/1000\n",
      "6567/6567 [==============================] - 1s 174us/step - loss: 0.0059 - acc: 1.0001 - mae: 0.0059 - mse: 8.1405e-05 - val_loss: 0.1457 - val_acc: 1.0000 - val_mae: 0.0059 - val_mse: 3.4964e-05\n",
      "Epoch 265/1000\n",
      "6567/6567 [==============================] - 1s 170us/step - loss: 0.0059 - acc: 1.0001 - mae: 0.0059 - mse: 9.9213e-05 - val_loss: 0.1458 - val_acc: 1.0000 - val_mae: 0.0059 - val_mse: 3.4675e-05\n",
      "Epoch 266/1000\n",
      "6567/6567 [==============================] - 1s 174us/step - loss: 0.0059 - acc: 1.0000 - mae: 0.0059 - mse: 9.1543e-05 - val_loss: 0.1461 - val_acc: 1.0000 - val_mae: 0.0059 - val_mse: 3.4785e-05\n",
      "Epoch 267/1000\n",
      "6567/6567 [==============================] - 1s 175us/step - loss: 0.0059 - acc: 1.0001 - mae: 0.0059 - mse: 9.3067e-05 - val_loss: 0.1459 - val_acc: 1.0000 - val_mae: 0.0058 - val_mse: 3.4381e-05\n",
      "Epoch 268/1000\n",
      "6567/6567 [==============================] - 1s 174us/step - loss: 0.0059 - acc: 1.0000 - mae: 0.0059 - mse: 1.0455e-04 - val_loss: 0.1466 - val_acc: 1.0000 - val_mae: 0.0059 - val_mse: 3.4673e-05\n",
      "Epoch 269/1000\n",
      "6567/6567 [==============================] - 1s 170us/step - loss: 0.0058 - acc: 1.0001 - mae: 0.0058 - mse: 9.8715e-05 - val_loss: 0.1466 - val_acc: 1.0000 - val_mae: 0.0058 - val_mse: 3.4214e-05\n",
      "Epoch 270/1000\n",
      "6567/6567 [==============================] - 1s 175us/step - loss: 0.0058 - acc: 1.0001 - mae: 0.0058 - mse: 3.3922e-05 - val_loss: 0.1464 - val_acc: 1.0000 - val_mae: 0.0058 - val_mse: 3.3784e-05\n",
      "Epoch 271/1000\n",
      "6567/6567 [==============================] - 1s 170us/step - loss: 0.0058 - acc: 1.0000 - mae: 0.0057 - mse: 3.3361e-05 - val_loss: 0.1453 - val_acc: 1.0000 - val_mae: 0.0057 - val_mse: 3.3333e-05\n",
      "Epoch 272/1000\n",
      "6567/6567 [==============================] - 1s 173us/step - loss: 0.0057 - acc: 1.0000 - mae: 0.0057 - mse: 3.3081e-05 - val_loss: 0.1453 - val_acc: 1.0000 - val_mae: 0.0057 - val_mse: 3.3075e-05\n",
      "Epoch 273/1000\n",
      "6567/6567 [==============================] - 1s 172us/step - loss: 0.0057 - acc: 1.0001 - mae: 0.0057 - mse: 3.3034e-05 - val_loss: 0.1456 - val_acc: 1.0000 - val_mae: 0.0057 - val_mse: 3.3167e-05\n",
      "Epoch 274/1000\n",
      "6567/6567 [==============================] - 1s 171us/step - loss: 0.0057 - acc: 1.0001 - mae: 0.0057 - mse: 1.0399e-04 - val_loss: 0.1457 - val_acc: 1.0000 - val_mae: 0.0057 - val_mse: 3.2913e-05\n",
      "Epoch 275/1000\n",
      "6567/6567 [==============================] - 1s 171us/step - loss: 0.0057 - acc: 1.0001 - mae: 0.0057 - mse: 7.7699e-05 - val_loss: 0.1459 - val_acc: 1.0000 - val_mae: 0.0057 - val_mse: 3.2605e-05\n",
      "Epoch 276/1000\n",
      "6567/6567 [==============================] - 1s 171us/step - loss: 0.0057 - acc: 1.0001 - mae: 0.0056 - mse: 3.2264e-05 - val_loss: 0.1454 - val_acc: 1.0000 - val_mae: 0.0056 - val_mse: 3.2144e-05\n",
      "Epoch 277/1000\n",
      "6567/6567 [==============================] - 1s 171us/step - loss: 0.0056 - acc: 1.0001 - mae: 0.0056 - mse: 3.2008e-05 - val_loss: 0.1453 - val_acc: 1.0000 - val_mae: 0.0056 - val_mse: 3.2081e-05\n",
      "Epoch 278/1000\n",
      "6567/6567 [==============================] - 1s 173us/step - loss: 0.0056 - acc: 1.0001 - mae: 0.0056 - mse: 3.1709e-05 - val_loss: 0.1447 - val_acc: 1.0000 - val_mae: 0.0056 - val_mse: 3.1642e-05\n",
      "Epoch 279/1000\n",
      "6567/6567 [==============================] - 1s 174us/step - loss: 0.0056 - acc: 1.0001 - mae: 0.0056 - mse: 9.0348e-05 - val_loss: 0.1445 - val_acc: 1.0000 - val_mae: 0.0056 - val_mse: 3.1371e-05\n",
      "Epoch 280/1000\n",
      "6567/6567 [==============================] - 1s 174us/step - loss: 0.0055 - acc: 1.0001 - mae: 0.0055 - mse: 3.0947e-05 - val_loss: 0.1438 - val_acc: 1.0000 - val_mae: 0.0055 - val_mse: 3.0795e-05\n",
      "Epoch 281/1000\n",
      "6567/6567 [==============================] - 1s 172us/step - loss: 0.0055 - acc: 1.0000 - mae: 0.0055 - mse: 9.4861e-05 - val_loss: 0.1433 - val_acc: 1.0000 - val_mae: 0.0055 - val_mse: 3.0339e-05\n",
      "Epoch 282/1000\n",
      "6567/6567 [==============================] - 1s 172us/step - loss: 0.0055 - acc: 1.0001 - mae: 0.0055 - mse: 8.4562e-05 - val_loss: 0.1439 - val_acc: 1.0000 - val_mae: 0.0055 - val_mse: 3.0387e-05\n",
      "Epoch 283/1000\n",
      "6567/6567 [==============================] - 1s 173us/step - loss: 0.0054 - acc: 1.0000 - mae: 0.0054 - mse: 8.9324e-05 - val_loss: 0.1433 - val_acc: 1.0000 - val_mae: 0.0054 - val_mse: 2.9944e-05\n",
      "Epoch 284/1000\n",
      "6567/6567 [==============================] - 1s 175us/step - loss: 0.0054 - acc: 1.0000 - mae: 0.0054 - mse: 9.6612e-05 - val_loss: 0.1428 - val_acc: 1.0000 - val_mae: 0.0054 - val_mse: 2.9745e-05\n",
      "Epoch 285/1000\n",
      "6567/6567 [==============================] - 1s 176us/step - loss: 0.0054 - acc: 1.0001 - mae: 0.0054 - mse: 9.1293e-05 - val_loss: 0.1423 - val_acc: 1.0000 - val_mae: 0.0054 - val_mse: 2.9266e-05\n",
      "Epoch 286/1000\n",
      "6567/6567 [==============================] - 1s 172us/step - loss: 0.0053 - acc: 1.0000 - mae: 0.0053 - mse: 7.0114e-05 - val_loss: 0.1415 - val_acc: 1.0000 - val_mae: 0.0053 - val_mse: 2.8974e-05\n",
      "Epoch 287/1000\n",
      "6567/6567 [==============================] - 1s 188us/step - loss: 0.0053 - acc: 1.0000 - mae: 0.0053 - mse: 8.3169e-05 - val_loss: 0.1423 - val_acc: 1.0000 - val_mae: 0.0053 - val_mse: 2.8946e-05\n",
      "Epoch 288/1000\n",
      "6567/6567 [==============================] - 1s 173us/step - loss: 0.0053 - acc: 1.0001 - mae: 0.0053 - mse: 7.2559e-05 - val_loss: 0.1433 - val_acc: 1.0000 - val_mae: 0.0054 - val_mse: 2.9121e-05\n",
      "Epoch 289/1000\n",
      "6567/6567 [==============================] - 1s 171us/step - loss: 0.0053 - acc: 1.0001 - mae: 0.0053 - mse: 7.6591e-05 - val_loss: 0.1432 - val_acc: 1.0000 - val_mae: 0.0053 - val_mse: 2.8878e-05\n",
      "Epoch 290/1000\n",
      "6567/6567 [==============================] - 1s 173us/step - loss: 0.0053 - acc: 1.0000 - mae: 0.0053 - mse: 2.8537e-05 - val_loss: 0.1428 - val_acc: 1.0000 - val_mae: 0.0053 - val_mse: 2.8472e-05\n",
      "Epoch 291/1000\n",
      "6567/6567 [==============================] - 1s 172us/step - loss: 0.0053 - acc: 1.0001 - mae: 0.0053 - mse: 2.8223e-05 - val_loss: 0.1420 - val_acc: 1.0000 - val_mae: 0.0053 - val_mse: 2.8164e-05\n",
      "Epoch 292/1000\n",
      "6567/6567 [==============================] - 1s 174us/step - loss: 0.0052 - acc: 1.0001 - mae: 0.0052 - mse: 9.6871e-05 - val_loss: 0.1420 - val_acc: 1.0000 - val_mae: 0.0052 - val_mse: 2.7790e-05\n",
      "Epoch 293/1000\n",
      "6567/6567 [==============================] - 1s 195us/step - loss: 0.0052 - acc: 1.0000 - mae: 0.0052 - mse: 1.0589e-04 - val_loss: 0.1418 - val_acc: 1.0000 - val_mae: 0.0052 - val_mse: 2.7516e-05\n",
      "Epoch 294/1000\n",
      "6567/6567 [==============================] - 1s 197us/step - loss: 0.0052 - acc: 1.0001 - mae: 0.0052 - mse: 8.5280e-05 - val_loss: 0.1422 - val_acc: 1.0000 - val_mae: 0.0052 - val_mse: 2.7500e-05\n",
      "Epoch 295/1000\n",
      "6567/6567 [==============================] - 1s 195us/step - loss: 0.0052 - acc: 1.0001 - mae: 0.0052 - mse: 8.2209e-05 - val_loss: 0.1421 - val_acc: 1.0000 - val_mae: 0.0052 - val_mse: 2.7184e-05\n",
      "Epoch 296/1000\n",
      "6567/6567 [==============================] - 1s 199us/step - loss: 0.0052 - acc: 1.0001 - mae: 0.0052 - mse: 8.7306e-05 - val_loss: 0.1431 - val_acc: 1.0000 - val_mae: 0.0052 - val_mse: 2.7352e-05\n",
      "Epoch 297/1000\n",
      "6567/6567 [==============================] - 1s 193us/step - loss: 0.0052 - acc: 1.0001 - mae: 0.0052 - mse: 8.2583e-05 - val_loss: 0.1435 - val_acc: 1.0000 - val_mae: 0.0052 - val_mse: 2.7155e-05\n",
      "Epoch 298/1000\n",
      "6567/6567 [==============================] - 1s 194us/step - loss: 0.0052 - acc: 1.0001 - mae: 0.0052 - mse: 2.7042e-05 - val_loss: 0.1444 - val_acc: 1.0000 - val_mae: 0.0052 - val_mse: 2.7099e-05\n",
      "Epoch 299/1000\n",
      "6567/6567 [==============================] - 1s 197us/step - loss: 0.0052 - acc: 1.0001 - mae: 0.0051 - mse: 2.6942e-05 - val_loss: 0.1442 - val_acc: 1.0000 - val_mae: 0.0051 - val_mse: 2.6999e-05\n",
      "Epoch 300/1000\n",
      "6567/6567 [==============================] - 1s 194us/step - loss: 0.0051 - acc: 1.0001 - mae: 0.0051 - mse: 8.6445e-05 - val_loss: 0.1437 - val_acc: 1.0000 - val_mae: 0.0051 - val_mse: 2.6674e-05\n",
      "Epoch 301/1000\n",
      "6567/6567 [==============================] - 1s 181us/step - loss: 0.0051 - acc: 1.0000 - mae: 0.0051 - mse: 2.6469e-05 - val_loss: 0.1438 - val_acc: 1.0000 - val_mae: 0.0051 - val_mse: 2.6677e-05\n",
      "Epoch 302/1000\n",
      "6567/6567 [==============================] - 1s 175us/step - loss: 0.0051 - acc: 1.0000 - mae: 0.0051 - mse: 9.7625e-05 - val_loss: 0.1449 - val_acc: 1.0000 - val_mae: 0.0051 - val_mse: 2.6780e-05\n",
      "Epoch 303/1000\n",
      "6567/6567 [==============================] - 1s 175us/step - loss: 0.0051 - acc: 1.0000 - mae: 0.0051 - mse: 2.6693e-05 - val_loss: 0.1451 - val_acc: 1.0000 - val_mae: 0.0051 - val_mse: 2.6808e-05\n",
      "Epoch 304/1000\n",
      "6567/6567 [==============================] - 1s 181us/step - loss: 0.0051 - acc: 1.0001 - mae: 0.0051 - mse: 8.6395e-05 - val_loss: 0.1454 - val_acc: 1.0000 - val_mae: 0.0051 - val_mse: 2.6714e-05\n",
      "Epoch 305/1000\n",
      "6567/6567 [==============================] - 1s 172us/step - loss: 0.0051 - acc: 1.0000 - mae: 0.0051 - mse: 9.1570e-05 - val_loss: 0.1453 - val_acc: 1.0000 - val_mae: 0.0051 - val_mse: 2.6438e-05\n",
      "Epoch 306/1000\n",
      "6567/6567 [==============================] - 1s 174us/step - loss: 0.0051 - acc: 1.0001 - mae: 0.0051 - mse: 9.5164e-05 - val_loss: 0.1455 - val_acc: 1.0000 - val_mae: 0.0051 - val_mse: 2.6349e-05\n",
      "Epoch 307/1000\n",
      "6567/6567 [==============================] - 1s 172us/step - loss: 0.0051 - acc: 1.0001 - mae: 0.0051 - mse: 9.1950e-05 - val_loss: 0.1470 - val_acc: 1.0000 - val_mae: 0.0051 - val_mse: 2.6632e-05\n",
      "Epoch 308/1000\n",
      "6567/6567 [==============================] - 1s 170us/step - loss: 0.0051 - acc: 1.0001 - mae: 0.0051 - mse: 2.6291e-05 - val_loss: 0.1461 - val_acc: 1.0000 - val_mae: 0.0051 - val_mse: 2.6183e-05\n",
      "Epoch 309/1000\n",
      "6567/6567 [==============================] - 1s 172us/step - loss: 0.0051 - acc: 1.0001 - mae: 0.0051 - mse: 8.6931e-05 - val_loss: 0.1470 - val_acc: 1.0000 - val_mae: 0.0051 - val_mse: 2.6205e-05\n"
     ]
    },
    {
     "name": "stdout",
     "output_type": "stream",
     "text": [
      "Epoch 310/1000\n",
      "6567/6567 [==============================] - 1s 174us/step - loss: 0.0051 - acc: 1.0000 - mae: 0.0051 - mse: 7.8910e-05 - val_loss: 0.1469 - val_acc: 1.0000 - val_mae: 0.0051 - val_mse: 2.6174e-05\n",
      "Epoch 311/1000\n",
      "6567/6567 [==============================] - 1s 172us/step - loss: 0.0051 - acc: 1.0000 - mae: 0.0051 - mse: 9.6952e-05 - val_loss: 0.1493 - val_acc: 1.0000 - val_mae: 0.0051 - val_mse: 2.6688e-05\n",
      "Epoch 312/1000\n",
      "6567/6567 [==============================] - 1s 174us/step - loss: 0.0051 - acc: 1.0001 - mae: 0.0051 - mse: 7.4694e-05 - val_loss: 0.1485 - val_acc: 1.0000 - val_mae: 0.0051 - val_mse: 2.6273e-05\n",
      "Epoch 313/1000\n",
      "6567/6567 [==============================] - 1s 175us/step - loss: 0.0051 - acc: 1.0001 - mae: 0.0051 - mse: 8.6072e-05 - val_loss: 0.1475 - val_acc: 1.0000 - val_mae: 0.0050 - val_mse: 2.5814e-05\n",
      "Epoch 314/1000\n",
      "6567/6567 [==============================] - 1s 172us/step - loss: 0.0051 - acc: 1.0001 - mae: 0.0050 - mse: 8.1340e-05 - val_loss: 0.1483 - val_acc: 1.0000 - val_mae: 0.0051 - val_mse: 2.5890e-05\n",
      "Epoch 315/1000\n",
      "6567/6567 [==============================] - 1s 173us/step - loss: 0.0051 - acc: 1.0001 - mae: 0.0051 - mse: 2.5719e-05 - val_loss: 0.1480 - val_acc: 1.0000 - val_mae: 0.0050 - val_mse: 2.5783e-05\n",
      "Epoch 316/1000\n",
      "6567/6567 [==============================] - 1s 174us/step - loss: 0.0050 - acc: 1.0001 - mae: 0.0050 - mse: 7.6344e-05 - val_loss: 0.1485 - val_acc: 1.0000 - val_mae: 0.0050 - val_mse: 2.5785e-05\n",
      "Epoch 317/1000\n",
      "6567/6567 [==============================] - 1s 170us/step - loss: 0.0050 - acc: 1.0001 - mae: 0.0051 - mse: 2.5578e-05 - val_loss: 0.1485 - val_acc: 1.0000 - val_mae: 0.0050 - val_mse: 2.5499e-05\n",
      "Epoch 318/1000\n",
      "6567/6567 [==============================] - 1s 170us/step - loss: 0.0050 - acc: 1.0001 - mae: 0.0050 - mse: 8.9716e-05 - val_loss: 0.1484 - val_acc: 1.0000 - val_mae: 0.0050 - val_mse: 2.5403e-05\n",
      "Epoch 319/1000\n",
      "6567/6567 [==============================] - 1s 172us/step - loss: 0.0050 - acc: 1.0001 - mae: 0.0050 - mse: 8.5392e-05 - val_loss: 0.1498 - val_acc: 1.0000 - val_mae: 0.0050 - val_mse: 2.5419e-05\n",
      "Epoch 320/1000\n",
      "6567/6567 [==============================] - 1s 180us/step - loss: 0.0051 - acc: 1.0000 - mae: 0.0051 - mse: 8.8074e-05 - val_loss: 0.1515 - val_acc: 1.0000 - val_mae: 0.0051 - val_mse: 2.5929e-05\n",
      "Epoch 321/1000\n",
      "6567/6567 [==============================] - 1s 172us/step - loss: 0.0051 - acc: 1.0001 - mae: 0.0051 - mse: 1.1225e-04 - val_loss: 0.1523 - val_acc: 1.0000 - val_mae: 0.0051 - val_mse: 2.5901e-05\n",
      "Epoch 322/1000\n",
      "6567/6567 [==============================] - 1s 171us/step - loss: 0.0050 - acc: 1.0001 - mae: 0.0050 - mse: 9.6616e-05 - val_loss: 0.1515 - val_acc: 1.0000 - val_mae: 0.0050 - val_mse: 2.5441e-05\n",
      "Epoch 323/1000\n",
      "6567/6567 [==============================] - 1s 172us/step - loss: 0.0050 - acc: 1.0000 - mae: 0.0050 - mse: 8.6259e-05 - val_loss: 0.1508 - val_acc: 1.0000 - val_mae: 0.0050 - val_mse: 2.5009e-05\n",
      "Epoch 324/1000\n",
      "6567/6567 [==============================] - 1s 173us/step - loss: 0.0050 - acc: 1.0000 - mae: 0.0050 - mse: 8.7303e-05 - val_loss: 0.1526 - val_acc: 1.0000 - val_mae: 0.0050 - val_mse: 2.5510e-05\n",
      "Epoch 325/1000\n",
      "6567/6567 [==============================] - 1s 170us/step - loss: 0.0050 - acc: 1.0000 - mae: 0.0050 - mse: 8.2631e-05 - val_loss: 0.1530 - val_acc: 1.0000 - val_mae: 0.0050 - val_mse: 2.5338e-05\n",
      "Epoch 326/1000\n",
      "6567/6567 [==============================] - 1s 170us/step - loss: 0.0050 - acc: 1.0000 - mae: 0.0050 - mse: 9.3205e-05 - val_loss: 0.1538 - val_acc: 1.0000 - val_mae: 0.0050 - val_mse: 2.5566e-05\n",
      "Epoch 327/1000\n",
      "6567/6567 [==============================] - 1s 172us/step - loss: 0.0051 - acc: 1.0001 - mae: 0.0051 - mse: 9.1752e-05 - val_loss: 0.1556 - val_acc: 1.0000 - val_mae: 0.0051 - val_mse: 2.5866e-05\n",
      "Epoch 328/1000\n",
      "6567/6567 [==============================] - 1s 171us/step - loss: 0.0050 - acc: 1.0001 - mae: 0.0050 - mse: 2.5552e-05 - val_loss: 0.1550 - val_acc: 1.0000 - val_mae: 0.0050 - val_mse: 2.5397e-05\n",
      "Epoch 329/1000\n",
      "6567/6567 [==============================] - 1s 171us/step - loss: 0.0051 - acc: 1.0000 - mae: 0.0051 - mse: 1.0278e-04 - val_loss: 0.1583 - val_acc: 1.0000 - val_mae: 0.0051 - val_mse: 2.6153e-05\n",
      "Epoch 330/1000\n",
      "6567/6567 [==============================] - 1s 170us/step - loss: 0.0051 - acc: 1.0000 - mae: 0.0051 - mse: 9.9068e-05 - val_loss: 0.1582 - val_acc: 1.0000 - val_mae: 0.0051 - val_mse: 2.6127e-05\n",
      "Epoch 331/1000\n",
      "6567/6567 [==============================] - 1s 171us/step - loss: 0.0051 - acc: 1.0001 - mae: 0.0051 - mse: 1.1451e-04 - val_loss: 0.1585 - val_acc: 1.0000 - val_mae: 0.0051 - val_mse: 2.5879e-05\n",
      "Epoch 332/1000\n",
      "6567/6567 [==============================] - 1s 171us/step - loss: 0.0051 - acc: 1.0001 - mae: 0.0051 - mse: 1.1222e-04 - val_loss: 0.1582 - val_acc: 1.0000 - val_mae: 0.0051 - val_mse: 2.5705e-05\n",
      "Epoch 333/1000\n",
      "6567/6567 [==============================] - 1s 171us/step - loss: 0.0051 - acc: 1.0001 - mae: 0.0051 - mse: 1.0382e-04 - val_loss: 0.1603 - val_acc: 1.0000 - val_mae: 0.0051 - val_mse: 2.6182e-05\n",
      "Epoch 334/1000\n",
      "6567/6567 [==============================] - 1s 172us/step - loss: 0.0051 - acc: 1.0001 - mae: 0.0051 - mse: 1.1602e-04 - val_loss: 0.1617 - val_acc: 1.0000 - val_mae: 0.0051 - val_mse: 2.6424e-05\n",
      "Epoch 335/1000\n",
      "6567/6567 [==============================] - 1s 171us/step - loss: 0.0051 - acc: 1.0001 - mae: 0.0051 - mse: 2.6144e-05 - val_loss: 0.1606 - val_acc: 1.0000 - val_mae: 0.0051 - val_mse: 2.6025e-05\n",
      "Epoch 336/1000\n",
      "6567/6567 [==============================] - 1s 171us/step - loss: 0.0051 - acc: 1.0001 - mae: 0.0051 - mse: 9.9006e-05 - val_loss: 0.1606 - val_acc: 1.0000 - val_mae: 0.0051 - val_mse: 2.5763e-05\n",
      "Epoch 337/1000\n",
      "6567/6567 [==============================] - 1s 173us/step - loss: 0.0050 - acc: 1.0001 - mae: 0.0050 - mse: 8.1736e-05 - val_loss: 0.1595 - val_acc: 1.0000 - val_mae: 0.0050 - val_mse: 2.5335e-05\n",
      "Epoch 338/1000\n",
      "6567/6567 [==============================] - 1s 172us/step - loss: 0.0050 - acc: 1.0001 - mae: 0.0050 - mse: 1.0023e-04 - val_loss: 0.1613 - val_acc: 1.0000 - val_mae: 0.0051 - val_mse: 2.5648e-05\n",
      "Epoch 339/1000\n",
      "6567/6567 [==============================] - 1s 173us/step - loss: 0.0050 - acc: 1.0000 - mae: 0.0050 - mse: 1.2760e-04 - val_loss: 0.1605 - val_acc: 1.0000 - val_mae: 0.0050 - val_mse: 2.5166e-05\n",
      "Epoch 340/1000\n",
      "6567/6567 [==============================] - 1s 172us/step - loss: 0.0050 - acc: 1.0000 - mae: 0.0050 - mse: 7.9984e-05 - val_loss: 0.1589 - val_acc: 1.0000 - val_mae: 0.0050 - val_mse: 2.4705e-05\n",
      "Epoch 341/1000\n",
      "6567/6567 [==============================] - 1s 171us/step - loss: 0.0050 - acc: 1.0001 - mae: 0.0049 - mse: 9.1945e-05 - val_loss: 0.1588 - val_acc: 1.0000 - val_mae: 0.0049 - val_mse: 2.4531e-05\n",
      "Epoch 342/1000\n",
      "6567/6567 [==============================] - 1s 173us/step - loss: 0.0049 - acc: 1.0001 - mae: 0.0049 - mse: 2.4236e-05 - val_loss: 0.1580 - val_acc: 1.0000 - val_mae: 0.0049 - val_mse: 2.4106e-05\n",
      "Epoch 343/1000\n",
      "6567/6567 [==============================] - 1s 172us/step - loss: 0.0049 - acc: 1.0001 - mae: 0.0049 - mse: 9.2241e-05 - val_loss: 0.1590 - val_acc: 1.0000 - val_mae: 0.0049 - val_mse: 2.4197e-05\n",
      "Epoch 344/1000\n",
      "6567/6567 [==============================] - 1s 179us/step - loss: 0.0049 - acc: 1.0000 - mae: 0.0049 - mse: 9.2021e-05 - val_loss: 0.1584 - val_acc: 1.0000 - val_mae: 0.0049 - val_mse: 2.4014e-05\n",
      "Epoch 345/1000\n",
      "6567/6567 [==============================] - 1s 192us/step - loss: 0.0049 - acc: 1.0001 - mae: 0.0049 - mse: 7.7619e-05 - val_loss: 0.1586 - val_acc: 1.0000 - val_mae: 0.0049 - val_mse: 2.3923e-05\n",
      "Epoch 346/1000\n",
      "6567/6567 [==============================] - 1s 199us/step - loss: 0.0049 - acc: 1.0001 - mae: 0.0049 - mse: 9.4478e-05 - val_loss: 0.1592 - val_acc: 1.0000 - val_mae: 0.0049 - val_mse: 2.3929e-05\n",
      "Epoch 347/1000\n",
      "6567/6567 [==============================] - 1s 197us/step - loss: 0.0049 - acc: 1.0000 - mae: 0.0049 - mse: 2.3828e-05 - val_loss: 0.1584 - val_acc: 1.0000 - val_mae: 0.0048 - val_mse: 2.3703e-05\n",
      "Epoch 348/1000\n",
      "6567/6567 [==============================] - 1s 189us/step - loss: 0.0048 - acc: 1.0001 - mae: 0.0048 - mse: 8.2606e-05 - val_loss: 0.1578 - val_acc: 1.0000 - val_mae: 0.0048 - val_mse: 2.3438e-05\n"
     ]
    },
    {
     "name": "stdout",
     "output_type": "stream",
     "text": [
      "Epoch 349/1000\n",
      "6567/6567 [==============================] - 1s 196us/step - loss: 0.0048 - acc: 1.0001 - mae: 0.0048 - mse: 9.7086e-05 - val_loss: 0.1591 - val_acc: 1.0000 - val_mae: 0.0048 - val_mse: 2.3646e-05\n",
      "Epoch 350/1000\n",
      "6567/6567 [==============================] - 1s 203us/step - loss: 0.0048 - acc: 1.0001 - mae: 0.0048 - mse: 6.7144e-05 - val_loss: 0.1585 - val_acc: 1.0000 - val_mae: 0.0048 - val_mse: 2.3292e-05\n",
      "Epoch 351/1000\n",
      "6567/6567 [==============================] - 1s 197us/step - loss: 0.0048 - acc: 1.0001 - mae: 0.0048 - mse: 8.9872e-05 - val_loss: 0.1586 - val_acc: 1.0000 - val_mae: 0.0048 - val_mse: 2.3177e-05\n",
      "Epoch 352/1000\n",
      "6567/6567 [==============================] - 1s 184us/step - loss: 0.0048 - acc: 1.0000 - mae: 0.0048 - mse: 7.7184e-05 - val_loss: 0.1609 - val_acc: 1.0000 - val_mae: 0.0049 - val_mse: 2.3779e-05\n",
      "Epoch 353/1000\n",
      "6567/6567 [==============================] - 1s 173us/step - loss: 0.0048 - acc: 1.0000 - mae: 0.0048 - mse: 8.1963e-05 - val_loss: 0.1601 - val_acc: 1.0000 - val_mae: 0.0048 - val_mse: 2.3366e-05\n",
      "Epoch 354/1000\n",
      "6567/6567 [==============================] - 1s 184us/step - loss: 0.0048 - acc: 1.0000 - mae: 0.0048 - mse: 9.9773e-05 - val_loss: 0.1598 - val_acc: 1.0000 - val_mae: 0.0048 - val_mse: 2.3271e-05\n",
      "Epoch 355/1000\n",
      "6567/6567 [==============================] - 1s 172us/step - loss: 0.0048 - acc: 1.0001 - mae: 0.0048 - mse: 9.1692e-05 - val_loss: 0.1616 - val_acc: 1.0000 - val_mae: 0.0048 - val_mse: 2.3597e-05\n",
      "Epoch 356/1000\n",
      "6567/6567 [==============================] - 1s 171us/step - loss: 0.0048 - acc: 1.0001 - mae: 0.0048 - mse: 7.4560e-05 - val_loss: 0.1618 - val_acc: 1.0000 - val_mae: 0.0048 - val_mse: 2.3488e-05\n",
      "Epoch 357/1000\n",
      "6567/6567 [==============================] - 1s 171us/step - loss: 0.0048 - acc: 1.0001 - mae: 0.0048 - mse: 1.0326e-04 - val_loss: 0.1621 - val_acc: 1.0000 - val_mae: 0.0048 - val_mse: 2.3437e-05\n",
      "Epoch 358/1000\n",
      "6567/6567 [==============================] - 1s 170us/step - loss: 0.0049 - acc: 1.0001 - mae: 0.0048 - mse: 2.3591e-05 - val_loss: 0.1644 - val_acc: 1.0000 - val_mae: 0.0049 - val_mse: 2.3883e-05\n",
      "Epoch 359/1000\n",
      "6567/6567 [==============================] - 1s 172us/step - loss: 0.0049 - acc: 1.0000 - mae: 0.0049 - mse: 2.3889e-05 - val_loss: 0.1644 - val_acc: 1.0000 - val_mae: 0.0049 - val_mse: 2.3886e-05\n",
      "Epoch 360/1000\n",
      "6567/6567 [==============================] - 1s 173us/step - loss: 0.0049 - acc: 1.0001 - mae: 0.0049 - mse: 9.5498e-05 - val_loss: 0.1652 - val_acc: 1.0000 - val_mae: 0.0049 - val_mse: 2.4000e-05\n",
      "Epoch 361/1000\n",
      "6567/6567 [==============================] - 1s 173us/step - loss: 0.0049 - acc: 1.0000 - mae: 0.0049 - mse: 7.5759e-05 - val_loss: 0.1641 - val_acc: 1.0000 - val_mae: 0.0048 - val_mse: 2.3604e-05\n",
      "Epoch 362/1000\n",
      "6567/6567 [==============================] - 1s 174us/step - loss: 0.0048 - acc: 1.0001 - mae: 0.0048 - mse: 7.0254e-05 - val_loss: 0.1638 - val_acc: 1.0000 - val_mae: 0.0048 - val_mse: 2.3271e-05\n",
      "Epoch 363/1000\n",
      "6567/6567 [==============================] - 1s 190us/step - loss: 0.0048 - acc: 1.0001 - mae: 0.0048 - mse: 8.4599e-05 - val_loss: 0.1662 - val_acc: 1.0000 - val_mae: 0.0049 - val_mse: 2.3676e-05\n",
      "Epoch 364/1000\n",
      "6567/6567 [==============================] - 1s 178us/step - loss: 0.0048 - acc: 1.0001 - mae: 0.0048 - mse: 2.3408e-05 - val_loss: 0.1655 - val_acc: 1.0000 - val_mae: 0.0048 - val_mse: 2.3390e-05\n",
      "Epoch 365/1000\n",
      "6567/6567 [==============================] - 1s 172us/step - loss: 0.0048 - acc: 1.0001 - mae: 0.0048 - mse: 9.3369e-05 - val_loss: 0.1657 - val_acc: 1.0000 - val_mae: 0.0048 - val_mse: 2.3203e-05\n",
      "Epoch 366/1000\n",
      "6567/6567 [==============================] - 1s 174us/step - loss: 0.0048 - acc: 1.0000 - mae: 0.0048 - mse: 7.9366e-05 - val_loss: 0.1662 - val_acc: 1.0000 - val_mae: 0.0048 - val_mse: 2.3308e-05\n",
      "Epoch 367/1000\n",
      "6567/6567 [==============================] - 1s 174us/step - loss: 0.0048 - acc: 1.0001 - mae: 0.0048 - mse: 8.1638e-05 - val_loss: 0.1679 - val_acc: 1.0000 - val_mae: 0.0048 - val_mse: 2.3552e-05\n",
      "Epoch 368/1000\n",
      "6567/6567 [==============================] - 1s 172us/step - loss: 0.0048 - acc: 1.0000 - mae: 0.0048 - mse: 2.3277e-05 - val_loss: 0.1666 - val_acc: 1.0000 - val_mae: 0.0048 - val_mse: 2.3121e-05\n",
      "Epoch 369/1000\n",
      "6567/6567 [==============================] - 1s 173us/step - loss: 0.0048 - acc: 1.0001 - mae: 0.0048 - mse: 2.2960e-05 - val_loss: 0.1660 - val_acc: 1.0000 - val_mae: 0.0048 - val_mse: 2.2945e-05\n",
      "Epoch 370/1000\n",
      "6567/6567 [==============================] - 1s 173us/step - loss: 0.0048 - acc: 1.0001 - mae: 0.0048 - mse: 7.9037e-05 - val_loss: 0.1667 - val_acc: 1.0000 - val_mae: 0.0048 - val_mse: 2.2950e-05\n",
      "Epoch 371/1000\n",
      "6567/6567 [==============================] - 1s 174us/step - loss: 0.0048 - acc: 1.0001 - mae: 0.0048 - mse: 9.4374e-05 - val_loss: 0.1659 - val_acc: 1.0000 - val_mae: 0.0047 - val_mse: 2.2642e-05\n",
      "Epoch 372/1000\n",
      "6567/6567 [==============================] - 1s 173us/step - loss: 0.0047 - acc: 1.0000 - mae: 0.0047 - mse: 7.1089e-05 - val_loss: 0.1655 - val_acc: 1.0000 - val_mae: 0.0047 - val_mse: 2.2531e-05\n",
      "Epoch 373/1000\n",
      "6567/6567 [==============================] - 1s 172us/step - loss: 0.0048 - acc: 1.0001 - mae: 0.0047 - mse: 9.9000e-05 - val_loss: 0.1670 - val_acc: 1.0000 - val_mae: 0.0048 - val_mse: 2.2698e-05\n",
      "Epoch 374/1000\n",
      "6567/6567 [==============================] - 1s 174us/step - loss: 0.0047 - acc: 1.0001 - mae: 0.0047 - mse: 7.6215e-05 - val_loss: 0.1663 - val_acc: 1.0000 - val_mae: 0.0047 - val_mse: 2.2392e-05\n",
      "Epoch 375/1000\n",
      "6567/6567 [==============================] - 1s 173us/step - loss: 0.0047 - acc: 1.0001 - mae: 0.0047 - mse: 9.3549e-05 - val_loss: 0.1682 - val_acc: 1.0000 - val_mae: 0.0048 - val_mse: 2.2730e-05\n",
      "Epoch 376/1000\n",
      "6567/6567 [==============================] - 1s 174us/step - loss: 0.0048 - acc: 1.0000 - mae: 0.0048 - mse: 8.2140e-05 - val_loss: 0.1681 - val_acc: 1.0000 - val_mae: 0.0048 - val_mse: 2.2698e-05\n",
      "Epoch 377/1000\n",
      "6567/6567 [==============================] - 1s 187us/step - loss: 0.0047 - acc: 1.0001 - mae: 0.0047 - mse: 9.4070e-05 - val_loss: 0.1689 - val_acc: 1.0000 - val_mae: 0.0048 - val_mse: 2.2737e-05\n",
      "Epoch 378/1000\n",
      "6567/6567 [==============================] - 1s 173us/step - loss: 0.0048 - acc: 1.0000 - mae: 0.0048 - mse: 9.0223e-05 - val_loss: 0.1694 - val_acc: 1.0000 - val_mae: 0.0048 - val_mse: 2.2879e-05\n",
      "Epoch 379/1000\n",
      "6567/6567 [==============================] - 1s 174us/step - loss: 0.0048 - acc: 1.0001 - mae: 0.0048 - mse: 1.0415e-04 - val_loss: 0.1697 - val_acc: 1.0000 - val_mae: 0.0048 - val_mse: 2.2808e-05\n",
      "Epoch 380/1000\n",
      "6567/6567 [==============================] - 1s 175us/step - loss: 0.0048 - acc: 1.0001 - mae: 0.0048 - mse: 8.4023e-05 - val_loss: 0.1710 - val_acc: 1.0000 - val_mae: 0.0048 - val_mse: 2.2981e-05\n",
      "Epoch 381/1000\n",
      "6567/6567 [==============================] - 1s 174us/step - loss: 0.0048 - acc: 1.0000 - mae: 0.0048 - mse: 8.3661e-05 - val_loss: 0.1702 - val_acc: 1.0000 - val_mae: 0.0047 - val_mse: 2.2611e-05\n",
      "Epoch 382/1000\n",
      "6567/6567 [==============================] - 1s 173us/step - loss: 0.0048 - acc: 1.0000 - mae: 0.0047 - mse: 8.7553e-05 - val_loss: 0.1699 - val_acc: 1.0000 - val_mae: 0.0047 - val_mse: 2.2535e-05\n",
      "Epoch 383/1000\n",
      "6567/6567 [==============================] - 1s 174us/step - loss: 0.0047 - acc: 1.0001 - mae: 0.0047 - mse: 8.3315e-05 - val_loss: 0.1691 - val_acc: 1.0000 - val_mae: 0.0047 - val_mse: 2.2182e-05\n",
      "Epoch 384/1000\n",
      "6567/6567 [==============================] - 1s 174us/step - loss: 0.0047 - acc: 1.0001 - mae: 0.0047 - mse: 7.3294e-05 - val_loss: 0.1697 - val_acc: 1.0000 - val_mae: 0.0047 - val_mse: 2.2169e-05\n",
      "Epoch 385/1000\n",
      "6567/6567 [==============================] - 1s 173us/step - loss: 0.0047 - acc: 1.0001 - mae: 0.0047 - mse: 2.2165e-05 - val_loss: 0.1711 - val_acc: 1.0000 - val_mae: 0.0047 - val_mse: 2.2385e-05\n",
      "Epoch 386/1000\n",
      "6567/6567 [==============================] - 1s 173us/step - loss: 0.0047 - acc: 1.0001 - mae: 0.0047 - mse: 2.2129e-05 - val_loss: 0.1701 - val_acc: 1.0000 - val_mae: 0.0047 - val_mse: 2.1988e-05\n",
      "Epoch 387/1000\n",
      "6567/6567 [==============================] - 1s 172us/step - loss: 0.0047 - acc: 1.0001 - mae: 0.0046 - mse: 2.1733e-05 - val_loss: 0.1685 - val_acc: 1.0000 - val_mae: 0.0046 - val_mse: 2.1607e-05\n"
     ]
    },
    {
     "name": "stdout",
     "output_type": "stream",
     "text": [
      "Epoch 388/1000\n",
      "6567/6567 [==============================] - 1s 175us/step - loss: 0.0046 - acc: 1.0001 - mae: 0.0047 - mse: 8.2568e-05 - val_loss: 0.1685 - val_acc: 1.0000 - val_mae: 0.0046 - val_mse: 2.1427e-05\n",
      "Epoch 389/1000\n",
      "6567/6567 [==============================] - 1s 175us/step - loss: 0.0046 - acc: 1.0001 - mae: 0.0046 - mse: 7.8717e-05 - val_loss: 0.1684 - val_acc: 1.0000 - val_mae: 0.0046 - val_mse: 2.1332e-05\n",
      "Epoch 390/1000\n",
      "6567/6567 [==============================] - 1s 174us/step - loss: 0.0046 - acc: 1.0001 - mae: 0.0046 - mse: 7.7009e-05 - val_loss: 0.1696 - val_acc: 1.0000 - val_mae: 0.0046 - val_mse: 2.1444e-05\n",
      "Epoch 391/1000\n",
      "6567/6567 [==============================] - 1s 174us/step - loss: 0.0046 - acc: 1.0000 - mae: 0.0046 - mse: 2.1406e-05 - val_loss: 0.1695 - val_acc: 1.0000 - val_mae: 0.0046 - val_mse: 2.1427e-05\n",
      "Epoch 392/1000\n",
      "6567/6567 [==============================] - 1s 174us/step - loss: 0.0046 - acc: 1.0001 - mae: 0.0046 - mse: 9.3079e-05 - val_loss: 0.1699 - val_acc: 1.0000 - val_mae: 0.0046 - val_mse: 2.1358e-05\n",
      "Epoch 393/1000\n",
      "6567/6567 [==============================] - 1s 175us/step - loss: 0.0046 - acc: 1.0001 - mae: 0.0046 - mse: 8.3862e-05 - val_loss: 0.1720 - val_acc: 1.0000 - val_mae: 0.0047 - val_mse: 2.1767e-05\n",
      "Epoch 394/1000\n",
      "6567/6567 [==============================] - 1s 174us/step - loss: 0.0046 - acc: 1.0001 - mae: 0.0046 - mse: 8.7577e-05 - val_loss: 0.1706 - val_acc: 1.0000 - val_mae: 0.0046 - val_mse: 2.1388e-05\n",
      "Epoch 395/1000\n",
      "6567/6567 [==============================] - 1s 175us/step - loss: 0.0046 - acc: 1.0000 - mae: 0.0046 - mse: 8.7154e-05 - val_loss: 0.1724 - val_acc: 1.0000 - val_mae: 0.0046 - val_mse: 2.1711e-05\n",
      "Epoch 396/1000\n",
      "6567/6567 [==============================] - 1s 193us/step - loss: 0.0047 - acc: 1.0000 - mae: 0.0047 - mse: 8.2857e-05 - val_loss: 0.1726 - val_acc: 1.0000 - val_mae: 0.0047 - val_mse: 2.1743e-05\n",
      "Epoch 397/1000\n",
      "6567/6567 [==============================] - 1s 195us/step - loss: 0.0047 - acc: 0.9999 - mae: 0.0046 - mse: 8.3688e-05 - val_loss: 0.1726 - val_acc: 1.0000 - val_mae: 0.0046 - val_mse: 2.1664e-05\n",
      "Epoch 398/1000\n",
      "6567/6567 [==============================] - 1s 192us/step - loss: 0.0047 - acc: 1.0000 - mae: 0.0047 - mse: 9.3867e-05 - val_loss: 0.1747 - val_acc: 1.0000 - val_mae: 0.0047 - val_mse: 2.2142e-05\n",
      "Epoch 399/1000\n",
      "6567/6567 [==============================] - 1s 193us/step - loss: 0.0047 - acc: 1.0000 - mae: 0.0047 - mse: 8.5611e-05 - val_loss: 0.1749 - val_acc: 1.0000 - val_mae: 0.0047 - val_mse: 2.2063e-05\n",
      "Epoch 400/1000\n",
      "6567/6567 [==============================] - 1s 190us/step - loss: 0.0047 - acc: 1.0001 - mae: 0.0047 - mse: 8.2117e-05 - val_loss: 0.1778 - val_acc: 1.0000 - val_mae: 0.0047 - val_mse: 2.2579e-05\n",
      "Epoch 401/1000\n",
      "6567/6567 [==============================] - 1s 192us/step - loss: 0.0047 - acc: 1.0000 - mae: 0.0047 - mse: 8.8642e-05 - val_loss: 0.1764 - val_acc: 1.0000 - val_mae: 0.0047 - val_mse: 2.2146e-05\n",
      "Epoch 402/1000\n",
      "6567/6567 [==============================] - 1s 195us/step - loss: 0.0047 - acc: 1.0001 - mae: 0.0047 - mse: 9.3665e-05 - val_loss: 0.1761 - val_acc: 1.0000 - val_mae: 0.0047 - val_mse: 2.1934e-05\n",
      "Epoch 403/1000\n",
      "6567/6567 [==============================] - 1s 188us/step - loss: 0.0047 - acc: 1.0001 - mae: 0.0047 - mse: 2.1918e-05 - val_loss: 0.1765 - val_acc: 1.0000 - val_mae: 0.0047 - val_mse: 2.2034e-05\n",
      "Epoch 404/1000\n",
      "6567/6567 [==============================] - 1s 174us/step - loss: 0.0047 - acc: 1.0001 - mae: 0.0047 - mse: 2.1831e-05 - val_loss: 0.1758 - val_acc: 1.0000 - val_mae: 0.0046 - val_mse: 2.1682e-05\n",
      "Epoch 405/1000\n",
      "6567/6567 [==============================] - 1s 174us/step - loss: 0.0046 - acc: 1.0001 - mae: 0.0046 - mse: 8.0328e-05 - val_loss: 0.1756 - val_acc: 1.0000 - val_mae: 0.0046 - val_mse: 2.1556e-05\n",
      "Epoch 406/1000\n",
      "6567/6567 [==============================] - 1s 177us/step - loss: 0.0047 - acc: 1.0001 - mae: 0.0047 - mse: 7.0095e-05 - val_loss: 0.1789 - val_acc: 1.0000 - val_mae: 0.0047 - val_mse: 2.2194e-05\n",
      "Epoch 407/1000\n",
      "6567/6567 [==============================] - 1s 175us/step - loss: 0.0047 - acc: 1.0000 - mae: 0.0047 - mse: 1.0600e-04 - val_loss: 0.1802 - val_acc: 1.0000 - val_mae: 0.0047 - val_mse: 2.2326e-05\n",
      "Epoch 408/1000\n",
      "6567/6567 [==============================] - 1s 176us/step - loss: 0.0048 - acc: 1.0000 - mae: 0.0048 - mse: 8.8705e-05 - val_loss: 0.1819 - val_acc: 1.0000 - val_mae: 0.0048 - val_mse: 2.2735e-05\n",
      "Epoch 409/1000\n",
      "6567/6567 [==============================] - 1s 175us/step - loss: 0.0048 - acc: 1.0001 - mae: 0.0048 - mse: 8.2460e-05 - val_loss: 0.1829 - val_acc: 1.0000 - val_mae: 0.0048 - val_mse: 2.2790e-05\n",
      "Epoch 410/1000\n",
      "6567/6567 [==============================] - 1s 173us/step - loss: 0.0048 - acc: 1.0001 - mae: 0.0047 - mse: 2.2559e-05 - val_loss: 0.1817 - val_acc: 1.0000 - val_mae: 0.0047 - val_mse: 2.2394e-05\n",
      "Epoch 411/1000\n",
      "6567/6567 [==============================] - 1s 176us/step - loss: 0.0048 - acc: 1.0001 - mae: 0.0048 - mse: 2.2643e-05 - val_loss: 0.1856 - val_acc: 1.0000 - val_mae: 0.0048 - val_mse: 2.3339e-05\n",
      "Epoch 412/1000\n",
      "6567/6567 [==============================] - 1s 175us/step - loss: 0.0048 - acc: 1.0001 - mae: 0.0048 - mse: 8.0133e-05 - val_loss: 0.1859 - val_acc: 1.0000 - val_mae: 0.0048 - val_mse: 2.3256e-05\n",
      "Epoch 413/1000\n",
      "6567/6567 [==============================] - 1s 175us/step - loss: 0.0048 - acc: 1.0001 - mae: 0.0048 - mse: 2.3127e-05 - val_loss: 0.1855 - val_acc: 1.0000 - val_mae: 0.0048 - val_mse: 2.3164e-05\n",
      "Epoch 414/1000\n",
      "6567/6567 [==============================] - 1s 177us/step - loss: 0.0048 - acc: 1.0001 - mae: 0.0048 - mse: 7.2118e-05 - val_loss: 0.1847 - val_acc: 1.0000 - val_mae: 0.0048 - val_mse: 2.2839e-05\n",
      "Epoch 415/1000\n",
      "6567/6567 [==============================] - 1s 175us/step - loss: 0.0048 - acc: 0.9999 - mae: 0.0048 - mse: 6.9620e-05 - val_loss: 0.1840 - val_acc: 1.0000 - val_mae: 0.0047 - val_mse: 2.2479e-05\n",
      "Epoch 416/1000\n",
      "6567/6567 [==============================] - 1s 174us/step - loss: 0.0047 - acc: 1.0000 - mae: 0.0047 - mse: 2.2278e-05 - val_loss: 0.1829 - val_acc: 1.0000 - val_mae: 0.0047 - val_mse: 2.2088e-05\n",
      "Epoch 417/1000\n",
      "6567/6567 [==============================] - 1s 177us/step - loss: 0.0047 - acc: 1.0001 - mae: 0.0047 - mse: 9.5693e-05 - val_loss: 0.1864 - val_acc: 1.0000 - val_mae: 0.0048 - val_mse: 2.2775e-05\n",
      "Epoch 418/1000\n",
      "6567/6567 [==============================] - 1s 176us/step - loss: 0.0048 - acc: 1.0000 - mae: 0.0048 - mse: 9.8342e-05 - val_loss: 0.1878 - val_acc: 1.0000 - val_mae: 0.0048 - val_mse: 2.3102e-05\n",
      "Epoch 419/1000\n",
      "6567/6567 [==============================] - 1s 174us/step - loss: 0.0048 - acc: 1.0001 - mae: 0.0048 - mse: 1.1846e-04 - val_loss: 0.1906 - val_acc: 1.0000 - val_mae: 0.0049 - val_mse: 2.3655e-05\n",
      "Epoch 420/1000\n",
      "6567/6567 [==============================] - 1s 176us/step - loss: 0.0049 - acc: 1.0000 - mae: 0.0049 - mse: 8.6952e-05 - val_loss: 0.1904 - val_acc: 1.0000 - val_mae: 0.0048 - val_mse: 2.3483e-05\n",
      "Epoch 421/1000\n",
      "6567/6567 [==============================] - 1s 176us/step - loss: 0.0048 - acc: 1.0000 - mae: 0.0048 - mse: 1.1498e-04 - val_loss: 0.1895 - val_acc: 1.0000 - val_mae: 0.0048 - val_mse: 2.3096e-05\n",
      "Epoch 422/1000\n",
      "6567/6567 [==============================] - 1s 176us/step - loss: 0.0048 - acc: 1.0001 - mae: 0.0048 - mse: 7.3175e-05 - val_loss: 0.1908 - val_acc: 1.0000 - val_mae: 0.0048 - val_mse: 2.3306e-05\n",
      "Epoch 423/1000\n",
      "6567/6567 [==============================] - 1s 181us/step - loss: 0.0048 - acc: 1.0001 - mae: 0.0048 - mse: 8.9744e-05 - val_loss: 0.1913 - val_acc: 1.0000 - val_mae: 0.0048 - val_mse: 2.3262e-05\n",
      "Epoch 424/1000\n",
      "6567/6567 [==============================] - 1s 176us/step - loss: 0.0048 - acc: 1.0001 - mae: 0.0048 - mse: 2.3002e-05 - val_loss: 0.1895 - val_acc: 1.0000 - val_mae: 0.0048 - val_mse: 2.2774e-05\n",
      "Epoch 425/1000\n",
      "6567/6567 [==============================] - 1s 175us/step - loss: 0.0048 - acc: 1.0000 - mae: 0.0048 - mse: 1.1396e-04 - val_loss: 0.1915 - val_acc: 1.0000 - val_mae: 0.0048 - val_mse: 2.3178e-05\n",
      "Epoch 426/1000\n",
      "6567/6567 [==============================] - 1s 176us/step - loss: 0.0048 - acc: 1.0001 - mae: 0.0048 - mse: 8.6149e-05 - val_loss: 0.1908 - val_acc: 1.0000 - val_mae: 0.0048 - val_mse: 2.2810e-05\n"
     ]
    },
    {
     "name": "stdout",
     "output_type": "stream",
     "text": [
      "Epoch 427/1000\n",
      "6567/6567 [==============================] - 1s 176us/step - loss: 0.0048 - acc: 1.0001 - mae: 0.0048 - mse: 2.2644e-05 - val_loss: 0.1902 - val_acc: 1.0000 - val_mae: 0.0048 - val_mse: 2.2676e-05\n",
      "Epoch 428/1000\n",
      "6567/6567 [==============================] - 1s 177us/step - loss: 0.0048 - acc: 1.0001 - mae: 0.0048 - mse: 1.1309e-04 - val_loss: 0.1906 - val_acc: 1.0000 - val_mae: 0.0048 - val_mse: 2.2614e-05\n",
      "Epoch 429/1000\n",
      "6567/6567 [==============================] - 1s 175us/step - loss: 0.0048 - acc: 1.0001 - mae: 0.0048 - mse: 2.2654e-05 - val_loss: 0.1911 - val_acc: 1.0000 - val_mae: 0.0048 - val_mse: 2.2728e-05\n",
      "Epoch 430/1000\n",
      "6567/6567 [==============================] - 1s 176us/step - loss: 0.0048 - acc: 1.0001 - mae: 0.0047 - mse: 2.2478e-05 - val_loss: 0.1895 - val_acc: 1.0000 - val_mae: 0.0047 - val_mse: 2.2274e-05\n",
      "Epoch 431/1000\n",
      "6567/6567 [==============================] - 1s 174us/step - loss: 0.0048 - acc: 1.0001 - mae: 0.0047 - mse: 2.2517e-05 - val_loss: 0.1918 - val_acc: 1.0000 - val_mae: 0.0048 - val_mse: 2.2795e-05\n",
      "Epoch 432/1000\n",
      "6567/6567 [==============================] - 1s 173us/step - loss: 0.0048 - acc: 1.0001 - mae: 0.0048 - mse: 2.2571e-05 - val_loss: 0.1908 - val_acc: 1.0000 - val_mae: 0.0047 - val_mse: 2.2397e-05\n",
      "Epoch 433/1000\n",
      "6567/6567 [==============================] - 1s 173us/step - loss: 0.0047 - acc: 1.0001 - mae: 0.0047 - mse: 8.6812e-05 - val_loss: 0.1919 - val_acc: 1.0000 - val_mae: 0.0047 - val_mse: 2.2461e-05\n",
      "Epoch 434/1000\n",
      "6567/6567 [==============================] - 1s 173us/step - loss: 0.0048 - acc: 1.0000 - mae: 0.0047 - mse: 8.1147e-05 - val_loss: 0.1919 - val_acc: 1.0000 - val_mae: 0.0047 - val_mse: 2.2464e-05\n",
      "Epoch 435/1000\n",
      "6567/6567 [==============================] - 1s 175us/step - loss: 0.0048 - acc: 1.0001 - mae: 0.0048 - mse: 9.2085e-05 - val_loss: 0.1941 - val_acc: 1.0000 - val_mae: 0.0048 - val_mse: 2.2811e-05\n",
      "Epoch 436/1000\n",
      "6567/6567 [==============================] - 1s 173us/step - loss: 0.0048 - acc: 1.0001 - mae: 0.0048 - mse: 8.7678e-05 - val_loss: 0.1950 - val_acc: 1.0000 - val_mae: 0.0048 - val_mse: 2.2920e-05\n",
      "Epoch 437/1000\n",
      "6567/6567 [==============================] - 1s 174us/step - loss: 0.0048 - acc: 1.0000 - mae: 0.0048 - mse: 9.6588e-05 - val_loss: 0.1936 - val_acc: 1.0000 - val_mae: 0.0047 - val_mse: 2.2448e-05\n",
      "Epoch 438/1000\n",
      "6567/6567 [==============================] - 1s 175us/step - loss: 0.0048 - acc: 1.0000 - mae: 0.0048 - mse: 1.0469e-04 - val_loss: 0.1958 - val_acc: 1.0000 - val_mae: 0.0048 - val_mse: 2.2954e-05\n",
      "Epoch 439/1000\n",
      "6567/6567 [==============================] - 1s 175us/step - loss: 0.0048 - acc: 1.0001 - mae: 0.0048 - mse: 9.8176e-05 - val_loss: 0.1997 - val_acc: 1.0000 - val_mae: 0.0049 - val_mse: 2.3759e-05\n",
      "Epoch 440/1000\n",
      "6567/6567 [==============================] - 1s 173us/step - loss: 0.0049 - acc: 1.0000 - mae: 0.0049 - mse: 1.1230e-04 - val_loss: 0.2018 - val_acc: 1.0000 - val_mae: 0.0049 - val_mse: 2.4271e-05\n",
      "Epoch 441/1000\n",
      "6567/6567 [==============================] - 1s 174us/step - loss: 0.0049 - acc: 1.0001 - mae: 0.0049 - mse: 9.4728e-05 - val_loss: 0.2018 - val_acc: 1.0000 - val_mae: 0.0049 - val_mse: 2.4188e-05\n",
      "Epoch 442/1000\n",
      "6567/6567 [==============================] - 1s 174us/step - loss: 0.0049 - acc: 1.0001 - mae: 0.0049 - mse: 1.1479e-04 - val_loss: 0.2033 - val_acc: 1.0000 - val_mae: 0.0049 - val_mse: 2.4448e-05\n",
      "Epoch 443/1000\n",
      "6567/6567 [==============================] - 1s 175us/step - loss: 0.0050 - acc: 1.0001 - mae: 0.0050 - mse: 7.2925e-05 - val_loss: 0.2037 - val_acc: 1.0000 - val_mae: 0.0049 - val_mse: 2.4427e-05\n",
      "Epoch 444/1000\n",
      "6567/6567 [==============================] - 1s 175us/step - loss: 0.0050 - acc: 1.0000 - mae: 0.0050 - mse: 9.3106e-05 - val_loss: 0.2060 - val_acc: 1.0000 - val_mae: 0.0050 - val_mse: 2.4981e-05\n",
      "Epoch 445/1000\n",
      "6567/6567 [==============================] - 1s 175us/step - loss: 0.0050 - acc: 1.0001 - mae: 0.0050 - mse: 9.9004e-05 - val_loss: 0.2089 - val_acc: 1.0000 - val_mae: 0.0051 - val_mse: 2.5623e-05\n",
      "Epoch 446/1000\n",
      "6567/6567 [==============================] - 1s 175us/step - loss: 0.0051 - acc: 1.0001 - mae: 0.0050 - mse: 2.5471e-05 - val_loss: 0.2078 - val_acc: 1.0000 - val_mae: 0.0050 - val_mse: 2.5191e-05\n",
      "Epoch 447/1000\n",
      "6567/6567 [==============================] - 1s 190us/step - loss: 0.0050 - acc: 1.0001 - mae: 0.0050 - mse: 9.0147e-05 - val_loss: 0.2092 - val_acc: 1.0000 - val_mae: 0.0050 - val_mse: 2.5372e-05\n",
      "Epoch 448/1000\n",
      "6567/6567 [==============================] - 1s 192us/step - loss: 0.0050 - acc: 0.9999 - mae: 0.0050 - mse: 2.5140e-05 - val_loss: 0.2074 - val_acc: 1.0000 - val_mae: 0.0050 - val_mse: 2.4809e-05\n",
      "Epoch 449/1000\n",
      "6567/6567 [==============================] - 1s 193us/step - loss: 0.0050 - acc: 1.0001 - mae: 0.0050 - mse: 8.3072e-05 - val_loss: 0.2087 - val_acc: 1.0000 - val_mae: 0.0050 - val_mse: 2.4917e-05\n",
      "Epoch 450/1000\n",
      "6567/6567 [==============================] - 1s 193us/step - loss: 0.0050 - acc: 1.0001 - mae: 0.0050 - mse: 1.0732e-04 - val_loss: 0.2079 - val_acc: 1.0000 - val_mae: 0.0050 - val_mse: 2.4523e-05\n",
      "Epoch 451/1000\n",
      "6567/6567 [==============================] - 1s 194us/step - loss: 0.0050 - acc: 1.0001 - mae: 0.0050 - mse: 1.1192e-04 - val_loss: 0.2097 - val_acc: 1.0000 - val_mae: 0.0050 - val_mse: 2.4851e-05\n",
      "Epoch 452/1000\n",
      "6567/6567 [==============================] - 1s 193us/step - loss: 0.0050 - acc: 1.0001 - mae: 0.0050 - mse: 1.2102e-04 - val_loss: 0.2122 - val_acc: 1.0000 - val_mae: 0.0050 - val_mse: 2.5341e-05\n",
      "Epoch 453/1000\n",
      "6567/6567 [==============================] - 1s 200us/step - loss: 0.0050 - acc: 1.0000 - mae: 0.0050 - mse: 8.7886e-05 - val_loss: 0.2104 - val_acc: 1.0000 - val_mae: 0.0050 - val_mse: 2.4717e-05\n",
      "Epoch 454/1000\n",
      "6567/6567 [==============================] - 1s 190us/step - loss: 0.0050 - acc: 1.0000 - mae: 0.0050 - mse: 8.4743e-05 - val_loss: 0.2092 - val_acc: 1.0000 - val_mae: 0.0049 - val_mse: 2.4345e-05\n",
      "Epoch 455/1000\n",
      "6567/6567 [==============================] - 1s 174us/step - loss: 0.0050 - acc: 1.0001 - mae: 0.0049 - mse: 2.4388e-05 - val_loss: 0.2093 - val_acc: 1.0000 - val_mae: 0.0049 - val_mse: 2.4385e-05\n",
      "Epoch 456/1000\n",
      "6567/6567 [==============================] - 1s 176us/step - loss: 0.0049 - acc: 1.0000 - mae: 0.0049 - mse: 2.4110e-05 - val_loss: 0.2077 - val_acc: 1.0000 - val_mae: 0.0049 - val_mse: 2.3833e-05\n",
      "Epoch 457/1000\n",
      "6567/6567 [==============================] - 1s 176us/step - loss: 0.0049 - acc: 1.0001 - mae: 0.0049 - mse: 2.3939e-05 - val_loss: 0.2076 - val_acc: 1.0000 - val_mae: 0.0049 - val_mse: 2.3792e-05\n",
      "Epoch 458/1000\n",
      "6567/6567 [==============================] - 1s 176us/step - loss: 0.0049 - acc: 1.0001 - mae: 0.0049 - mse: 9.0407e-05 - val_loss: 0.2062 - val_acc: 1.0000 - val_mae: 0.0048 - val_mse: 2.3325e-05\n",
      "Epoch 459/1000\n",
      "6567/6567 [==============================] - 1s 176us/step - loss: 0.0048 - acc: 1.0000 - mae: 0.0048 - mse: 9.0779e-05 - val_loss: 0.2045 - val_acc: 1.0000 - val_mae: 0.0048 - val_mse: 2.2840e-05\n",
      "Epoch 460/1000\n",
      "6567/6567 [==============================] - 1s 177us/step - loss: 0.0048 - acc: 1.0001 - mae: 0.0048 - mse: 8.6932e-05 - val_loss: 0.2058 - val_acc: 1.0000 - val_mae: 0.0048 - val_mse: 2.2959e-05\n",
      "Epoch 461/1000\n",
      "6567/6567 [==============================] - 1s 176us/step - loss: 0.0048 - acc: 1.0000 - mae: 0.0048 - mse: 7.4708e-05 - val_loss: 0.2043 - val_acc: 1.0000 - val_mae: 0.0047 - val_mse: 2.2550e-05\n",
      "Epoch 462/1000\n",
      "6567/6567 [==============================] - 1s 176us/step - loss: 0.0048 - acc: 1.0000 - mae: 0.0048 - mse: 5.9619e-05 - val_loss: 0.2049 - val_acc: 1.0000 - val_mae: 0.0048 - val_mse: 2.2671e-05\n",
      "Epoch 463/1000\n",
      "6567/6567 [==============================] - 1s 177us/step - loss: 0.0047 - acc: 1.0001 - mae: 0.0048 - mse: 8.2918e-05 - val_loss: 0.2035 - val_acc: 1.0000 - val_mae: 0.0047 - val_mse: 2.2272e-05\n",
      "Epoch 464/1000\n",
      "6567/6567 [==============================] - 1s 177us/step - loss: 0.0047 - acc: 1.0001 - mae: 0.0047 - mse: 2.2220e-05 - val_loss: 0.2030 - val_acc: 1.0000 - val_mae: 0.0047 - val_mse: 2.2078e-05\n",
      "Epoch 465/1000\n",
      "6567/6567 [==============================] - 1s 177us/step - loss: 0.0047 - acc: 1.0001 - mae: 0.0047 - mse: 7.6214e-05 - val_loss: 0.2013 - val_acc: 1.0000 - val_mae: 0.0046 - val_mse: 2.1664e-05\n"
     ]
    },
    {
     "name": "stdout",
     "output_type": "stream",
     "text": [
      "Epoch 466/1000\n",
      "6567/6567 [==============================] - 1s 176us/step - loss: 0.0047 - acc: 1.0001 - mae: 0.0047 - mse: 6.5395e-05 - val_loss: 0.2030 - val_acc: 1.0000 - val_mae: 0.0047 - val_mse: 2.1912e-05\n",
      "Epoch 467/1000\n",
      "6567/6567 [==============================] - 1s 183us/step - loss: 0.0047 - acc: 1.0001 - mae: 0.0047 - mse: 8.3761e-05 - val_loss: 0.2034 - val_acc: 1.0000 - val_mae: 0.0047 - val_mse: 2.1828e-05\n",
      "Epoch 468/1000\n",
      "6567/6567 [==============================] - 1s 176us/step - loss: 0.0047 - acc: 1.0001 - mae: 0.0047 - mse: 7.2237e-05 - val_loss: 0.2024 - val_acc: 1.0000 - val_mae: 0.0046 - val_mse: 2.1505e-05\n",
      "Epoch 469/1000\n",
      "6567/6567 [==============================] - 1s 175us/step - loss: 0.0047 - acc: 1.0000 - mae: 0.0047 - mse: 2.1683e-05 - val_loss: 0.2052 - val_acc: 1.0000 - val_mae: 0.0047 - val_mse: 2.2087e-05\n",
      "Epoch 470/1000\n",
      "6567/6567 [==============================] - 1s 176us/step - loss: 0.0047 - acc: 1.0001 - mae: 0.0047 - mse: 8.5628e-05 - val_loss: 0.2067 - val_acc: 1.0000 - val_mae: 0.0047 - val_mse: 2.2210e-05\n",
      "Epoch 471/1000\n",
      "6567/6567 [==============================] - 1s 175us/step - loss: 0.0047 - acc: 1.0001 - mae: 0.0047 - mse: 9.3419e-05 - val_loss: 0.2072 - val_acc: 1.0000 - val_mae: 0.0047 - val_mse: 2.2224e-05\n",
      "Epoch 472/1000\n",
      "6567/6567 [==============================] - 1s 174us/step - loss: 0.0047 - acc: 1.0000 - mae: 0.0047 - mse: 7.0012e-05 - val_loss: 0.2068 - val_acc: 1.0000 - val_mae: 0.0047 - val_mse: 2.2035e-05\n",
      "Epoch 473/1000\n",
      "6567/6567 [==============================] - 1s 175us/step - loss: 0.0047 - acc: 1.0000 - mae: 0.0047 - mse: 6.8236e-05 - val_loss: 0.2055 - val_acc: 1.0000 - val_mae: 0.0046 - val_mse: 2.1655e-05\n",
      "Epoch 474/1000\n",
      "6567/6567 [==============================] - 1s 176us/step - loss: 0.0046 - acc: 1.0001 - mae: 0.0046 - mse: 5.7395e-05 - val_loss: 0.2049 - val_acc: 1.0000 - val_mae: 0.0046 - val_mse: 2.1443e-05\n",
      "Epoch 475/1000\n",
      "6567/6567 [==============================] - 1s 176us/step - loss: 0.0046 - acc: 1.0000 - mae: 0.0046 - mse: 8.1834e-05 - val_loss: 0.2044 - val_acc: 1.0000 - val_mae: 0.0046 - val_mse: 2.1169e-05\n",
      "Epoch 476/1000\n",
      "6567/6567 [==============================] - 1s 174us/step - loss: 0.0046 - acc: 1.0001 - mae: 0.0046 - mse: 6.4131e-05 - val_loss: 0.2050 - val_acc: 1.0000 - val_mae: 0.0046 - val_mse: 2.1168e-05\n",
      "Epoch 477/1000\n",
      "6567/6567 [==============================] - 1s 176us/step - loss: 0.0046 - acc: 1.0000 - mae: 0.0046 - mse: 6.6954e-05 - val_loss: 0.2037 - val_acc: 1.0000 - val_mae: 0.0046 - val_mse: 2.0829e-05\n",
      "Epoch 478/1000\n",
      "6567/6567 [==============================] - 1s 175us/step - loss: 0.0045 - acc: 1.0000 - mae: 0.0045 - mse: 5.7068e-05 - val_loss: 0.2023 - val_acc: 1.0000 - val_mae: 0.0045 - val_mse: 2.0473e-05\n",
      "Epoch 479/1000\n",
      "6567/6567 [==============================] - 1s 175us/step - loss: 0.0045 - acc: 1.0001 - mae: 0.0045 - mse: 6.9353e-05 - val_loss: 0.2033 - val_acc: 1.0000 - val_mae: 0.0045 - val_mse: 2.0554e-05\n",
      "Epoch 480/1000\n",
      "6567/6567 [==============================] - 1s 173us/step - loss: 0.0045 - acc: 1.0001 - mae: 0.0045 - mse: 2.0353e-05 - val_loss: 0.2020 - val_acc: 1.0000 - val_mae: 0.0045 - val_mse: 2.0246e-05\n",
      "Epoch 481/1000\n",
      "6567/6567 [==============================] - 1s 174us/step - loss: 0.0045 - acc: 1.0001 - mae: 0.0045 - mse: 7.2158e-05 - val_loss: 0.2018 - val_acc: 1.0000 - val_mae: 0.0045 - val_mse: 2.0087e-05\n",
      "Epoch 482/1000\n",
      "6567/6567 [==============================] - 1s 176us/step - loss: 0.0045 - acc: 1.0000 - mae: 0.0045 - mse: 6.2563e-05 - val_loss: 0.2015 - val_acc: 1.0000 - val_mae: 0.0045 - val_mse: 2.0022e-05\n",
      "Epoch 483/1000\n",
      "6567/6567 [==============================] - 1s 174us/step - loss: 0.0044 - acc: 1.0000 - mae: 0.0044 - mse: 6.6139e-05 - val_loss: 0.2002 - val_acc: 1.0000 - val_mae: 0.0044 - val_mse: 1.9728e-05\n",
      "Epoch 484/1000\n",
      "6567/6567 [==============================] - 1s 175us/step - loss: 0.0044 - acc: 1.0001 - mae: 0.0044 - mse: 7.4288e-05 - val_loss: 0.1998 - val_acc: 1.0000 - val_mae: 0.0044 - val_mse: 1.9541e-05\n",
      "Epoch 485/1000\n",
      "6567/6567 [==============================] - 1s 174us/step - loss: 0.0044 - acc: 1.0001 - mae: 0.0044 - mse: 1.9550e-05 - val_loss: 0.2006 - val_acc: 1.0000 - val_mae: 0.0044 - val_mse: 1.9582e-05\n",
      "Epoch 486/1000\n",
      "6567/6567 [==============================] - 1s 174us/step - loss: 0.0044 - acc: 1.0000 - mae: 0.0044 - mse: 6.5533e-05 - val_loss: 0.2017 - val_acc: 1.0000 - val_mae: 0.0044 - val_mse: 1.9721e-05\n",
      "Epoch 487/1000\n",
      "6567/6567 [==============================] - 1s 175us/step - loss: 0.0044 - acc: 1.0001 - mae: 0.0044 - mse: 5.6985e-05 - val_loss: 0.2017 - val_acc: 1.0000 - val_mae: 0.0044 - val_mse: 1.9657e-05\n",
      "Epoch 488/1000\n",
      "6567/6567 [==============================] - 1s 176us/step - loss: 0.0044 - acc: 1.0001 - mae: 0.0044 - mse: 1.9437e-05 - val_loss: 0.2003 - val_acc: 1.0000 - val_mae: 0.0044 - val_mse: 1.9344e-05\n",
      "Epoch 489/1000\n",
      "6567/6567 [==============================] - 1s 175us/step - loss: 0.0044 - acc: 1.0001 - mae: 0.0044 - mse: 7.5260e-05 - val_loss: 0.1994 - val_acc: 1.0000 - val_mae: 0.0044 - val_mse: 1.9143e-05\n",
      "Epoch 490/1000\n",
      "6567/6567 [==============================] - 1s 176us/step - loss: 0.0044 - acc: 1.0001 - mae: 0.0043 - mse: 7.1993e-05 - val_loss: 0.1993 - val_acc: 1.0000 - val_mae: 0.0043 - val_mse: 1.9041e-05\n",
      "Epoch 491/1000\n",
      "6567/6567 [==============================] - 1s 176us/step - loss: 0.0043 - acc: 1.0000 - mae: 0.0043 - mse: 7.1871e-05 - val_loss: 0.1977 - val_acc: 1.0000 - val_mae: 0.0043 - val_mse: 1.8752e-05\n",
      "Epoch 492/1000\n",
      "6567/6567 [==============================] - 1s 175us/step - loss: 0.0043 - acc: 1.0001 - mae: 0.0043 - mse: 6.6087e-05 - val_loss: 0.2009 - val_acc: 1.0000 - val_mae: 0.0044 - val_mse: 1.9193e-05\n",
      "Epoch 493/1000\n",
      "6567/6567 [==============================] - 1s 176us/step - loss: 0.0044 - acc: 1.0000 - mae: 0.0043 - mse: 7.8093e-05 - val_loss: 0.1997 - val_acc: 1.0000 - val_mae: 0.0043 - val_mse: 1.8931e-05\n",
      "Epoch 494/1000\n",
      "6567/6567 [==============================] - 1s 176us/step - loss: 0.0043 - acc: 1.0001 - mae: 0.0043 - mse: 7.0287e-05 - val_loss: 0.2014 - val_acc: 1.0000 - val_mae: 0.0044 - val_mse: 1.9175e-05\n",
      "Epoch 495/1000\n",
      "6567/6567 [==============================] - 1s 174us/step - loss: 0.0044 - acc: 1.0001 - mae: 0.0044 - mse: 7.4272e-05 - val_loss: 0.2010 - val_acc: 1.0000 - val_mae: 0.0043 - val_mse: 1.9020e-05\n",
      "Epoch 496/1000\n",
      "6567/6567 [==============================] - 1s 175us/step - loss: 0.0044 - acc: 1.0000 - mae: 0.0044 - mse: 8.6159e-05 - val_loss: 0.2024 - val_acc: 1.0000 - val_mae: 0.0044 - val_mse: 1.9158e-05\n",
      "Epoch 497/1000\n",
      "6567/6567 [==============================] - 1s 175us/step - loss: 0.0044 - acc: 1.0001 - mae: 0.0044 - mse: 7.8847e-05 - val_loss: 0.2036 - val_acc: 1.0000 - val_mae: 0.0044 - val_mse: 1.9291e-05\n",
      "Epoch 498/1000\n",
      "6567/6567 [==============================] - 1s 189us/step - loss: 0.0044 - acc: 1.0000 - mae: 0.0044 - mse: 8.8133e-05 - val_loss: 0.2042 - val_acc: 1.0000 - val_mae: 0.0044 - val_mse: 1.9380e-05\n",
      "Epoch 499/1000\n",
      "6567/6567 [==============================] - 1s 191us/step - loss: 0.0044 - acc: 1.0000 - mae: 0.0044 - mse: 7.4845e-05 - val_loss: 0.2035 - val_acc: 1.0000 - val_mae: 0.0044 - val_mse: 1.9204e-05\n",
      "Epoch 500/1000\n",
      "6567/6567 [==============================] - 1s 197us/step - loss: 0.0044 - acc: 1.0001 - mae: 0.0044 - mse: 7.3690e-05 - val_loss: 0.2047 - val_acc: 1.0000 - val_mae: 0.0044 - val_mse: 1.9312e-05\n",
      "Epoch 501/1000\n",
      "6567/6567 [==============================] - 1s 190us/step - loss: 0.0044 - acc: 1.0000 - mae: 0.0044 - mse: 6.7700e-05 - val_loss: 0.2033 - val_acc: 1.0000 - val_mae: 0.0043 - val_mse: 1.8996e-05\n",
      "Epoch 502/1000\n",
      "6567/6567 [==============================] - 1s 192us/step - loss: 0.0043 - acc: 1.0001 - mae: 0.0043 - mse: 8.1378e-05 - val_loss: 0.2025 - val_acc: 1.0000 - val_mae: 0.0043 - val_mse: 1.8806e-05\n",
      "Epoch 503/1000\n",
      "6567/6567 [==============================] - 1s 190us/step - loss: 0.0043 - acc: 1.0001 - mae: 0.0043 - mse: 8.5959e-05 - val_loss: 0.2047 - val_acc: 1.0000 - val_mae: 0.0044 - val_mse: 1.9057e-05\n",
      "Epoch 504/1000\n",
      "6567/6567 [==============================] - 1s 193us/step - loss: 0.0044 - acc: 1.0001 - mae: 0.0043 - mse: 5.5159e-05 - val_loss: 0.2053 - val_acc: 1.0000 - val_mae: 0.0044 - val_mse: 1.9060e-05\n"
     ]
    },
    {
     "name": "stdout",
     "output_type": "stream",
     "text": [
      "Epoch 505/1000\n",
      "6567/6567 [==============================] - 1s 190us/step - loss: 0.0043 - acc: 1.0000 - mae: 0.0043 - mse: 1.8896e-05 - val_loss: 0.2043 - val_acc: 1.0000 - val_mae: 0.0043 - val_mse: 1.8889e-05\n",
      "Epoch 506/1000\n",
      "6567/6567 [==============================] - 1s 179us/step - loss: 0.0043 - acc: 1.0001 - mae: 0.0043 - mse: 7.4473e-05 - val_loss: 0.2039 - val_acc: 1.0000 - val_mae: 0.0043 - val_mse: 1.8696e-05\n",
      "Epoch 507/1000\n",
      "6567/6567 [==============================] - 1s 174us/step - loss: 0.0043 - acc: 1.0000 - mae: 0.0043 - mse: 7.0605e-05 - val_loss: 0.2029 - val_acc: 1.0000 - val_mae: 0.0043 - val_mse: 1.8474e-05\n",
      "Epoch 508/1000\n",
      "6567/6567 [==============================] - 1s 175us/step - loss: 0.0043 - acc: 1.0001 - mae: 0.0043 - mse: 8.6389e-05 - val_loss: 0.2024 - val_acc: 1.0000 - val_mae: 0.0043 - val_mse: 1.8289e-05\n",
      "Epoch 509/1000\n",
      "6567/6567 [==============================] - 1s 174us/step - loss: 0.0043 - acc: 1.0001 - mae: 0.0042 - mse: 7.4870e-05 - val_loss: 0.2017 - val_acc: 1.0000 - val_mae: 0.0042 - val_mse: 1.8107e-05\n",
      "Epoch 510/1000\n",
      "6567/6567 [==============================] - 1s 174us/step - loss: 0.0042 - acc: 1.0001 - mae: 0.0042 - mse: 6.8319e-05 - val_loss: 0.2024 - val_acc: 1.0000 - val_mae: 0.0042 - val_mse: 1.8134e-05\n",
      "Epoch 511/1000\n",
      "6567/6567 [==============================] - 1s 175us/step - loss: 0.0042 - acc: 1.0000 - mae: 0.0042 - mse: 1.8108e-05 - val_loss: 0.2020 - val_acc: 1.0000 - val_mae: 0.0042 - val_mse: 1.8068e-05\n",
      "Epoch 512/1000\n",
      "6567/6567 [==============================] - 1s 174us/step - loss: 0.0042 - acc: 1.0000 - mae: 0.0042 - mse: 6.9200e-05 - val_loss: 0.2018 - val_acc: 1.0000 - val_mae: 0.0042 - val_mse: 1.7972e-05\n",
      "Epoch 513/1000\n",
      "6567/6567 [==============================] - 1s 176us/step - loss: 0.0042 - acc: 1.0000 - mae: 0.0042 - mse: 7.2861e-05 - val_loss: 0.2004 - val_acc: 1.0000 - val_mae: 0.0042 - val_mse: 1.7707e-05\n",
      "Epoch 514/1000\n",
      "6567/6567 [==============================] - 1s 174us/step - loss: 0.0042 - acc: 1.0001 - mae: 0.0042 - mse: 5.9593e-05 - val_loss: 0.1997 - val_acc: 1.0000 - val_mae: 0.0042 - val_mse: 1.7541e-05\n",
      "Epoch 515/1000\n",
      "6567/6567 [==============================] - 1s 174us/step - loss: 0.0041 - acc: 1.0000 - mae: 0.0041 - mse: 6.6957e-05 - val_loss: 0.1987 - val_acc: 1.0000 - val_mae: 0.0041 - val_mse: 1.7325e-05\n",
      "Epoch 516/1000\n",
      "6567/6567 [==============================] - 1s 176us/step - loss: 0.0041 - acc: 1.0000 - mae: 0.0041 - mse: 7.9792e-05 - val_loss: 0.1989 - val_acc: 1.0000 - val_mae: 0.0041 - val_mse: 1.7285e-05\n",
      "Epoch 517/1000\n",
      "6567/6567 [==============================] - 1s 174us/step - loss: 0.0041 - acc: 1.0000 - mae: 0.0041 - mse: 6.3307e-05 - val_loss: 0.1984 - val_acc: 1.0000 - val_mae: 0.0041 - val_mse: 1.7163e-05\n",
      "Epoch 518/1000\n",
      "6567/6567 [==============================] - 1s 174us/step - loss: 0.0041 - acc: 1.0001 - mae: 0.0041 - mse: 6.5124e-05 - val_loss: 0.1978 - val_acc: 1.0000 - val_mae: 0.0041 - val_mse: 1.7012e-05\n",
      "Epoch 519/1000\n",
      "6567/6567 [==============================] - 1s 174us/step - loss: 0.0041 - acc: 0.9999 - mae: 0.0041 - mse: 1.6843e-05 - val_loss: 0.1968 - val_acc: 1.0000 - val_mae: 0.0041 - val_mse: 1.6861e-05\n",
      "Epoch 520/1000\n",
      "6567/6567 [==============================] - 1s 173us/step - loss: 0.0041 - acc: 1.0000 - mae: 0.0041 - mse: 6.6478e-05 - val_loss: 0.1980 - val_acc: 1.0000 - val_mae: 0.0041 - val_mse: 1.6937e-05\n",
      "Epoch 521/1000\n",
      "6567/6567 [==============================] - 1s 175us/step - loss: 0.0041 - acc: 1.0000 - mae: 0.0041 - mse: 6.8211e-05 - val_loss: 0.1973 - val_acc: 1.0000 - val_mae: 0.0041 - val_mse: 1.6763e-05\n",
      "Epoch 522/1000\n",
      "6567/6567 [==============================] - 1s 174us/step - loss: 0.0041 - acc: 1.0001 - mae: 0.0041 - mse: 6.2291e-05 - val_loss: 0.1982 - val_acc: 1.0000 - val_mae: 0.0041 - val_mse: 1.6827e-05\n",
      "Epoch 523/1000\n",
      "6567/6567 [==============================] - 1s 174us/step - loss: 0.0041 - acc: 1.0001 - mae: 0.0041 - mse: 8.6319e-05 - val_loss: 0.1985 - val_acc: 1.0000 - val_mae: 0.0041 - val_mse: 1.6804e-05\n",
      "Epoch 524/1000\n",
      "6567/6567 [==============================] - 1s 175us/step - loss: 0.0041 - acc: 1.0001 - mae: 0.0041 - mse: 6.9429e-05 - val_loss: 0.1989 - val_acc: 1.0000 - val_mae: 0.0041 - val_mse: 1.6777e-05\n",
      "Epoch 525/1000\n",
      "6567/6567 [==============================] - 1s 178us/step - loss: 0.0041 - acc: 1.0001 - mae: 0.0041 - mse: 6.9415e-05 - val_loss: 0.2012 - val_acc: 1.0000 - val_mae: 0.0041 - val_mse: 1.7033e-05\n",
      "Epoch 526/1000\n",
      "6567/6567 [==============================] - 1s 176us/step - loss: 0.0041 - acc: 1.0001 - mae: 0.0041 - mse: 7.7640e-05 - val_loss: 0.2012 - val_acc: 1.0000 - val_mae: 0.0041 - val_mse: 1.6983e-05\n",
      "Epoch 527/1000\n",
      "6567/6567 [==============================] - 1s 175us/step - loss: 0.0041 - acc: 1.0000 - mae: 0.0041 - mse: 7.4025e-05 - val_loss: 0.2011 - val_acc: 1.0000 - val_mae: 0.0041 - val_mse: 1.6892e-05\n",
      "Epoch 528/1000\n",
      "6567/6567 [==============================] - 1s 176us/step - loss: 0.0041 - acc: 1.0000 - mae: 0.0041 - mse: 8.3623e-05 - val_loss: 0.2029 - val_acc: 1.0000 - val_mae: 0.0041 - val_mse: 1.7075e-05\n",
      "Epoch 529/1000\n",
      "6567/6567 [==============================] - 1s 175us/step - loss: 0.0041 - acc: 1.0001 - mae: 0.0041 - mse: 7.4609e-05 - val_loss: 0.2026 - val_acc: 1.0000 - val_mae: 0.0041 - val_mse: 1.6949e-05\n",
      "Epoch 530/1000\n",
      "6567/6567 [==============================] - 1s 175us/step - loss: 0.0041 - acc: 1.0001 - mae: 0.0041 - mse: 1.6768e-05 - val_loss: 0.2013 - val_acc: 1.0000 - val_mae: 0.0041 - val_mse: 1.6710e-05\n",
      "Epoch 531/1000\n",
      "6567/6567 [==============================] - 1s 174us/step - loss: 0.0041 - acc: 1.0001 - mae: 0.0041 - mse: 1.6756e-05 - val_loss: 0.2023 - val_acc: 1.0000 - val_mae: 0.0041 - val_mse: 1.6851e-05\n",
      "Epoch 532/1000\n",
      "6567/6567 [==============================] - 1s 174us/step - loss: 0.0041 - acc: 1.0000 - mae: 0.0041 - mse: 5.7532e-05 - val_loss: 0.2019 - val_acc: 1.0000 - val_mae: 0.0041 - val_mse: 1.6675e-05\n",
      "Epoch 533/1000\n",
      "6567/6567 [==============================] - 1s 175us/step - loss: 0.0041 - acc: 1.0001 - mae: 0.0041 - mse: 7.4145e-05 - val_loss: 0.2057 - val_acc: 1.0000 - val_mae: 0.0041 - val_mse: 1.7129e-05\n",
      "Epoch 534/1000\n",
      "6567/6567 [==============================] - 1s 174us/step - loss: 0.0041 - acc: 1.0000 - mae: 0.0041 - mse: 7.8980e-05 - val_loss: 0.2062 - val_acc: 1.0000 - val_mae: 0.0041 - val_mse: 1.7208e-05\n",
      "Epoch 535/1000\n",
      "6567/6567 [==============================] - 1s 172us/step - loss: 0.0041 - acc: 1.0000 - mae: 0.0041 - mse: 6.2539e-05 - val_loss: 0.2052 - val_acc: 1.0000 - val_mae: 0.0041 - val_mse: 1.6979e-05\n",
      "Epoch 536/1000\n",
      "6567/6567 [==============================] - 1s 172us/step - loss: 0.0041 - acc: 1.0001 - mae: 0.0041 - mse: 7.3186e-05 - val_loss: 0.2070 - val_acc: 1.0000 - val_mae: 0.0041 - val_mse: 1.7179e-05\n",
      "Epoch 537/1000\n",
      "6567/6567 [==============================] - 1s 172us/step - loss: 0.0041 - acc: 1.0000 - mae: 0.0041 - mse: 7.8157e-05 - val_loss: 0.2063 - val_acc: 1.0000 - val_mae: 0.0041 - val_mse: 1.7023e-05\n",
      "Epoch 538/1000\n",
      "6567/6567 [==============================] - 1s 174us/step - loss: 0.0041 - acc: 1.0001 - mae: 0.0041 - mse: 7.7088e-05 - val_loss: 0.2056 - val_acc: 1.0000 - val_mae: 0.0041 - val_mse: 1.6879e-05\n",
      "Epoch 539/1000\n",
      "6567/6567 [==============================] - 1s 172us/step - loss: 0.0041 - acc: 1.0000 - mae: 0.0041 - mse: 9.7922e-05 - val_loss: 0.2052 - val_acc: 1.0000 - val_mae: 0.0041 - val_mse: 1.6761e-05\n",
      "Epoch 540/1000\n",
      "6567/6567 [==============================] - 1s 173us/step - loss: 0.0041 - acc: 1.0001 - mae: 0.0041 - mse: 8.2262e-05 - val_loss: 0.2069 - val_acc: 1.0000 - val_mae: 0.0041 - val_mse: 1.6965e-05\n",
      "Epoch 541/1000\n",
      "6567/6567 [==============================] - 1s 173us/step - loss: 0.0041 - acc: 1.0001 - mae: 0.0041 - mse: 6.8778e-05 - val_loss: 0.2059 - val_acc: 1.0000 - val_mae: 0.0041 - val_mse: 1.6772e-05\n",
      "Epoch 542/1000\n",
      "6567/6567 [==============================] - 1s 174us/step - loss: 0.0041 - acc: 1.0000 - mae: 0.0041 - mse: 7.5324e-05 - val_loss: 0.2064 - val_acc: 1.0000 - val_mae: 0.0041 - val_mse: 1.6845e-05\n",
      "Epoch 543/1000\n",
      "6567/6567 [==============================] - 1s 174us/step - loss: 0.0041 - acc: 1.0000 - mae: 0.0041 - mse: 8.7668e-05 - val_loss: 0.2061 - val_acc: 1.0000 - val_mae: 0.0041 - val_mse: 1.6759e-05\n"
     ]
    },
    {
     "name": "stdout",
     "output_type": "stream",
     "text": [
      "Epoch 544/1000\n",
      "6567/6567 [==============================] - 1s 173us/step - loss: 0.0041 - acc: 1.0001 - mae: 0.0041 - mse: 6.9068e-05 - val_loss: 0.2070 - val_acc: 1.0000 - val_mae: 0.0041 - val_mse: 1.6839e-05\n",
      "Epoch 545/1000\n",
      "6567/6567 [==============================] - 1s 174us/step - loss: 0.0041 - acc: 1.0001 - mae: 0.0041 - mse: 1.6864e-05 - val_loss: 0.2074 - val_acc: 1.0000 - val_mae: 0.0041 - val_mse: 1.6892e-05\n",
      "Epoch 546/1000\n",
      "6567/6567 [==============================] - 1s 173us/step - loss: 0.0041 - acc: 1.0001 - mae: 0.0041 - mse: 7.5475e-05 - val_loss: 0.2070 - val_acc: 1.0000 - val_mae: 0.0041 - val_mse: 1.6740e-05\n",
      "Epoch 547/1000\n",
      "6567/6567 [==============================] - 1s 173us/step - loss: 0.0041 - acc: 1.0001 - mae: 0.0041 - mse: 7.9072e-05 - val_loss: 0.2077 - val_acc: 1.0000 - val_mae: 0.0041 - val_mse: 1.6767e-05\n",
      "Epoch 548/1000\n",
      "6567/6567 [==============================] - 1s 175us/step - loss: 0.0041 - acc: 1.0001 - mae: 0.0041 - mse: 7.7837e-05 - val_loss: 0.2099 - val_acc: 1.0000 - val_mae: 0.0041 - val_mse: 1.7034e-05\n",
      "Epoch 549/1000\n",
      "6567/6567 [==============================] - 1s 179us/step - loss: 0.0041 - acc: 1.0001 - mae: 0.0041 - mse: 1.6993e-05 - val_loss: 0.2104 - val_acc: 1.0000 - val_mae: 0.0041 - val_mse: 1.7018e-05\n",
      "Epoch 550/1000\n",
      "6567/6567 [==============================] - 1s 191us/step - loss: 0.0041 - acc: 1.0001 - mae: 0.0041 - mse: 4.5899e-05 - val_loss: 0.2114 - val_acc: 1.0000 - val_mae: 0.0041 - val_mse: 1.7070e-05\n",
      "Epoch 551/1000\n",
      "6567/6567 [==============================] - 1s 188us/step - loss: 0.0041 - acc: 1.0001 - mae: 0.0041 - mse: 1.7061e-05 - val_loss: 0.2123 - val_acc: 1.0000 - val_mae: 0.0041 - val_mse: 1.7200e-05\n",
      "Epoch 552/1000\n",
      "6567/6567 [==============================] - 1s 193us/step - loss: 0.0041 - acc: 0.9999 - mae: 0.0041 - mse: 1.7058e-05 - val_loss: 0.2111 - val_acc: 1.0000 - val_mae: 0.0041 - val_mse: 1.6960e-05\n",
      "Epoch 553/1000\n",
      "6567/6567 [==============================] - 1s 193us/step - loss: 0.0041 - acc: 0.9999 - mae: 0.0041 - mse: 8.2669e-05 - val_loss: 0.2117 - val_acc: 1.0000 - val_mae: 0.0041 - val_mse: 1.6991e-05\n",
      "Epoch 554/1000\n",
      "6567/6567 [==============================] - 1s 194us/step - loss: 0.0041 - acc: 1.0000 - mae: 0.0041 - mse: 7.9204e-05 - val_loss: 0.2130 - val_acc: 1.0000 - val_mae: 0.0041 - val_mse: 1.7187e-05\n",
      "Epoch 555/1000\n",
      "6567/6567 [==============================] - 1s 193us/step - loss: 0.0041 - acc: 1.0001 - mae: 0.0041 - mse: 8.5551e-05 - val_loss: 0.2118 - val_acc: 1.0000 - val_mae: 0.0041 - val_mse: 1.6947e-05\n",
      "Epoch 556/1000\n",
      "6567/6567 [==============================] - 1s 193us/step - loss: 0.0041 - acc: 1.0001 - mae: 0.0041 - mse: 1.6780e-05 - val_loss: 0.2110 - val_acc: 1.0000 - val_mae: 0.0041 - val_mse: 1.6716e-05\n",
      "Epoch 557/1000\n",
      "6567/6567 [==============================] - 1s 189us/step - loss: 0.0041 - acc: 1.0001 - mae: 0.0041 - mse: 9.1935e-05 - val_loss: 0.2132 - val_acc: 1.0000 - val_mae: 0.0041 - val_mse: 1.6945e-05\n",
      "Epoch 558/1000\n",
      "6567/6567 [==============================] - 1s 174us/step - loss: 0.0041 - acc: 1.0000 - mae: 0.0041 - mse: 7.3302e-05 - val_loss: 0.2143 - val_acc: 1.0000 - val_mae: 0.0041 - val_mse: 1.7115e-05\n",
      "Epoch 559/1000\n",
      "6567/6567 [==============================] - 1s 175us/step - loss: 0.0041 - acc: 1.0001 - mae: 0.0041 - mse: 8.7852e-05 - val_loss: 0.2145 - val_acc: 1.0000 - val_mae: 0.0041 - val_mse: 1.7087e-05\n",
      "Epoch 560/1000\n",
      "6567/6567 [==============================] - 1s 175us/step - loss: 0.0042 - acc: 1.0000 - mae: 0.0042 - mse: 5.7211e-05 - val_loss: 0.2174 - val_acc: 1.0000 - val_mae: 0.0042 - val_mse: 1.7535e-05\n",
      "Epoch 561/1000\n",
      "6567/6567 [==============================] - 1s 176us/step - loss: 0.0042 - acc: 1.0001 - mae: 0.0042 - mse: 6.3657e-05 - val_loss: 0.2161 - val_acc: 1.0000 - val_mae: 0.0042 - val_mse: 1.7302e-05\n",
      "Epoch 562/1000\n",
      "6567/6567 [==============================] - 1s 174us/step - loss: 0.0042 - acc: 1.0000 - mae: 0.0042 - mse: 7.1072e-05 - val_loss: 0.2162 - val_acc: 1.0000 - val_mae: 0.0041 - val_mse: 1.7236e-05\n",
      "Epoch 563/1000\n",
      "6567/6567 [==============================] - 1s 175us/step - loss: 0.0042 - acc: 1.0000 - mae: 0.0042 - mse: 5.8658e-05 - val_loss: 0.2176 - val_acc: 1.0000 - val_mae: 0.0042 - val_mse: 1.7389e-05\n",
      "Epoch 564/1000\n",
      "6567/6567 [==============================] - 1s 175us/step - loss: 0.0042 - acc: 0.9999 - mae: 0.0042 - mse: 6.8459e-05 - val_loss: 0.2187 - val_acc: 1.0000 - val_mae: 0.0042 - val_mse: 1.7468e-05\n",
      "Epoch 565/1000\n",
      "6567/6567 [==============================] - 1s 175us/step - loss: 0.0042 - acc: 1.0000 - mae: 0.0042 - mse: 5.8793e-05 - val_loss: 0.2187 - val_acc: 1.0000 - val_mae: 0.0042 - val_mse: 1.7431e-05\n",
      "Epoch 566/1000\n",
      "6567/6567 [==============================] - 1s 175us/step - loss: 0.0042 - acc: 1.0001 - mae: 0.0042 - mse: 1.7318e-05 - val_loss: 0.2176 - val_acc: 1.0000 - val_mae: 0.0041 - val_mse: 1.7202e-05\n",
      "Epoch 567/1000\n",
      "6567/6567 [==============================] - 1s 174us/step - loss: 0.0041 - acc: 1.0000 - mae: 0.0041 - mse: 1.7168e-05 - val_loss: 0.2189 - val_acc: 1.0000 - val_mae: 0.0042 - val_mse: 1.7397e-05\n",
      "Epoch 568/1000\n",
      "6567/6567 [==============================] - 1s 174us/step - loss: 0.0042 - acc: 1.0001 - mae: 0.0042 - mse: 7.1318e-05 - val_loss: 0.2189 - val_acc: 1.0000 - val_mae: 0.0042 - val_mse: 1.7361e-05\n",
      "Epoch 569/1000\n",
      "6567/6567 [==============================] - 1s 174us/step - loss: 0.0042 - acc: 1.0000 - mae: 0.0042 - mse: 8.1512e-05 - val_loss: 0.2210 - val_acc: 1.0000 - val_mae: 0.0042 - val_mse: 1.7622e-05\n",
      "Epoch 570/1000\n",
      "6567/6567 [==============================] - 1s 173us/step - loss: 0.0042 - acc: 1.0000 - mae: 0.0042 - mse: 9.6285e-05 - val_loss: 0.2234 - val_acc: 1.0000 - val_mae: 0.0042 - val_mse: 1.7948e-05\n",
      "Epoch 571/1000\n",
      "6567/6567 [==============================] - 1s 174us/step - loss: 0.0042 - acc: 1.0000 - mae: 0.0042 - mse: 7.7418e-05 - val_loss: 0.2232 - val_acc: 1.0000 - val_mae: 0.0042 - val_mse: 1.7852e-05\n",
      "Epoch 572/1000\n",
      "6567/6567 [==============================] - 1s 174us/step - loss: 0.0042 - acc: 1.0001 - mae: 0.0042 - mse: 1.7700e-05 - val_loss: 0.2219 - val_acc: 1.0000 - val_mae: 0.0042 - val_mse: 1.7567e-05\n",
      "Epoch 573/1000\n",
      "6567/6567 [==============================] - 1s 174us/step - loss: 0.0042 - acc: 1.0000 - mae: 0.0042 - mse: 8.8869e-05 - val_loss: 0.2220 - val_acc: 1.0000 - val_mae: 0.0042 - val_mse: 1.7479e-05\n",
      "Epoch 574/1000\n",
      "6567/6567 [==============================] - 1s 173us/step - loss: 0.0042 - acc: 1.0000 - mae: 0.0042 - mse: 1.0210e-04 - val_loss: 0.2228 - val_acc: 1.0000 - val_mae: 0.0042 - val_mse: 1.7503e-05\n",
      "Epoch 575/1000\n",
      "6567/6567 [==============================] - 1s 174us/step - loss: 0.0042 - acc: 1.0001 - mae: 0.0042 - mse: 7.9258e-05 - val_loss: 0.2234 - val_acc: 1.0000 - val_mae: 0.0042 - val_mse: 1.7490e-05\n",
      "Epoch 576/1000\n",
      "6567/6567 [==============================] - 1s 175us/step - loss: 0.0042 - acc: 1.0000 - mae: 0.0042 - mse: 7.5848e-05 - val_loss: 0.2222 - val_acc: 1.0000 - val_mae: 0.0042 - val_mse: 1.7297e-05\n",
      "Epoch 577/1000\n",
      "6567/6567 [==============================] - 1s 176us/step - loss: 0.0041 - acc: 1.0000 - mae: 0.0041 - mse: 9.3757e-05 - val_loss: 0.2213 - val_acc: 1.0000 - val_mae: 0.0041 - val_mse: 1.7124e-05\n",
      "Epoch 578/1000\n",
      "6567/6567 [==============================] - 1s 175us/step - loss: 0.0041 - acc: 1.0000 - mae: 0.0041 - mse: 8.1012e-05 - val_loss: 0.2222 - val_acc: 1.0000 - val_mae: 0.0041 - val_mse: 1.7177e-05\n",
      "Epoch 579/1000\n",
      "6567/6567 [==============================] - 1s 174us/step - loss: 0.0042 - acc: 1.0000 - mae: 0.0041 - mse: 7.0155e-05 - val_loss: 0.2234 - val_acc: 1.0000 - val_mae: 0.0042 - val_mse: 1.7294e-05\n",
      "Epoch 580/1000\n",
      "6567/6567 [==============================] - 1s 174us/step - loss: 0.0042 - acc: 1.0001 - mae: 0.0042 - mse: 7.5978e-05 - val_loss: 0.2262 - val_acc: 1.0000 - val_mae: 0.0042 - val_mse: 1.7645e-05\n",
      "Epoch 581/1000\n",
      "6567/6567 [==============================] - 1s 175us/step - loss: 0.0042 - acc: 1.0001 - mae: 0.0042 - mse: 1.7667e-05 - val_loss: 0.2259 - val_acc: 1.0000 - val_mae: 0.0042 - val_mse: 1.7606e-05\n",
      "Epoch 582/1000\n",
      "6567/6567 [==============================] - 1s 174us/step - loss: 0.0042 - acc: 1.0001 - mae: 0.0042 - mse: 1.7446e-05 - val_loss: 0.2243 - val_acc: 1.0000 - val_mae: 0.0042 - val_mse: 1.7326e-05\n"
     ]
    },
    {
     "name": "stdout",
     "output_type": "stream",
     "text": [
      "Epoch 583/1000\n",
      "6567/6567 [==============================] - 1s 175us/step - loss: 0.0042 - acc: 1.0001 - mae: 0.0042 - mse: 7.7123e-05 - val_loss: 0.2237 - val_acc: 1.0000 - val_mae: 0.0041 - val_mse: 1.7171e-05\n",
      "Epoch 584/1000\n",
      "6567/6567 [==============================] - 1s 177us/step - loss: 0.0041 - acc: 1.0000 - mae: 0.0041 - mse: 6.5018e-05 - val_loss: 0.2226 - val_acc: 1.0000 - val_mae: 0.0041 - val_mse: 1.6953e-05\n",
      "Epoch 585/1000\n",
      "6567/6567 [==============================] - 1s 179us/step - loss: 0.0041 - acc: 1.0000 - mae: 0.0041 - mse: 7.4810e-05 - val_loss: 0.2218 - val_acc: 1.0000 - val_mae: 0.0041 - val_mse: 1.6767e-05\n",
      "Epoch 586/1000\n",
      "6567/6567 [==============================] - 1s 175us/step - loss: 0.0041 - acc: 1.0000 - mae: 0.0041 - mse: 6.3564e-05 - val_loss: 0.2249 - val_acc: 1.0000 - val_mae: 0.0041 - val_mse: 1.7211e-05\n",
      "Epoch 587/1000\n",
      "6567/6567 [==============================] - 1s 174us/step - loss: 0.0041 - acc: 1.0001 - mae: 0.0041 - mse: 7.2246e-05 - val_loss: 0.2245 - val_acc: 1.0000 - val_mae: 0.0041 - val_mse: 1.7087e-05\n",
      "Epoch 588/1000\n",
      "6567/6567 [==============================] - 1s 175us/step - loss: 0.0041 - acc: 1.0000 - mae: 0.0041 - mse: 7.3373e-05 - val_loss: 0.2249 - val_acc: 1.0000 - val_mae: 0.0041 - val_mse: 1.7156e-05\n",
      "Epoch 589/1000\n",
      "6567/6567 [==============================] - 1s 175us/step - loss: 0.0041 - acc: 1.0000 - mae: 0.0041 - mse: 7.2587e-05 - val_loss: 0.2237 - val_acc: 1.0000 - val_mae: 0.0041 - val_mse: 1.6901e-05\n",
      "Epoch 590/1000\n",
      "6567/6567 [==============================] - 1s 176us/step - loss: 0.0041 - acc: 1.0000 - mae: 0.0041 - mse: 8.9133e-05 - val_loss: 0.2243 - val_acc: 1.0000 - val_mae: 0.0041 - val_mse: 1.6936e-05\n",
      "Epoch 591/1000\n",
      "6567/6567 [==============================] - 1s 176us/step - loss: 0.0041 - acc: 1.0001 - mae: 0.0041 - mse: 6.7306e-05 - val_loss: 0.2249 - val_acc: 1.0000 - val_mae: 0.0041 - val_mse: 1.6970e-05\n",
      "Epoch 592/1000\n",
      "6567/6567 [==============================] - 1s 174us/step - loss: 0.0041 - acc: 1.0001 - mae: 0.0041 - mse: 8.4610e-05 - val_loss: 0.2239 - val_acc: 1.0000 - val_mae: 0.0041 - val_mse: 1.6784e-05\n",
      "Epoch 593/1000\n",
      "6567/6567 [==============================] - 1s 175us/step - loss: 0.0041 - acc: 1.0000 - mae: 0.0041 - mse: 7.0359e-05 - val_loss: 0.2266 - val_acc: 1.0000 - val_mae: 0.0041 - val_mse: 1.7117e-05\n",
      "Epoch 594/1000\n",
      "6567/6567 [==============================] - 1s 176us/step - loss: 0.0042 - acc: 1.0001 - mae: 0.0042 - mse: 6.0816e-05 - val_loss: 0.2293 - val_acc: 1.0000 - val_mae: 0.0042 - val_mse: 1.7461e-05\n",
      "Epoch 595/1000\n",
      "6567/6567 [==============================] - 1s 178us/step - loss: 0.0042 - acc: 1.0000 - mae: 0.0042 - mse: 1.7424e-05 - val_loss: 0.2294 - val_acc: 1.0000 - val_mae: 0.0042 - val_mse: 1.7479e-05\n",
      "Epoch 596/1000\n",
      "6567/6567 [==============================] - 1s 175us/step - loss: 0.0042 - acc: 1.0000 - mae: 0.0042 - mse: 1.7324e-05 - val_loss: 0.2276 - val_acc: 1.0000 - val_mae: 0.0041 - val_mse: 1.7196e-05\n",
      "Epoch 597/1000\n",
      "6567/6567 [==============================] - 1s 176us/step - loss: 0.0041 - acc: 1.0000 - mae: 0.0041 - mse: 8.3103e-05 - val_loss: 0.2263 - val_acc: 1.0000 - val_mae: 0.0041 - val_mse: 1.6971e-05\n",
      "Epoch 598/1000\n",
      "6567/6567 [==============================] - 1s 176us/step - loss: 0.0041 - acc: 1.0001 - mae: 0.0041 - mse: 6.1751e-05 - val_loss: 0.2255 - val_acc: 1.0000 - val_mae: 0.0041 - val_mse: 1.6817e-05\n",
      "Epoch 599/1000\n",
      "6567/6567 [==============================] - 1s 176us/step - loss: 0.0041 - acc: 1.0001 - mae: 0.0041 - mse: 6.4961e-05 - val_loss: 0.2249 - val_acc: 1.0000 - val_mae: 0.0041 - val_mse: 1.6664e-05\n",
      "Epoch 600/1000\n",
      "6567/6567 [==============================] - 1s 176us/step - loss: 0.0041 - acc: 1.0001 - mae: 0.0041 - mse: 4.7362e-05 - val_loss: 0.2235 - val_acc: 1.0000 - val_mae: 0.0040 - val_mse: 1.6417e-05\n",
      "Epoch 601/1000\n",
      "6567/6567 [==============================] - 1s 194us/step - loss: 0.0040 - acc: 1.0000 - mae: 0.0040 - mse: 6.5139e-05 - val_loss: 0.2231 - val_acc: 1.0000 - val_mae: 0.0040 - val_mse: 1.6345e-05\n",
      "Epoch 602/1000\n",
      "6567/6567 [==============================] - 1s 194us/step - loss: 0.0040 - acc: 1.0000 - mae: 0.0040 - mse: 6.3520e-05 - val_loss: 0.2219 - val_acc: 1.0000 - val_mae: 0.0040 - val_mse: 1.6140e-05\n",
      "Epoch 603/1000\n",
      "6567/6567 [==============================] - 1s 193us/step - loss: 0.0040 - acc: 1.0001 - mae: 0.0040 - mse: 6.3605e-05 - val_loss: 0.2232 - val_acc: 1.0000 - val_mae: 0.0040 - val_mse: 1.6265e-05\n",
      "Epoch 604/1000\n",
      "6567/6567 [==============================] - 1s 193us/step - loss: 0.0040 - acc: 1.0000 - mae: 0.0040 - mse: 1.6101e-05 - val_loss: 0.2217 - val_acc: 1.0000 - val_mae: 0.0040 - val_mse: 1.6009e-05\n",
      "Epoch 605/1000\n",
      "6567/6567 [==============================] - 1s 194us/step - loss: 0.0040 - acc: 1.0000 - mae: 0.0040 - mse: 6.0236e-05 - val_loss: 0.2218 - val_acc: 1.0000 - val_mae: 0.0040 - val_mse: 1.5958e-05\n",
      "Epoch 606/1000\n",
      "6567/6567 [==============================] - 1s 198us/step - loss: 0.0040 - acc: 1.0000 - mae: 0.0040 - mse: 6.4673e-05 - val_loss: 0.2221 - val_acc: 1.0000 - val_mae: 0.0040 - val_mse: 1.5913e-05\n",
      "Epoch 607/1000\n",
      "6567/6567 [==============================] - 1s 195us/step - loss: 0.0040 - acc: 1.0000 - mae: 0.0040 - mse: 5.7606e-05 - val_loss: 0.2206 - val_acc: 1.0000 - val_mae: 0.0040 - val_mse: 1.5702e-05\n",
      "Epoch 608/1000\n",
      "6567/6567 [==============================] - 1s 190us/step - loss: 0.0040 - acc: 1.0000 - mae: 0.0040 - mse: 6.3428e-05 - val_loss: 0.2214 - val_acc: 1.0000 - val_mae: 0.0040 - val_mse: 1.5794e-05\n",
      "Epoch 609/1000\n",
      "6567/6567 [==============================] - 1s 177us/step - loss: 0.0040 - acc: 1.0000 - mae: 0.0040 - mse: 7.5978e-05 - val_loss: 0.2238 - val_acc: 1.0000 - val_mae: 0.0040 - val_mse: 1.6060e-05\n",
      "Epoch 610/1000\n",
      "6567/6567 [==============================] - 1s 175us/step - loss: 0.0040 - acc: 1.0001 - mae: 0.0040 - mse: 6.1591e-05 - val_loss: 0.2238 - val_acc: 1.0000 - val_mae: 0.0040 - val_mse: 1.6006e-05\n",
      "Epoch 611/1000\n",
      "6567/6567 [==============================] - 1s 174us/step - loss: 0.0040 - acc: 1.0000 - mae: 0.0040 - mse: 1.5986e-05 - val_loss: 0.2243 - val_acc: 1.0000 - val_mae: 0.0040 - val_mse: 1.6074e-05\n",
      "Epoch 612/1000\n",
      "6567/6567 [==============================] - 1s 175us/step - loss: 0.0040 - acc: 1.0001 - mae: 0.0040 - mse: 1.5913e-05 - val_loss: 0.2227 - val_acc: 1.0000 - val_mae: 0.0040 - val_mse: 1.5823e-05\n",
      "Epoch 613/1000\n",
      "6567/6567 [==============================] - 1s 176us/step - loss: 0.0040 - acc: 1.0000 - mae: 0.0040 - mse: 1.5841e-05 - val_loss: 0.2243 - val_acc: 1.0000 - val_mae: 0.0040 - val_mse: 1.6027e-05\n",
      "Epoch 614/1000\n",
      "6567/6567 [==============================] - 1s 174us/step - loss: 0.0040 - acc: 1.0000 - mae: 0.0040 - mse: 6.5505e-05 - val_loss: 0.2247 - val_acc: 1.0000 - val_mae: 0.0040 - val_mse: 1.6050e-05\n",
      "Epoch 615/1000\n",
      "6567/6567 [==============================] - 1s 176us/step - loss: 0.0040 - acc: 1.0000 - mae: 0.0040 - mse: 6.3647e-05 - val_loss: 0.2232 - val_acc: 1.0000 - val_mae: 0.0040 - val_mse: 1.5796e-05\n",
      "Epoch 616/1000\n",
      "6567/6567 [==============================] - 1s 176us/step - loss: 0.0040 - acc: 1.0001 - mae: 0.0040 - mse: 6.5770e-05 - val_loss: 0.2258 - val_acc: 1.0000 - val_mae: 0.0040 - val_mse: 1.6073e-05\n",
      "Epoch 617/1000\n",
      "6567/6567 [==============================] - 1s 176us/step - loss: 0.0040 - acc: 1.0000 - mae: 0.0040 - mse: 6.2823e-05 - val_loss: 0.2249 - val_acc: 1.0000 - val_mae: 0.0040 - val_mse: 1.5908e-05\n",
      "Epoch 618/1000\n",
      "6567/6567 [==============================] - 1s 175us/step - loss: 0.0040 - acc: 1.0000 - mae: 0.0040 - mse: 8.1135e-05 - val_loss: 0.2248 - val_acc: 1.0000 - val_mae: 0.0040 - val_mse: 1.5816e-05\n",
      "Epoch 619/1000\n",
      "6567/6567 [==============================] - 1s 175us/step - loss: 0.0040 - acc: 1.0001 - mae: 0.0040 - mse: 7.5657e-05 - val_loss: 0.2252 - val_acc: 1.0000 - val_mae: 0.0040 - val_mse: 1.5831e-05\n",
      "Epoch 620/1000\n",
      "6567/6567 [==============================] - 1s 176us/step - loss: 0.0040 - acc: 1.0001 - mae: 0.0040 - mse: 7.8716e-05 - val_loss: 0.2292 - val_acc: 1.0000 - val_mae: 0.0040 - val_mse: 1.6323e-05\n",
      "Epoch 621/1000\n",
      "6567/6567 [==============================] - 1s 175us/step - loss: 0.0041 - acc: 1.0001 - mae: 0.0040 - mse: 7.3240e-05 - val_loss: 0.2308 - val_acc: 1.0000 - val_mae: 0.0041 - val_mse: 1.6467e-05\n"
     ]
    },
    {
     "name": "stdout",
     "output_type": "stream",
     "text": [
      "Epoch 622/1000\n",
      "6567/6567 [==============================] - 1s 176us/step - loss: 0.0041 - acc: 1.0000 - mae: 0.0041 - mse: 7.2120e-05 - val_loss: 0.2304 - val_acc: 1.0000 - val_mae: 0.0040 - val_mse: 1.6413e-05\n",
      "Epoch 623/1000\n",
      "6567/6567 [==============================] - 1s 177us/step - loss: 0.0040 - acc: 1.0001 - mae: 0.0040 - mse: 6.7413e-05 - val_loss: 0.2288 - val_acc: 1.0000 - val_mae: 0.0040 - val_mse: 1.6138e-05\n",
      "Epoch 624/1000\n",
      "6567/6567 [==============================] - 1s 176us/step - loss: 0.0040 - acc: 1.0001 - mae: 0.0040 - mse: 7.8213e-05 - val_loss: 0.2311 - val_acc: 1.0000 - val_mae: 0.0040 - val_mse: 1.6410e-05\n",
      "Epoch 625/1000\n",
      "6567/6567 [==============================] - 1s 176us/step - loss: 0.0041 - acc: 1.0001 - mae: 0.0041 - mse: 7.1800e-05 - val_loss: 0.2339 - val_acc: 1.0000 - val_mae: 0.0041 - val_mse: 1.6741e-05\n",
      "Epoch 626/1000\n",
      "6567/6567 [==============================] - 1s 175us/step - loss: 0.0041 - acc: 1.0001 - mae: 0.0041 - mse: 9.9973e-05 - val_loss: 0.2326 - val_acc: 1.0000 - val_mae: 0.0041 - val_mse: 1.6492e-05\n",
      "Epoch 627/1000\n",
      "6567/6567 [==============================] - 1s 177us/step - loss: 0.0041 - acc: 0.9999 - mae: 0.0041 - mse: 7.5082e-05 - val_loss: 0.2326 - val_acc: 1.0000 - val_mae: 0.0041 - val_mse: 1.6435e-05\n",
      "Epoch 628/1000\n",
      "6567/6567 [==============================] - 1s 178us/step - loss: 0.0041 - acc: 1.0001 - mae: 0.0041 - mse: 7.2536e-05 - val_loss: 0.2336 - val_acc: 1.0000 - val_mae: 0.0041 - val_mse: 1.6527e-05\n",
      "Epoch 629/1000\n",
      "6567/6567 [==============================] - 1s 177us/step - loss: 0.0041 - acc: 1.0001 - mae: 0.0041 - mse: 7.0914e-05 - val_loss: 0.2356 - val_acc: 1.0000 - val_mae: 0.0041 - val_mse: 1.6734e-05\n",
      "Epoch 630/1000\n",
      "6567/6567 [==============================] - 1s 176us/step - loss: 0.0041 - acc: 1.0001 - mae: 0.0041 - mse: 1.6599e-05 - val_loss: 0.2342 - val_acc: 1.0000 - val_mae: 0.0041 - val_mse: 1.6484e-05\n",
      "Epoch 631/1000\n",
      "6567/6567 [==============================] - 1s 176us/step - loss: 0.0040 - acc: 1.0001 - mae: 0.0040 - mse: 5.5541e-05 - val_loss: 0.2325 - val_acc: 1.0000 - val_mae: 0.0040 - val_mse: 1.6206e-05\n",
      "Epoch 632/1000\n",
      "6567/6567 [==============================] - 1s 175us/step - loss: 0.0040 - acc: 1.0000 - mae: 0.0040 - mse: 7.0830e-05 - val_loss: 0.2308 - val_acc: 1.0000 - val_mae: 0.0040 - val_mse: 1.5974e-05\n",
      "Epoch 633/1000\n",
      "6567/6567 [==============================] - 1s 175us/step - loss: 0.0040 - acc: 1.0001 - mae: 0.0040 - mse: 1.5888e-05 - val_loss: 0.2302 - val_acc: 1.0000 - val_mae: 0.0040 - val_mse: 1.5825e-05\n",
      "Epoch 634/1000\n",
      "6567/6567 [==============================] - 1s 176us/step - loss: 0.0040 - acc: 1.0000 - mae: 0.0040 - mse: 9.1045e-05 - val_loss: 0.2339 - val_acc: 1.0000 - val_mae: 0.0040 - val_mse: 1.6318e-05\n",
      "Epoch 635/1000\n",
      "6567/6567 [==============================] - 1s 176us/step - loss: 0.0040 - acc: 1.0000 - mae: 0.0040 - mse: 9.1339e-05 - val_loss: 0.2333 - val_acc: 1.0000 - val_mae: 0.0040 - val_mse: 1.6127e-05\n",
      "Epoch 636/1000\n",
      "6567/6567 [==============================] - 1s 174us/step - loss: 0.0040 - acc: 1.0001 - mae: 0.0040 - mse: 5.7302e-05 - val_loss: 0.2328 - val_acc: 1.0000 - val_mae: 0.0040 - val_mse: 1.6021e-05\n",
      "Epoch 637/1000\n",
      "6567/6567 [==============================] - 1s 175us/step - loss: 0.0040 - acc: 1.0001 - mae: 0.0040 - mse: 7.9586e-05 - val_loss: 0.2323 - val_acc: 1.0000 - val_mae: 0.0040 - val_mse: 1.5880e-05\n",
      "Epoch 638/1000\n",
      "6567/6567 [==============================] - 1s 174us/step - loss: 0.0040 - acc: 1.0001 - mae: 0.0040 - mse: 1.5724e-05 - val_loss: 0.2310 - val_acc: 1.0000 - val_mae: 0.0039 - val_mse: 1.5626e-05\n",
      "Epoch 639/1000\n",
      "6567/6567 [==============================] - 1s 174us/step - loss: 0.0039 - acc: 1.0001 - mae: 0.0039 - mse: 9.2483e-05 - val_loss: 0.2304 - val_acc: 1.0000 - val_mae: 0.0039 - val_mse: 1.5458e-05\n",
      "Epoch 640/1000\n",
      "6567/6567 [==============================] - 1s 174us/step - loss: 0.0039 - acc: 0.9999 - mae: 0.0039 - mse: 5.3278e-05 - val_loss: 0.2302 - val_acc: 1.0000 - val_mae: 0.0039 - val_mse: 1.5372e-05\n",
      "Epoch 641/1000\n",
      "6567/6567 [==============================] - 1s 176us/step - loss: 0.0040 - acc: 1.0001 - mae: 0.0039 - mse: 9.7239e-05 - val_loss: 0.2333 - val_acc: 1.0000 - val_mae: 0.0040 - val_mse: 1.5724e-05\n",
      "Epoch 642/1000\n",
      "6567/6567 [==============================] - 1s 175us/step - loss: 0.0040 - acc: 1.0001 - mae: 0.0040 - mse: 8.0386e-05 - val_loss: 0.2372 - val_acc: 1.0000 - val_mae: 0.0040 - val_mse: 1.6179e-05\n",
      "Epoch 643/1000\n",
      "6567/6567 [==============================] - 1s 175us/step - loss: 0.0040 - acc: 1.0001 - mae: 0.0040 - mse: 1.6330e-05 - val_loss: 0.2398 - val_acc: 1.0000 - val_mae: 0.0041 - val_mse: 1.6464e-05\n",
      "Epoch 644/1000\n",
      "6567/6567 [==============================] - 1s 174us/step - loss: 0.0041 - acc: 1.0000 - mae: 0.0041 - mse: 7.6814e-05 - val_loss: 0.2426 - val_acc: 1.0000 - val_mae: 0.0041 - val_mse: 1.6845e-05\n",
      "Epoch 645/1000\n",
      "6567/6567 [==============================] - 1s 175us/step - loss: 0.0041 - acc: 1.0000 - mae: 0.0041 - mse: 8.9094e-05 - val_loss: 0.2451 - val_acc: 1.0000 - val_mae: 0.0041 - val_mse: 1.7137e-05\n",
      "Epoch 646/1000\n",
      "6567/6567 [==============================] - 1s 184us/step - loss: 0.0041 - acc: 1.0001 - mae: 0.0041 - mse: 1.0113e-04 - val_loss: 0.2445 - val_acc: 1.0000 - val_mae: 0.0041 - val_mse: 1.6986e-05\n",
      "Epoch 647/1000\n",
      "6567/6567 [==============================] - 1s 179us/step - loss: 0.0041 - acc: 1.0000 - mae: 0.0041 - mse: 7.0691e-05 - val_loss: 0.2429 - val_acc: 1.0000 - val_mae: 0.0041 - val_mse: 1.6668e-05\n",
      "Epoch 648/1000\n",
      "6567/6567 [==============================] - 1s 175us/step - loss: 0.0041 - acc: 1.0000 - mae: 0.0041 - mse: 6.4051e-05 - val_loss: 0.2421 - val_acc: 1.0000 - val_mae: 0.0041 - val_mse: 1.6499e-05\n",
      "Epoch 649/1000\n",
      "6567/6567 [==============================] - 1s 177us/step - loss: 0.0041 - acc: 1.0001 - mae: 0.0041 - mse: 6.4078e-05 - val_loss: 0.2451 - val_acc: 1.0000 - val_mae: 0.0041 - val_mse: 1.6805e-05\n",
      "Epoch 650/1000\n",
      "6567/6567 [==============================] - 1s 176us/step - loss: 0.0041 - acc: 1.0000 - mae: 0.0041 - mse: 1.0346e-04 - val_loss: 0.2458 - val_acc: 1.0000 - val_mae: 0.0041 - val_mse: 1.6830e-05\n",
      "Epoch 651/1000\n",
      "6567/6567 [==============================] - 1s 176us/step - loss: 0.0041 - acc: 1.0001 - mae: 0.0041 - mse: 9.0130e-05 - val_loss: 0.2448 - val_acc: 1.0000 - val_mae: 0.0041 - val_mse: 1.6603e-05\n",
      "Epoch 652/1000\n",
      "6567/6567 [==============================] - 1s 194us/step - loss: 0.0041 - acc: 1.0001 - mae: 0.0041 - mse: 8.4977e-05 - val_loss: 0.2474 - val_acc: 1.0000 - val_mae: 0.0041 - val_mse: 1.6863e-05\n",
      "Epoch 653/1000\n",
      "6567/6567 [==============================] - 1s 193us/step - loss: 0.0041 - acc: 1.0001 - mae: 0.0041 - mse: 1.6743e-05 - val_loss: 0.2459 - val_acc: 1.0000 - val_mae: 0.0041 - val_mse: 1.6673e-05\n",
      "Epoch 654/1000\n",
      "6567/6567 [==============================] - 1s 197us/step - loss: 0.0041 - acc: 1.0001 - mae: 0.0041 - mse: 7.3446e-05 - val_loss: 0.2448 - val_acc: 1.0000 - val_mae: 0.0041 - val_mse: 1.6460e-05\n",
      "Epoch 655/1000\n",
      "6567/6567 [==============================] - 1s 194us/step - loss: 0.0041 - acc: 1.0001 - mae: 0.0041 - mse: 8.7596e-05 - val_loss: 0.2488 - val_acc: 1.0000 - val_mae: 0.0041 - val_mse: 1.6901e-05\n",
      "Epoch 656/1000\n",
      "6567/6567 [==============================] - 1s 196us/step - loss: 0.0041 - acc: 1.0001 - mae: 0.0041 - mse: 1.1901e-04 - val_loss: 0.2510 - val_acc: 1.0000 - val_mae: 0.0041 - val_mse: 1.7112e-05\n",
      "Epoch 657/1000\n",
      "6567/6567 [==============================] - 1s 192us/step - loss: 0.0041 - acc: 1.0001 - mae: 0.0041 - mse: 8.9241e-05 - val_loss: 0.2508 - val_acc: 1.0000 - val_mae: 0.0041 - val_mse: 1.6979e-05\n",
      "Epoch 658/1000\n",
      "6567/6567 [==============================] - 1s 193us/step - loss: 0.0041 - acc: 1.0001 - mae: 0.0042 - mse: 7.7981e-05 - val_loss: 0.2520 - val_acc: 1.0000 - val_mae: 0.0041 - val_mse: 1.7038e-05\n",
      "Epoch 659/1000\n",
      "6567/6567 [==============================] - 1s 192us/step - loss: 0.0041 - acc: 1.0001 - mae: 0.0041 - mse: 1.7012e-05 - val_loss: 0.2523 - val_acc: 1.0000 - val_mae: 0.0041 - val_mse: 1.7083e-05\n",
      "Epoch 660/1000\n",
      "6567/6567 [==============================] - 1s 177us/step - loss: 0.0042 - acc: 1.0001 - mae: 0.0042 - mse: 7.1094e-05 - val_loss: 0.2550 - val_acc: 1.0000 - val_mae: 0.0042 - val_mse: 1.7415e-05\n"
     ]
    },
    {
     "name": "stdout",
     "output_type": "stream",
     "text": [
      "Epoch 661/1000\n",
      "6567/6567 [==============================] - 1s 179us/step - loss: 0.0042 - acc: 1.0001 - mae: 0.0042 - mse: 1.7507e-05 - val_loss: 0.2552 - val_acc: 1.0000 - val_mae: 0.0042 - val_mse: 1.7447e-05\n",
      "Epoch 662/1000\n",
      "6567/6567 [==============================] - 1s 179us/step - loss: 0.0042 - acc: 1.0001 - mae: 0.0042 - mse: 8.3334e-05 - val_loss: 0.2552 - val_acc: 1.0000 - val_mae: 0.0042 - val_mse: 1.7381e-05\n",
      "Epoch 663/1000\n",
      "6567/6567 [==============================] - 1s 177us/step - loss: 0.0042 - acc: 1.0000 - mae: 0.0042 - mse: 7.6510e-05 - val_loss: 0.2537 - val_acc: 1.0000 - val_mae: 0.0041 - val_mse: 1.7093e-05\n",
      "Epoch 664/1000\n",
      "6567/6567 [==============================] - 1s 177us/step - loss: 0.0042 - acc: 1.0000 - mae: 0.0042 - mse: 7.0168e-05 - val_loss: 0.2564 - val_acc: 1.0000 - val_mae: 0.0042 - val_mse: 1.7462e-05\n",
      "Epoch 665/1000\n",
      "6567/6567 [==============================] - 1s 178us/step - loss: 0.0042 - acc: 1.0001 - mae: 0.0042 - mse: 1.0895e-04 - val_loss: 0.2551 - val_acc: 1.0000 - val_mae: 0.0042 - val_mse: 1.7261e-05\n",
      "Epoch 666/1000\n",
      "6567/6567 [==============================] - 1s 179us/step - loss: 0.0042 - acc: 1.0001 - mae: 0.0042 - mse: 7.7859e-05 - val_loss: 0.2541 - val_acc: 1.0000 - val_mae: 0.0041 - val_mse: 1.7070e-05\n",
      "Epoch 667/1000\n",
      "6567/6567 [==============================] - 1s 178us/step - loss: 0.0041 - acc: 1.0000 - mae: 0.0041 - mse: 1.0329e-04 - val_loss: 0.2549 - val_acc: 1.0000 - val_mae: 0.0041 - val_mse: 1.7102e-05\n",
      "Epoch 668/1000\n",
      "6567/6567 [==============================] - 1s 178us/step - loss: 0.0041 - acc: 1.0001 - mae: 0.0041 - mse: 1.6936e-05 - val_loss: 0.2529 - val_acc: 1.0000 - val_mae: 0.0041 - val_mse: 1.6781e-05\n",
      "Epoch 669/1000\n",
      "6567/6567 [==============================] - 1s 177us/step - loss: 0.0041 - acc: 1.0001 - mae: 0.0041 - mse: 1.0019e-04 - val_loss: 0.2551 - val_acc: 1.0000 - val_mae: 0.0041 - val_mse: 1.7008e-05\n",
      "Epoch 670/1000\n",
      "6567/6567 [==============================] - 1s 176us/step - loss: 0.0042 - acc: 1.0000 - mae: 0.0042 - mse: 7.9636e-05 - val_loss: 0.2564 - val_acc: 1.0000 - val_mae: 0.0041 - val_mse: 1.7181e-05\n",
      "Epoch 671/1000\n",
      "6567/6567 [==============================] - 1s 178us/step - loss: 0.0041 - acc: 1.0000 - mae: 0.0041 - mse: 7.2843e-05 - val_loss: 0.2544 - val_acc: 1.0000 - val_mae: 0.0041 - val_mse: 1.6858e-05\n",
      "Epoch 672/1000\n",
      "6567/6567 [==============================] - 1s 176us/step - loss: 0.0041 - acc: 1.0000 - mae: 0.0041 - mse: 8.1919e-05 - val_loss: 0.2550 - val_acc: 1.0000 - val_mae: 0.0041 - val_mse: 1.6936e-05\n",
      "Epoch 673/1000\n",
      "6567/6567 [==============================] - 1s 177us/step - loss: 0.0041 - acc: 1.0000 - mae: 0.0041 - mse: 6.4208e-05 - val_loss: 0.2571 - val_acc: 1.0000 - val_mae: 0.0041 - val_mse: 1.7159e-05\n",
      "Epoch 674/1000\n",
      "6567/6567 [==============================] - 1s 178us/step - loss: 0.0042 - acc: 1.0001 - mae: 0.0042 - mse: 7.5144e-05 - val_loss: 0.2583 - val_acc: 1.0000 - val_mae: 0.0042 - val_mse: 1.7227e-05\n",
      "Epoch 675/1000\n",
      "6567/6567 [==============================] - 1s 176us/step - loss: 0.0041 - acc: 1.0000 - mae: 0.0041 - mse: 1.7099e-05 - val_loss: 0.2568 - val_acc: 1.0000 - val_mae: 0.0041 - val_mse: 1.7027e-05\n",
      "Epoch 676/1000\n",
      "6567/6567 [==============================] - 1s 177us/step - loss: 0.0041 - acc: 1.0001 - mae: 0.0041 - mse: 8.2554e-05 - val_loss: 0.2582 - val_acc: 1.0000 - val_mae: 0.0041 - val_mse: 1.7165e-05\n",
      "Epoch 677/1000\n",
      "6567/6567 [==============================] - 1s 177us/step - loss: 0.0042 - acc: 1.0001 - mae: 0.0042 - mse: 7.3541e-05 - val_loss: 0.2611 - val_acc: 1.0000 - val_mae: 0.0042 - val_mse: 1.7525e-05\n",
      "Epoch 678/1000\n",
      "6567/6567 [==============================] - 1s 177us/step - loss: 0.0042 - acc: 1.0000 - mae: 0.0042 - mse: 8.4331e-05 - val_loss: 0.2608 - val_acc: 1.0000 - val_mae: 0.0042 - val_mse: 1.7491e-05\n",
      "Epoch 679/1000\n",
      "6567/6567 [==============================] - 1s 178us/step - loss: 0.0042 - acc: 1.0000 - mae: 0.0042 - mse: 9.3667e-05 - val_loss: 0.2592 - val_acc: 1.0000 - val_mae: 0.0041 - val_mse: 1.7198e-05\n",
      "Epoch 680/1000\n",
      "6567/6567 [==============================] - 1s 178us/step - loss: 0.0042 - acc: 1.0001 - mae: 0.0042 - mse: 7.7344e-05 - val_loss: 0.2609 - val_acc: 1.0000 - val_mae: 0.0042 - val_mse: 1.7372e-05\n",
      "Epoch 681/1000\n",
      "6567/6567 [==============================] - 1s 177us/step - loss: 0.0042 - acc: 1.0001 - mae: 0.0042 - mse: 7.1242e-05 - val_loss: 0.2615 - val_acc: 1.0000 - val_mae: 0.0042 - val_mse: 1.7373e-05\n",
      "Epoch 682/1000\n",
      "6567/6567 [==============================] - 1s 177us/step - loss: 0.0042 - acc: 1.0001 - mae: 0.0042 - mse: 8.1518e-05 - val_loss: 0.2620 - val_acc: 1.0000 - val_mae: 0.0042 - val_mse: 1.7365e-05\n",
      "Epoch 683/1000\n",
      "6567/6567 [==============================] - 1s 175us/step - loss: 0.0042 - acc: 1.0000 - mae: 0.0042 - mse: 6.4272e-05 - val_loss: 0.2602 - val_acc: 1.0000 - val_mae: 0.0041 - val_mse: 1.7074e-05\n",
      "Epoch 684/1000\n",
      "6567/6567 [==============================] - 1s 176us/step - loss: 0.0042 - acc: 1.0000 - mae: 0.0042 - mse: 7.3021e-05 - val_loss: 0.2616 - val_acc: 1.0000 - val_mae: 0.0042 - val_mse: 1.7255e-05\n",
      "Epoch 685/1000\n",
      "6567/6567 [==============================] - 1s 177us/step - loss: 0.0042 - acc: 1.0001 - mae: 0.0042 - mse: 8.1516e-05 - val_loss: 0.2618 - val_acc: 1.0000 - val_mae: 0.0041 - val_mse: 1.7220e-05\n",
      "Epoch 686/1000\n",
      "6567/6567 [==============================] - 1s 175us/step - loss: 0.0042 - acc: 1.0001 - mae: 0.0042 - mse: 7.9879e-05 - val_loss: 0.2627 - val_acc: 1.0000 - val_mae: 0.0042 - val_mse: 1.7295e-05\n",
      "Epoch 687/1000\n",
      "6567/6567 [==============================] - 1s 176us/step - loss: 0.0041 - acc: 1.0001 - mae: 0.0041 - mse: 5.6952e-05 - val_loss: 0.2608 - val_acc: 1.0000 - val_mae: 0.0041 - val_mse: 1.6967e-05\n",
      "Epoch 688/1000\n",
      "6567/6567 [==============================] - 1s 175us/step - loss: 0.0041 - acc: 1.0001 - mae: 0.0041 - mse: 7.0199e-05 - val_loss: 0.2630 - val_acc: 1.0000 - val_mae: 0.0041 - val_mse: 1.7185e-05\n",
      "Epoch 689/1000\n",
      "6567/6567 [==============================] - 1s 175us/step - loss: 0.0041 - acc: 1.0001 - mae: 0.0041 - mse: 9.5097e-05 - val_loss: 0.2622 - val_acc: 1.0000 - val_mae: 0.0041 - val_mse: 1.7026e-05\n",
      "Epoch 690/1000\n",
      "6567/6567 [==============================] - 1s 176us/step - loss: 0.0041 - acc: 1.0000 - mae: 0.0041 - mse: 6.4690e-05 - val_loss: 0.2629 - val_acc: 1.0000 - val_mae: 0.0041 - val_mse: 1.7054e-05\n",
      "Epoch 691/1000\n",
      "6567/6567 [==============================] - 1s 176us/step - loss: 0.0041 - acc: 1.0001 - mae: 0.0041 - mse: 7.3050e-05 - val_loss: 0.2621 - val_acc: 1.0000 - val_mae: 0.0041 - val_mse: 1.6887e-05\n",
      "Epoch 692/1000\n",
      "6567/6567 [==============================] - 1s 176us/step - loss: 0.0041 - acc: 1.0000 - mae: 0.0041 - mse: 6.5098e-05 - val_loss: 0.2611 - val_acc: 1.0000 - val_mae: 0.0041 - val_mse: 1.6756e-05\n",
      "Epoch 693/1000\n",
      "6567/6567 [==============================] - 1s 180us/step - loss: 0.0041 - acc: 1.0000 - mae: 0.0041 - mse: 8.1995e-05 - val_loss: 0.2592 - val_acc: 1.0000 - val_mae: 0.0041 - val_mse: 1.6458e-05\n",
      "Epoch 694/1000\n",
      "6567/6567 [==============================] - 1s 174us/step - loss: 0.0041 - acc: 1.0000 - mae: 0.0041 - mse: 5.9802e-05 - val_loss: 0.2620 - val_acc: 1.0000 - val_mae: 0.0041 - val_mse: 1.6804e-05\n",
      "Epoch 695/1000\n",
      "6567/6567 [==============================] - 1s 175us/step - loss: 0.0041 - acc: 1.0001 - mae: 0.0041 - mse: 7.2723e-05 - val_loss: 0.2613 - val_acc: 1.0000 - val_mae: 0.0041 - val_mse: 1.6650e-05\n",
      "Epoch 696/1000\n",
      "6567/6567 [==============================] - 1s 177us/step - loss: 0.0041 - acc: 1.0001 - mae: 0.0041 - mse: 6.8926e-05 - val_loss: 0.2661 - val_acc: 1.0000 - val_mae: 0.0042 - val_mse: 1.7228e-05\n",
      "Epoch 697/1000\n",
      "6567/6567 [==============================] - 1s 178us/step - loss: 0.0041 - acc: 1.0000 - mae: 0.0041 - mse: 6.3860e-05 - val_loss: 0.2645 - val_acc: 1.0000 - val_mae: 0.0041 - val_mse: 1.6946e-05\n",
      "Epoch 698/1000\n",
      "6567/6567 [==============================] - 1s 176us/step - loss: 0.0041 - acc: 1.0001 - mae: 0.0041 - mse: 8.6291e-05 - val_loss: 0.2646 - val_acc: 1.0000 - val_mae: 0.0041 - val_mse: 1.6924e-05\n",
      "Epoch 699/1000\n",
      "6567/6567 [==============================] - 1s 176us/step - loss: 0.0041 - acc: 1.0000 - mae: 0.0041 - mse: 1.6911e-05 - val_loss: 0.2655 - val_acc: 1.0000 - val_mae: 0.0041 - val_mse: 1.6975e-05\n"
     ]
    },
    {
     "name": "stdout",
     "output_type": "stream",
     "text": [
      "Epoch 700/1000\n",
      "6567/6567 [==============================] - 1s 174us/step - loss: 0.0041 - acc: 1.0000 - mae: 0.0041 - mse: 6.4406e-05 - val_loss: 0.2646 - val_acc: 1.0000 - val_mae: 0.0041 - val_mse: 1.6863e-05\n",
      "Epoch 701/1000\n",
      "6567/6567 [==============================] - 1s 175us/step - loss: 0.0041 - acc: 1.0000 - mae: 0.0041 - mse: 8.8440e-05 - val_loss: 0.2642 - val_acc: 1.0000 - val_mae: 0.0041 - val_mse: 1.6775e-05\n",
      "Epoch 702/1000\n",
      "6567/6567 [==============================] - 1s 201us/step - loss: 0.0041 - acc: 1.0000 - mae: 0.0041 - mse: 7.9728e-05 - val_loss: 0.2636 - val_acc: 1.0000 - val_mae: 0.0041 - val_mse: 1.6624e-05\n",
      "Epoch 703/1000\n",
      "6567/6567 [==============================] - 1s 197us/step - loss: 0.0041 - acc: 1.0000 - mae: 0.0041 - mse: 7.9571e-05 - val_loss: 0.2616 - val_acc: 1.0000 - val_mae: 0.0040 - val_mse: 1.6337e-05\n",
      "Epoch 704/1000\n",
      "6567/6567 [==============================] - 1s 193us/step - loss: 0.0040 - acc: 1.0001 - mae: 0.0040 - mse: 6.1276e-05 - val_loss: 0.2629 - val_acc: 1.0000 - val_mae: 0.0041 - val_mse: 1.6431e-05\n",
      "Epoch 705/1000\n",
      "6567/6567 [==============================] - 1s 192us/step - loss: 0.0041 - acc: 1.0001 - mae: 0.0040 - mse: 6.2208e-05 - val_loss: 0.2632 - val_acc: 1.0000 - val_mae: 0.0040 - val_mse: 1.6404e-05\n",
      "Epoch 706/1000\n",
      "6567/6567 [==============================] - 1s 193us/step - loss: 0.0041 - acc: 1.0000 - mae: 0.0041 - mse: 8.3322e-05 - val_loss: 0.2656 - val_acc: 1.0000 - val_mae: 0.0041 - val_mse: 1.6631e-05\n",
      "Epoch 707/1000\n",
      "6567/6567 [==============================] - 1s 192us/step - loss: 0.0041 - acc: 1.0001 - mae: 0.0041 - mse: 8.9290e-05 - val_loss: 0.2640 - val_acc: 1.0000 - val_mae: 0.0040 - val_mse: 1.6380e-05\n",
      "Epoch 708/1000\n",
      "6567/6567 [==============================] - 1s 193us/step - loss: 0.0040 - acc: 1.0001 - mae: 0.0040 - mse: 1.6224e-05 - val_loss: 0.2620 - val_acc: 1.0000 - val_mae: 0.0040 - val_mse: 1.6102e-05\n",
      "Epoch 709/1000\n",
      "6567/6567 [==============================] - 1s 191us/step - loss: 0.0040 - acc: 1.0001 - mae: 0.0040 - mse: 7.4381e-05 - val_loss: 0.2603 - val_acc: 1.0000 - val_mae: 0.0040 - val_mse: 1.5831e-05\n",
      "Epoch 710/1000\n",
      "6567/6567 [==============================] - 1s 187us/step - loss: 0.0040 - acc: 1.0000 - mae: 0.0040 - mse: 7.1965e-05 - val_loss: 0.2612 - val_acc: 1.0000 - val_mae: 0.0040 - val_mse: 1.5936e-05\n",
      "Epoch 711/1000\n",
      "6567/6567 [==============================] - 1s 176us/step - loss: 0.0040 - acc: 1.0000 - mae: 0.0040 - mse: 7.2302e-05 - val_loss: 0.2598 - val_acc: 1.0000 - val_mae: 0.0040 - val_mse: 1.5711e-05\n",
      "Epoch 712/1000\n",
      "6567/6567 [==============================] - 1s 175us/step - loss: 0.0040 - acc: 1.0001 - mae: 0.0040 - mse: 7.4180e-05 - val_loss: 0.2616 - val_acc: 1.0000 - val_mae: 0.0040 - val_mse: 1.5847e-05\n",
      "Epoch 713/1000\n",
      "6567/6567 [==============================] - 1s 174us/step - loss: 0.0040 - acc: 1.0000 - mae: 0.0040 - mse: 7.3414e-05 - val_loss: 0.2617 - val_acc: 1.0000 - val_mae: 0.0040 - val_mse: 1.5822e-05\n",
      "Epoch 714/1000\n",
      "6567/6567 [==============================] - 1s 176us/step - loss: 0.0040 - acc: 1.0001 - mae: 0.0040 - mse: 7.2347e-05 - val_loss: 0.2613 - val_acc: 1.0000 - val_mae: 0.0040 - val_mse: 1.5696e-05\n",
      "Epoch 715/1000\n",
      "6567/6567 [==============================] - 1s 174us/step - loss: 0.0040 - acc: 1.0001 - mae: 0.0039 - mse: 7.1151e-05 - val_loss: 0.2602 - val_acc: 1.0000 - val_mae: 0.0039 - val_mse: 1.5503e-05\n",
      "Epoch 716/1000\n",
      "6567/6567 [==============================] - 1s 173us/step - loss: 0.0039 - acc: 0.9999 - mae: 0.0039 - mse: 5.9808e-05 - val_loss: 0.2594 - val_acc: 1.0000 - val_mae: 0.0039 - val_mse: 1.5380e-05\n",
      "Epoch 717/1000\n",
      "6567/6567 [==============================] - 1s 174us/step - loss: 0.0039 - acc: 1.0001 - mae: 0.0039 - mse: 5.5279e-05 - val_loss: 0.2592 - val_acc: 1.0000 - val_mae: 0.0039 - val_mse: 1.5290e-05\n",
      "Epoch 718/1000\n",
      "6567/6567 [==============================] - 1s 175us/step - loss: 0.0039 - acc: 1.0000 - mae: 0.0039 - mse: 7.6166e-05 - val_loss: 0.2586 - val_acc: 1.0000 - val_mae: 0.0039 - val_mse: 1.5192e-05\n",
      "Epoch 719/1000\n",
      "6567/6567 [==============================] - 1s 175us/step - loss: 0.0039 - acc: 1.0000 - mae: 0.0039 - mse: 7.9990e-05 - val_loss: 0.2599 - val_acc: 1.0000 - val_mae: 0.0039 - val_mse: 1.5286e-05\n",
      "Epoch 720/1000\n",
      "6567/6567 [==============================] - 1s 174us/step - loss: 0.0039 - acc: 1.0000 - mae: 0.0039 - mse: 5.3580e-05 - val_loss: 0.2618 - val_acc: 1.0000 - val_mae: 0.0039 - val_mse: 1.5503e-05\n",
      "Epoch 721/1000\n",
      "6567/6567 [==============================] - 1s 175us/step - loss: 0.0040 - acc: 1.0000 - mae: 0.0039 - mse: 8.0864e-05 - val_loss: 0.2633 - val_acc: 1.0000 - val_mae: 0.0040 - val_mse: 1.5639e-05\n",
      "Epoch 722/1000\n",
      "6567/6567 [==============================] - 1s 176us/step - loss: 0.0039 - acc: 1.0000 - mae: 0.0040 - mse: 1.5488e-05 - val_loss: 0.2615 - val_acc: 1.0000 - val_mae: 0.0039 - val_mse: 1.5389e-05\n",
      "Epoch 723/1000\n",
      "6567/6567 [==============================] - 1s 176us/step - loss: 0.0039 - acc: 1.0001 - mae: 0.0039 - mse: 7.0655e-05 - val_loss: 0.2647 - val_acc: 1.0000 - val_mae: 0.0040 - val_mse: 1.5697e-05\n",
      "Epoch 724/1000\n",
      "6567/6567 [==============================] - 1s 175us/step - loss: 0.0039 - acc: 1.0000 - mae: 0.0040 - mse: 7.6609e-05 - val_loss: 0.2630 - val_acc: 1.0000 - val_mae: 0.0039 - val_mse: 1.5439e-05\n",
      "Epoch 725/1000\n",
      "6567/6567 [==============================] - 1s 175us/step - loss: 0.0039 - acc: 1.0000 - mae: 0.0039 - mse: 1.5353e-05 - val_loss: 0.2628 - val_acc: 1.0000 - val_mae: 0.0039 - val_mse: 1.5414e-05\n",
      "Epoch 726/1000\n",
      "6567/6567 [==============================] - 1s 175us/step - loss: 0.0040 - acc: 1.0001 - mae: 0.0039 - mse: 9.4384e-05 - val_loss: 0.2663 - val_acc: 1.0000 - val_mae: 0.0040 - val_mse: 1.5723e-05\n",
      "Epoch 727/1000\n",
      "6567/6567 [==============================] - 1s 175us/step - loss: 0.0040 - acc: 1.0001 - mae: 0.0040 - mse: 7.6650e-05 - val_loss: 0.2648 - val_acc: 1.0000 - val_mae: 0.0039 - val_mse: 1.5528e-05\n",
      "Epoch 728/1000\n",
      "6567/6567 [==============================] - 1s 175us/step - loss: 0.0039 - acc: 1.0001 - mae: 0.0039 - mse: 1.5448e-05 - val_loss: 0.2661 - val_acc: 1.0000 - val_mae: 0.0039 - val_mse: 1.5616e-05\n",
      "Epoch 729/1000\n",
      "6567/6567 [==============================] - 1s 178us/step - loss: 0.0040 - acc: 1.0001 - mae: 0.0039 - mse: 9.0649e-05 - val_loss: 0.2662 - val_acc: 1.0000 - val_mae: 0.0039 - val_mse: 1.5593e-05\n",
      "Epoch 730/1000\n",
      "6567/6567 [==============================] - 1s 176us/step - loss: 0.0039 - acc: 1.0001 - mae: 0.0039 - mse: 1.5459e-05 - val_loss: 0.2650 - val_acc: 1.0000 - val_mae: 0.0039 - val_mse: 1.5403e-05\n",
      "Epoch 731/1000\n",
      "6567/6567 [==============================] - 1s 175us/step - loss: 0.0039 - acc: 1.0000 - mae: 0.0039 - mse: 1.5494e-05 - val_loss: 0.2682 - val_acc: 1.0000 - val_mae: 0.0040 - val_mse: 1.5764e-05\n",
      "Epoch 732/1000\n",
      "6567/6567 [==============================] - 1s 175us/step - loss: 0.0040 - acc: 1.0001 - mae: 0.0040 - mse: 7.6907e-05 - val_loss: 0.2674 - val_acc: 1.0000 - val_mae: 0.0039 - val_mse: 1.5604e-05\n",
      "Epoch 733/1000\n",
      "6567/6567 [==============================] - 1s 176us/step - loss: 0.0040 - acc: 1.0000 - mae: 0.0040 - mse: 7.4310e-05 - val_loss: 0.2675 - val_acc: 1.0000 - val_mae: 0.0039 - val_mse: 1.5562e-05\n",
      "Epoch 734/1000\n",
      "6567/6567 [==============================] - 1s 175us/step - loss: 0.0039 - acc: 1.0000 - mae: 0.0039 - mse: 8.0551e-05 - val_loss: 0.2662 - val_acc: 1.0000 - val_mae: 0.0039 - val_mse: 1.5414e-05\n",
      "Epoch 735/1000\n",
      "6567/6567 [==============================] - 1s 187us/step - loss: 0.0039 - acc: 1.0001 - mae: 0.0039 - mse: 8.1350e-05 - val_loss: 0.2683 - val_acc: 1.0000 - val_mae: 0.0039 - val_mse: 1.5611e-05\n",
      "Epoch 736/1000\n",
      "6567/6567 [==============================] - 1s 177us/step - loss: 0.0039 - acc: 1.0000 - mae: 0.0039 - mse: 7.7012e-05 - val_loss: 0.2684 - val_acc: 1.0000 - val_mae: 0.0039 - val_mse: 1.5618e-05\n",
      "Epoch 737/1000\n",
      "6567/6567 [==============================] - 1s 176us/step - loss: 0.0039 - acc: 1.0001 - mae: 0.0040 - mse: 6.1280e-05 - val_loss: 0.2664 - val_acc: 1.0000 - val_mae: 0.0039 - val_mse: 1.5359e-05\n",
      "Epoch 738/1000\n",
      "6567/6567 [==============================] - 1s 176us/step - loss: 0.0039 - acc: 0.9999 - mae: 0.0039 - mse: 8.5297e-05 - val_loss: 0.2669 - val_acc: 1.0000 - val_mae: 0.0039 - val_mse: 1.5364e-05\n"
     ]
    },
    {
     "name": "stdout",
     "output_type": "stream",
     "text": [
      "Epoch 739/1000\n",
      "6567/6567 [==============================] - 1s 175us/step - loss: 0.0039 - acc: 1.0001 - mae: 0.0039 - mse: 7.5021e-05 - val_loss: 0.2660 - val_acc: 1.0000 - val_mae: 0.0039 - val_mse: 1.5258e-05\n",
      "Epoch 740/1000\n",
      "6567/6567 [==============================] - 1s 177us/step - loss: 0.0039 - acc: 1.0001 - mae: 0.0039 - mse: 9.6405e-05 - val_loss: 0.2643 - val_acc: 1.0000 - val_mae: 0.0039 - val_mse: 1.5017e-05\n",
      "Epoch 741/1000\n",
      "6567/6567 [==============================] - 1s 175us/step - loss: 0.0039 - acc: 1.0001 - mae: 0.0039 - mse: 7.5283e-05 - val_loss: 0.2662 - val_acc: 1.0000 - val_mae: 0.0039 - val_mse: 1.5183e-05\n",
      "Epoch 742/1000\n",
      "6567/6567 [==============================] - 1s 175us/step - loss: 0.0039 - acc: 0.9999 - mae: 0.0039 - mse: 8.3409e-05 - val_loss: 0.2651 - val_acc: 1.0000 - val_mae: 0.0039 - val_mse: 1.5016e-05\n",
      "Epoch 743/1000\n",
      "6567/6567 [==============================] - 1s 175us/step - loss: 0.0039 - acc: 1.0000 - mae: 0.0039 - mse: 1.5047e-05 - val_loss: 0.2662 - val_acc: 1.0000 - val_mae: 0.0039 - val_mse: 1.5136e-05\n",
      "Epoch 744/1000\n",
      "6567/6567 [==============================] - 1s 177us/step - loss: 0.0039 - acc: 1.0001 - mae: 0.0039 - mse: 1.4992e-05 - val_loss: 0.2645 - val_acc: 1.0000 - val_mae: 0.0039 - val_mse: 1.4901e-05\n",
      "Epoch 745/1000\n",
      "6567/6567 [==============================] - 1s 176us/step - loss: 0.0038 - acc: 1.0001 - mae: 0.0038 - mse: 1.4763e-05 - val_loss: 0.2635 - val_acc: 1.0000 - val_mae: 0.0038 - val_mse: 1.4748e-05\n",
      "Epoch 746/1000\n",
      "6567/6567 [==============================] - 1s 176us/step - loss: 0.0038 - acc: 1.0001 - mae: 0.0038 - mse: 9.5415e-05 - val_loss: 0.2629 - val_acc: 1.0000 - val_mae: 0.0038 - val_mse: 1.4626e-05\n",
      "Epoch 747/1000\n",
      "6567/6567 [==============================] - 1s 175us/step - loss: 0.0038 - acc: 1.0001 - mae: 0.0038 - mse: 9.7000e-05 - val_loss: 0.2668 - val_acc: 1.0000 - val_mae: 0.0039 - val_mse: 1.4971e-05\n",
      "Epoch 748/1000\n",
      "6567/6567 [==============================] - 1s 175us/step - loss: 0.0039 - acc: 1.0000 - mae: 0.0038 - mse: 8.0711e-05 - val_loss: 0.2653 - val_acc: 1.0000 - val_mae: 0.0038 - val_mse: 1.4806e-05\n",
      "Epoch 749/1000\n",
      "6567/6567 [==============================] - 1s 175us/step - loss: 0.0039 - acc: 1.0000 - mae: 0.0039 - mse: 8.0325e-05 - val_loss: 0.2683 - val_acc: 1.0000 - val_mae: 0.0039 - val_mse: 1.5082e-05\n",
      "Epoch 750/1000\n",
      "6567/6567 [==============================] - 1s 175us/step - loss: 0.0039 - acc: 0.9999 - mae: 0.0039 - mse: 9.3357e-05 - val_loss: 0.2668 - val_acc: 1.0000 - val_mae: 0.0039 - val_mse: 1.4881e-05\n",
      "Epoch 751/1000\n",
      "6567/6567 [==============================] - 1s 175us/step - loss: 0.0039 - acc: 1.0000 - mae: 0.0039 - mse: 9.1973e-05 - val_loss: 0.2671 - val_acc: 1.0000 - val_mae: 0.0039 - val_mse: 1.4878e-05\n",
      "Epoch 752/1000\n",
      "6567/6567 [==============================] - 1s 174us/step - loss: 0.0039 - acc: 1.0001 - mae: 0.0039 - mse: 5.9589e-05 - val_loss: 0.2694 - val_acc: 1.0000 - val_mae: 0.0039 - val_mse: 1.5070e-05\n",
      "Epoch 753/1000\n",
      "6567/6567 [==============================] - 1s 180us/step - loss: 0.0039 - acc: 1.0000 - mae: 0.0039 - mse: 1.5256e-05 - val_loss: 0.2745 - val_acc: 1.0000 - val_mae: 0.0040 - val_mse: 1.5623e-05\n",
      "Epoch 754/1000\n",
      "6567/6567 [==============================] - 1s 193us/step - loss: 0.0040 - acc: 1.0001 - mae: 0.0040 - mse: 6.6577e-05 - val_loss: 0.2760 - val_acc: 1.0000 - val_mae: 0.0040 - val_mse: 1.5728e-05\n",
      "Epoch 755/1000\n",
      "6567/6567 [==============================] - 1s 193us/step - loss: 0.0040 - acc: 1.0000 - mae: 0.0040 - mse: 7.1378e-05 - val_loss: 0.2743 - val_acc: 1.0000 - val_mae: 0.0039 - val_mse: 1.5491e-05\n",
      "Epoch 756/1000\n",
      "6567/6567 [==============================] - 1s 191us/step - loss: 0.0039 - acc: 1.0001 - mae: 0.0039 - mse: 8.4287e-05 - val_loss: 0.2750 - val_acc: 1.0000 - val_mae: 0.0039 - val_mse: 1.5515e-05\n",
      "Epoch 757/1000\n",
      "6567/6567 [==============================] - 1s 193us/step - loss: 0.0040 - acc: 1.0001 - mae: 0.0040 - mse: 1.5618e-05 - val_loss: 0.2763 - val_acc: 1.0000 - val_mae: 0.0040 - val_mse: 1.5652e-05\n",
      "Epoch 758/1000\n",
      "6567/6567 [==============================] - 1s 191us/step - loss: 0.0040 - acc: 1.0001 - mae: 0.0040 - mse: 9.4597e-05 - val_loss: 0.2813 - val_acc: 1.0000 - val_mae: 0.0040 - val_mse: 1.6168e-05\n",
      "Epoch 759/1000\n",
      "6567/6567 [==============================] - 1s 191us/step - loss: 0.0040 - acc: 1.0001 - mae: 0.0040 - mse: 8.4582e-05 - val_loss: 0.2803 - val_acc: 1.0000 - val_mae: 0.0040 - val_mse: 1.5993e-05\n",
      "Epoch 760/1000\n",
      "6567/6567 [==============================] - 1s 193us/step - loss: 0.0040 - acc: 1.0001 - mae: 0.0040 - mse: 7.3926e-05 - val_loss: 0.2796 - val_acc: 1.0000 - val_mae: 0.0040 - val_mse: 1.5868e-05\n",
      "Epoch 761/1000\n",
      "6567/6567 [==============================] - 1s 187us/step - loss: 0.0040 - acc: 1.0001 - mae: 0.0040 - mse: 1.5877e-05 - val_loss: 0.2807 - val_acc: 1.0000 - val_mae: 0.0040 - val_mse: 1.5990e-05\n",
      "Epoch 762/1000\n",
      "6567/6567 [==============================] - 1s 175us/step - loss: 0.0040 - acc: 1.0001 - mae: 0.0040 - mse: 7.3596e-05 - val_loss: 0.2816 - val_acc: 1.0000 - val_mae: 0.0040 - val_mse: 1.6032e-05\n",
      "Epoch 763/1000\n",
      "6567/6567 [==============================] - 1s 175us/step - loss: 0.0041 - acc: 1.0001 - mae: 0.0041 - mse: 9.9177e-05 - val_loss: 0.2888 - val_acc: 1.0000 - val_mae: 0.0041 - val_mse: 1.6746e-05\n",
      "Epoch 764/1000\n",
      "6567/6567 [==============================] - 1s 174us/step - loss: 0.0041 - acc: 1.0000 - mae: 0.0041 - mse: 1.6593e-05 - val_loss: 0.2868 - val_acc: 1.0000 - val_mae: 0.0041 - val_mse: 1.6464e-05\n",
      "Epoch 765/1000\n",
      "6567/6567 [==============================] - 1s 176us/step - loss: 0.0041 - acc: 1.0001 - mae: 0.0041 - mse: 7.6868e-05 - val_loss: 0.2883 - val_acc: 1.0000 - val_mae: 0.0041 - val_mse: 1.6582e-05\n",
      "Epoch 766/1000\n",
      "6567/6567 [==============================] - 1s 175us/step - loss: 0.0041 - acc: 1.0001 - mae: 0.0041 - mse: 1.6428e-05 - val_loss: 0.2863 - val_acc: 1.0000 - val_mae: 0.0040 - val_mse: 1.6303e-05\n",
      "Epoch 767/1000\n",
      "6567/6567 [==============================] - 1s 176us/step - loss: 0.0040 - acc: 1.0001 - mae: 0.0040 - mse: 1.6148e-05 - val_loss: 0.2836 - val_acc: 1.0000 - val_mae: 0.0040 - val_mse: 1.6000e-05\n",
      "Epoch 768/1000\n",
      "6567/6567 [==============================] - 1s 175us/step - loss: 0.0040 - acc: 0.9999 - mae: 0.0040 - mse: 7.7211e-05 - val_loss: 0.2840 - val_acc: 1.0000 - val_mae: 0.0040 - val_mse: 1.5995e-05\n",
      "Epoch 769/1000\n",
      "6567/6567 [==============================] - 1s 175us/step - loss: 0.0040 - acc: 1.0001 - mae: 0.0040 - mse: 9.3320e-05 - val_loss: 0.2857 - val_acc: 1.0000 - val_mae: 0.0040 - val_mse: 1.6144e-05\n",
      "Epoch 770/1000\n",
      "6567/6567 [==============================] - 1s 175us/step - loss: 0.0040 - acc: 0.9999 - mae: 0.0040 - mse: 8.7098e-05 - val_loss: 0.2843 - val_acc: 1.0000 - val_mae: 0.0040 - val_mse: 1.5935e-05\n",
      "Epoch 771/1000\n",
      "6567/6567 [==============================] - 1s 174us/step - loss: 0.0040 - acc: 1.0001 - mae: 0.0040 - mse: 7.5112e-05 - val_loss: 0.2877 - val_acc: 1.0000 - val_mae: 0.0040 - val_mse: 1.6251e-05\n",
      "Epoch 772/1000\n",
      "6567/6567 [==============================] - 1s 175us/step - loss: 0.0040 - acc: 1.0000 - mae: 0.0040 - mse: 1.0046e-04 - val_loss: 0.2873 - val_acc: 1.0000 - val_mae: 0.0040 - val_mse: 1.6164e-05\n",
      "Epoch 773/1000\n",
      "6567/6567 [==============================] - 1s 175us/step - loss: 0.0040 - acc: 1.0001 - mae: 0.0040 - mse: 7.4415e-05 - val_loss: 0.2864 - val_acc: 1.0000 - val_mae: 0.0040 - val_mse: 1.6013e-05\n",
      "Epoch 774/1000\n",
      "6567/6567 [==============================] - 1s 174us/step - loss: 0.0040 - acc: 1.0001 - mae: 0.0040 - mse: 5.7133e-05 - val_loss: 0.2851 - val_acc: 1.0000 - val_mae: 0.0040 - val_mse: 1.5833e-05\n",
      "Epoch 775/1000\n",
      "6567/6567 [==============================] - 1s 175us/step - loss: 0.0040 - acc: 1.0000 - mae: 0.0040 - mse: 6.8203e-05 - val_loss: 0.2891 - val_acc: 1.0000 - val_mae: 0.0040 - val_mse: 1.6213e-05\n",
      "Epoch 776/1000\n",
      "6567/6567 [==============================] - 1s 176us/step - loss: 0.0040 - acc: 1.0000 - mae: 0.0040 - mse: 7.6407e-05 - val_loss: 0.2884 - val_acc: 1.0000 - val_mae: 0.0040 - val_mse: 1.6135e-05\n",
      "Epoch 777/1000\n",
      "6567/6567 [==============================] - 1s 175us/step - loss: 0.0041 - acc: 1.0001 - mae: 0.0041 - mse: 7.2237e-05 - val_loss: 0.2920 - val_acc: 1.0000 - val_mae: 0.0041 - val_mse: 1.6464e-05\n"
     ]
    },
    {
     "name": "stdout",
     "output_type": "stream",
     "text": [
      "Epoch 778/1000\n",
      "6567/6567 [==============================] - 1s 175us/step - loss: 0.0041 - acc: 1.0001 - mae: 0.0040 - mse: 7.8722e-05 - val_loss: 0.2913 - val_acc: 1.0000 - val_mae: 0.0040 - val_mse: 1.6342e-05\n",
      "Epoch 779/1000\n",
      "6567/6567 [==============================] - 1s 175us/step - loss: 0.0041 - acc: 1.0001 - mae: 0.0041 - mse: 6.3766e-05 - val_loss: 0.2948 - val_acc: 1.0000 - val_mae: 0.0041 - val_mse: 1.6680e-05\n",
      "Epoch 780/1000\n",
      "6567/6567 [==============================] - 1s 172us/step - loss: 0.0041 - acc: 1.0000 - mae: 0.0041 - mse: 6.6578e-05 - val_loss: 0.2949 - val_acc: 1.0000 - val_mae: 0.0041 - val_mse: 1.6692e-05\n",
      "Epoch 781/1000\n",
      "6567/6567 [==============================] - 1s 172us/step - loss: 0.0041 - acc: 1.0000 - mae: 0.0041 - mse: 8.0853e-05 - val_loss: 0.2924 - val_acc: 1.0000 - val_mae: 0.0040 - val_mse: 1.6367e-05\n",
      "Epoch 782/1000\n",
      "6567/6567 [==============================] - 1s 173us/step - loss: 0.0041 - acc: 1.0001 - mae: 0.0040 - mse: 7.4112e-05 - val_loss: 0.2921 - val_acc: 1.0000 - val_mae: 0.0040 - val_mse: 1.6293e-05\n",
      "Epoch 783/1000\n",
      "6567/6567 [==============================] - 1s 174us/step - loss: 0.0041 - acc: 1.0001 - mae: 0.0041 - mse: 1.6428e-05 - val_loss: 0.2936 - val_acc: 1.0000 - val_mae: 0.0041 - val_mse: 1.6472e-05\n",
      "Epoch 784/1000\n",
      "6567/6567 [==============================] - 1s 174us/step - loss: 0.0041 - acc: 1.0001 - mae: 0.0041 - mse: 6.5527e-05 - val_loss: 0.2957 - val_acc: 1.0000 - val_mae: 0.0041 - val_mse: 1.6656e-05\n",
      "Epoch 785/1000\n",
      "6567/6567 [==============================] - 1s 174us/step - loss: 0.0041 - acc: 1.0001 - mae: 0.0041 - mse: 6.9238e-05 - val_loss: 0.2960 - val_acc: 1.0000 - val_mae: 0.0041 - val_mse: 1.6651e-05\n",
      "Epoch 786/1000\n",
      "6567/6567 [==============================] - 1s 174us/step - loss: 0.0041 - acc: 1.0000 - mae: 0.0041 - mse: 9.4619e-05 - val_loss: 0.2966 - val_acc: 1.0000 - val_mae: 0.0041 - val_mse: 1.6649e-05\n",
      "Epoch 787/1000\n",
      "6567/6567 [==============================] - 1s 174us/step - loss: 0.0041 - acc: 1.0001 - mae: 0.0041 - mse: 6.7852e-05 - val_loss: 0.2948 - val_acc: 1.0000 - val_mae: 0.0041 - val_mse: 1.6405e-05\n",
      "Epoch 788/1000\n",
      "6567/6567 [==============================] - 1s 173us/step - loss: 0.0041 - acc: 1.0000 - mae: 0.0041 - mse: 7.4859e-05 - val_loss: 0.2965 - val_acc: 1.0000 - val_mae: 0.0041 - val_mse: 1.6587e-05\n",
      "Epoch 789/1000\n",
      "6567/6567 [==============================] - 1s 173us/step - loss: 0.0041 - acc: 1.0000 - mae: 0.0041 - mse: 6.8495e-05 - val_loss: 0.2947 - val_acc: 1.0000 - val_mae: 0.0040 - val_mse: 1.6349e-05\n",
      "Epoch 790/1000\n",
      "6567/6567 [==============================] - 1s 173us/step - loss: 0.0040 - acc: 1.0001 - mae: 0.0040 - mse: 5.6721e-05 - val_loss: 0.2938 - val_acc: 1.0000 - val_mae: 0.0040 - val_mse: 1.6208e-05\n",
      "Epoch 791/1000\n",
      "6567/6567 [==============================] - 1s 173us/step - loss: 0.0040 - acc: 1.0000 - mae: 0.0040 - mse: 8.7998e-05 - val_loss: 0.2918 - val_acc: 1.0000 - val_mae: 0.0040 - val_mse: 1.5960e-05\n",
      "Epoch 792/1000\n",
      "6567/6567 [==============================] - 1s 174us/step - loss: 0.0040 - acc: 1.0001 - mae: 0.0040 - mse: 6.5503e-05 - val_loss: 0.2930 - val_acc: 1.0000 - val_mae: 0.0040 - val_mse: 1.6016e-05\n",
      "Epoch 793/1000\n",
      "6567/6567 [==============================] - 1s 175us/step - loss: 0.0040 - acc: 1.0001 - mae: 0.0040 - mse: 7.5000e-05 - val_loss: 0.2942 - val_acc: 1.0000 - val_mae: 0.0040 - val_mse: 1.6090e-05\n",
      "Epoch 794/1000\n",
      "6567/6567 [==============================] - 1s 173us/step - loss: 0.0040 - acc: 1.0001 - mae: 0.0040 - mse: 8.3125e-05 - val_loss: 0.2973 - val_acc: 1.0000 - val_mae: 0.0040 - val_mse: 1.6342e-05\n",
      "Epoch 795/1000\n",
      "6567/6567 [==============================] - 1s 174us/step - loss: 0.0040 - acc: 0.9999 - mae: 0.0040 - mse: 7.6033e-05 - val_loss: 0.2956 - val_acc: 1.0000 - val_mae: 0.0040 - val_mse: 1.6120e-05\n",
      "Epoch 796/1000\n",
      "6567/6567 [==============================] - 1s 173us/step - loss: 0.0040 - acc: 1.0001 - mae: 0.0040 - mse: 6.4802e-05 - val_loss: 0.2981 - val_acc: 1.0000 - val_mae: 0.0040 - val_mse: 1.6335e-05\n",
      "Epoch 797/1000\n",
      "6567/6567 [==============================] - 1s 175us/step - loss: 0.0040 - acc: 1.0000 - mae: 0.0040 - mse: 7.5514e-05 - val_loss: 0.2970 - val_acc: 1.0000 - val_mae: 0.0040 - val_mse: 1.6156e-05\n",
      "Epoch 798/1000\n",
      "6567/6567 [==============================] - 1s 175us/step - loss: 0.0040 - acc: 1.0000 - mae: 0.0040 - mse: 7.3671e-05 - val_loss: 0.2955 - val_acc: 1.0000 - val_mae: 0.0040 - val_mse: 1.5954e-05\n",
      "Epoch 799/1000\n",
      "6567/6567 [==============================] - 1s 176us/step - loss: 0.0040 - acc: 1.0001 - mae: 0.0040 - mse: 8.6078e-05 - val_loss: 0.3017 - val_acc: 1.0000 - val_mae: 0.0041 - val_mse: 1.6573e-05\n",
      "Epoch 800/1000\n",
      "6567/6567 [==============================] - 1s 174us/step - loss: 0.0041 - acc: 1.0001 - mae: 0.0041 - mse: 8.7220e-05 - val_loss: 0.3024 - val_acc: 1.0000 - val_mae: 0.0041 - val_mse: 1.6584e-05\n",
      "Epoch 801/1000\n",
      "6567/6567 [==============================] - 1s 173us/step - loss: 0.0041 - acc: 1.0001 - mae: 0.0041 - mse: 8.8533e-05 - val_loss: 0.3031 - val_acc: 1.0000 - val_mae: 0.0041 - val_mse: 1.6625e-05\n",
      "Epoch 802/1000\n",
      "6567/6567 [==============================] - 1s 174us/step - loss: 0.0041 - acc: 1.0001 - mae: 0.0041 - mse: 1.6473e-05 - val_loss: 0.3010 - val_acc: 1.0000 - val_mae: 0.0040 - val_mse: 1.6351e-05\n",
      "Epoch 803/1000\n",
      "6567/6567 [==============================] - 1s 175us/step - loss: 0.0041 - acc: 1.0001 - mae: 0.0041 - mse: 1.6387e-05 - val_loss: 0.3045 - val_acc: 1.0000 - val_mae: 0.0041 - val_mse: 1.6733e-05\n",
      "Epoch 804/1000\n",
      "6567/6567 [==============================] - 1s 175us/step - loss: 0.0041 - acc: 1.0001 - mae: 0.0041 - mse: 7.3810e-05 - val_loss: 0.3030 - val_acc: 1.0000 - val_mae: 0.0041 - val_mse: 1.6504e-05\n",
      "Epoch 805/1000\n",
      "6567/6567 [==============================] - 1s 190us/step - loss: 0.0041 - acc: 0.9999 - mae: 0.0041 - mse: 9.5095e-05 - val_loss: 0.3042 - val_acc: 1.0000 - val_mae: 0.0041 - val_mse: 1.6575e-05\n",
      "Epoch 806/1000\n",
      "6567/6567 [==============================] - 1s 194us/step - loss: 0.0041 - acc: 1.0000 - mae: 0.0041 - mse: 1.0047e-04 - val_loss: 0.3082 - val_acc: 1.0000 - val_mae: 0.0041 - val_mse: 1.6975e-05\n",
      "Epoch 807/1000\n",
      "6567/6567 [==============================] - 1s 192us/step - loss: 0.0041 - acc: 1.0001 - mae: 0.0041 - mse: 1.7095e-05 - val_loss: 0.3094 - val_acc: 1.0000 - val_mae: 0.0041 - val_mse: 1.7114e-05\n",
      "Epoch 808/1000\n",
      "6567/6567 [==============================] - 1s 195us/step - loss: 0.0041 - acc: 1.0001 - mae: 0.0041 - mse: 9.8275e-05 - val_loss: 0.3117 - val_acc: 1.0000 - val_mae: 0.0042 - val_mse: 1.7288e-05\n",
      "Epoch 809/1000\n",
      "6567/6567 [==============================] - 1s 197us/step - loss: 0.0042 - acc: 0.9999 - mae: 0.0042 - mse: 1.7479e-05 - val_loss: 0.3142 - val_acc: 1.0000 - val_mae: 0.0042 - val_mse: 1.7575e-05\n",
      "Epoch 810/1000\n",
      "6567/6567 [==============================] - 1s 191us/step - loss: 0.0042 - acc: 1.0001 - mae: 0.0042 - mse: 1.7407e-05 - val_loss: 0.3115 - val_acc: 1.0000 - val_mae: 0.0041 - val_mse: 1.7202e-05\n",
      "Epoch 811/1000\n",
      "6567/6567 [==============================] - 1s 195us/step - loss: 0.0042 - acc: 1.0001 - mae: 0.0042 - mse: 1.7317e-05 - val_loss: 0.3142 - val_acc: 1.0000 - val_mae: 0.0042 - val_mse: 1.7448e-05\n",
      "Epoch 812/1000\n",
      "6567/6567 [==============================] - 1s 192us/step - loss: 0.0042 - acc: 1.0001 - mae: 0.0042 - mse: 1.7282e-05 - val_loss: 0.3115 - val_acc: 1.0000 - val_mae: 0.0041 - val_mse: 1.7084e-05\n",
      "Epoch 813/1000\n",
      "6567/6567 [==============================] - 1s 179us/step - loss: 0.0041 - acc: 1.0001 - mae: 0.0041 - mse: 7.2470e-05 - val_loss: 0.3123 - val_acc: 1.0000 - val_mae: 0.0041 - val_mse: 1.7081e-05\n",
      "Epoch 814/1000\n",
      "6567/6567 [==============================] - 1s 177us/step - loss: 0.0041 - acc: 1.0001 - mae: 0.0041 - mse: 8.4698e-05 - val_loss: 0.3109 - val_acc: 1.0000 - val_mae: 0.0041 - val_mse: 1.6887e-05\n",
      "Epoch 815/1000\n",
      "6567/6567 [==============================] - 1s 178us/step - loss: 0.0041 - acc: 1.0000 - mae: 0.0041 - mse: 9.6958e-05 - val_loss: 0.3088 - val_acc: 1.0000 - val_mae: 0.0041 - val_mse: 1.6604e-05\n",
      "Epoch 816/1000\n",
      "6567/6567 [==============================] - 1s 177us/step - loss: 0.0041 - acc: 1.0001 - mae: 0.0041 - mse: 1.0613e-04 - val_loss: 0.3134 - val_acc: 1.0000 - val_mae: 0.0041 - val_mse: 1.7056e-05\n"
     ]
    },
    {
     "name": "stdout",
     "output_type": "stream",
     "text": [
      "Epoch 817/1000\n",
      "6567/6567 [==============================] - 1s 176us/step - loss: 0.0041 - acc: 1.0001 - mae: 0.0041 - mse: 1.6911e-05 - val_loss: 0.3130 - val_acc: 1.0000 - val_mae: 0.0041 - val_mse: 1.7020e-05\n",
      "Epoch 818/1000\n",
      "6567/6567 [==============================] - 1s 175us/step - loss: 0.0041 - acc: 1.0001 - mae: 0.0041 - mse: 1.6894e-05 - val_loss: 0.3108 - val_acc: 1.0000 - val_mae: 0.0041 - val_mse: 1.6737e-05\n",
      "Epoch 819/1000\n",
      "6567/6567 [==============================] - 1s 175us/step - loss: 0.0041 - acc: 1.0001 - mae: 0.0041 - mse: 9.2725e-05 - val_loss: 0.3091 - val_acc: 1.0000 - val_mae: 0.0041 - val_mse: 1.6513e-05\n",
      "Epoch 820/1000\n",
      "6567/6567 [==============================] - 1s 176us/step - loss: 0.0041 - acc: 1.0001 - mae: 0.0041 - mse: 1.0235e-04 - val_loss: 0.3162 - val_acc: 1.0000 - val_mae: 0.0041 - val_mse: 1.7213e-05\n",
      "Epoch 821/1000\n",
      "6567/6567 [==============================] - 1s 175us/step - loss: 0.0041 - acc: 1.0001 - mae: 0.0041 - mse: 1.0600e-04 - val_loss: 0.3143 - val_acc: 1.0000 - val_mae: 0.0041 - val_mse: 1.6975e-05\n",
      "Epoch 822/1000\n",
      "6567/6567 [==============================] - 1s 175us/step - loss: 0.0041 - acc: 1.0001 - mae: 0.0041 - mse: 7.4436e-05 - val_loss: 0.3165 - val_acc: 1.0000 - val_mae: 0.0041 - val_mse: 1.7160e-05\n",
      "Epoch 823/1000\n",
      "6567/6567 [==============================] - 1s 176us/step - loss: 0.0041 - acc: 1.0001 - mae: 0.0041 - mse: 9.3697e-05 - val_loss: 0.3152 - val_acc: 1.0000 - val_mae: 0.0041 - val_mse: 1.6977e-05\n",
      "Epoch 824/1000\n",
      "6567/6567 [==============================] - 1s 177us/step - loss: 0.0041 - acc: 1.0001 - mae: 0.0041 - mse: 1.6818e-05 - val_loss: 0.3124 - val_acc: 1.0000 - val_mae: 0.0041 - val_mse: 1.6648e-05\n",
      "Epoch 825/1000\n",
      "6567/6567 [==============================] - 1s 185us/step - loss: 0.0041 - acc: 1.0001 - mae: 0.0041 - mse: 1.0685e-04 - val_loss: 0.3137 - val_acc: 1.0000 - val_mae: 0.0041 - val_mse: 1.6750e-05\n",
      "Epoch 826/1000\n",
      "6567/6567 [==============================] - 1s 176us/step - loss: 0.0041 - acc: 1.0001 - mae: 0.0041 - mse: 8.6640e-05 - val_loss: 0.3125 - val_acc: 1.0000 - val_mae: 0.0041 - val_mse: 1.6587e-05\n",
      "Epoch 827/1000\n",
      "6567/6567 [==============================] - 1s 177us/step - loss: 0.0041 - acc: 1.0001 - mae: 0.0041 - mse: 1.1498e-04 - val_loss: 0.3132 - val_acc: 1.0000 - val_mae: 0.0041 - val_mse: 1.6582e-05\n",
      "Epoch 828/1000\n",
      "6567/6567 [==============================] - 1s 176us/step - loss: 0.0041 - acc: 1.0001 - mae: 0.0041 - mse: 9.8671e-05 - val_loss: 0.3175 - val_acc: 1.0000 - val_mae: 0.0041 - val_mse: 1.7018e-05\n",
      "Epoch 829/1000\n",
      "6567/6567 [==============================] - 1s 176us/step - loss: 0.0041 - acc: 1.0001 - mae: 0.0041 - mse: 9.7373e-05 - val_loss: 0.3171 - val_acc: 1.0000 - val_mae: 0.0041 - val_mse: 1.6897e-05\n",
      "Epoch 830/1000\n",
      "6567/6567 [==============================] - 1s 176us/step - loss: 0.0041 - acc: 1.0001 - mae: 0.0041 - mse: 8.7857e-05 - val_loss: 0.3190 - val_acc: 1.0000 - val_mae: 0.0041 - val_mse: 1.7038e-05\n",
      "Epoch 831/1000\n",
      "6567/6567 [==============================] - 1s 178us/step - loss: 0.0041 - acc: 1.0001 - mae: 0.0041 - mse: 8.0984e-05 - val_loss: 0.3206 - val_acc: 1.0000 - val_mae: 0.0041 - val_mse: 1.7142e-05\n",
      "Epoch 832/1000\n",
      "6567/6567 [==============================] - 1s 181us/step - loss: 0.0041 - acc: 1.0000 - mae: 0.0041 - mse: 8.7225e-05 - val_loss: 0.3203 - val_acc: 1.0000 - val_mae: 0.0041 - val_mse: 1.7103e-05\n",
      "Epoch 833/1000\n",
      "6567/6567 [==============================] - 1s 176us/step - loss: 0.0041 - acc: 1.0001 - mae: 0.0042 - mse: 7.6696e-05 - val_loss: 0.3215 - val_acc: 1.0000 - val_mae: 0.0041 - val_mse: 1.7166e-05\n",
      "Epoch 834/1000\n",
      "6567/6567 [==============================] - 1s 178us/step - loss: 0.0041 - acc: 1.0001 - mae: 0.0041 - mse: 1.7006e-05 - val_loss: 0.3185 - val_acc: 1.0000 - val_mae: 0.0041 - val_mse: 1.6828e-05\n",
      "Epoch 835/1000\n",
      "6567/6567 [==============================] - 1s 177us/step - loss: 0.0041 - acc: 1.0001 - mae: 0.0041 - mse: 9.7894e-05 - val_loss: 0.3168 - val_acc: 1.0000 - val_mae: 0.0041 - val_mse: 1.6600e-05\n",
      "Epoch 836/1000\n",
      "6567/6567 [==============================] - 1s 176us/step - loss: 0.0041 - acc: 1.0001 - mae: 0.0041 - mse: 6.4681e-05 - val_loss: 0.3181 - val_acc: 1.0000 - val_mae: 0.0041 - val_mse: 1.6677e-05\n",
      "Epoch 837/1000\n",
      "6567/6567 [==============================] - 1s 176us/step - loss: 0.0041 - acc: 1.0000 - mae: 0.0041 - mse: 1.0231e-04 - val_loss: 0.3172 - val_acc: 1.0000 - val_mae: 0.0041 - val_mse: 1.6508e-05\n",
      "Epoch 838/1000\n",
      "6567/6567 [==============================] - 1s 176us/step - loss: 0.0041 - acc: 1.0000 - mae: 0.0041 - mse: 1.0266e-04 - val_loss: 0.3229 - val_acc: 1.0000 - val_mae: 0.0041 - val_mse: 1.7107e-05\n",
      "Epoch 839/1000\n",
      "6567/6567 [==============================] - 1s 178us/step - loss: 0.0041 - acc: 1.0001 - mae: 0.0041 - mse: 9.4190e-05 - val_loss: 0.3218 - val_acc: 1.0000 - val_mae: 0.0041 - val_mse: 1.6931e-05\n",
      "Epoch 840/1000\n",
      "6567/6567 [==============================] - 1s 177us/step - loss: 0.0041 - acc: 1.0001 - mae: 0.0041 - mse: 9.5371e-05 - val_loss: 0.3202 - val_acc: 1.0000 - val_mae: 0.0041 - val_mse: 1.6707e-05\n",
      "Epoch 841/1000\n",
      "6567/6567 [==============================] - 1s 176us/step - loss: 0.0041 - acc: 1.0001 - mae: 0.0041 - mse: 1.6633e-05 - val_loss: 0.3214 - val_acc: 1.0000 - val_mae: 0.0041 - val_mse: 1.6832e-05\n",
      "Epoch 842/1000\n",
      "6567/6567 [==============================] - 1s 176us/step - loss: 0.0041 - acc: 1.0001 - mae: 0.0041 - mse: 7.0299e-05 - val_loss: 0.3238 - val_acc: 1.0000 - val_mae: 0.0041 - val_mse: 1.7014e-05\n",
      "Epoch 843/1000\n",
      "6567/6567 [==============================] - 1s 175us/step - loss: 0.0041 - acc: 1.0001 - mae: 0.0041 - mse: 8.9972e-05 - val_loss: 0.3223 - val_acc: 1.0000 - val_mae: 0.0041 - val_mse: 1.6785e-05\n",
      "Epoch 844/1000\n",
      "6567/6567 [==============================] - 1s 178us/step - loss: 0.0041 - acc: 1.0001 - mae: 0.0041 - mse: 1.6781e-05 - val_loss: 0.3242 - val_acc: 1.0000 - val_mae: 0.0041 - val_mse: 1.6951e-05\n",
      "Epoch 845/1000\n",
      "6567/6567 [==============================] - 1s 176us/step - loss: 0.0041 - acc: 1.0001 - mae: 0.0041 - mse: 1.7044e-05 - val_loss: 0.3268 - val_acc: 1.0000 - val_mae: 0.0042 - val_mse: 1.7230e-05\n",
      "Epoch 846/1000\n",
      "6567/6567 [==============================] - 1s 176us/step - loss: 0.0042 - acc: 1.0001 - mae: 0.0042 - mse: 7.6647e-05 - val_loss: 0.3271 - val_acc: 1.0000 - val_mae: 0.0042 - val_mse: 1.7237e-05\n",
      "Epoch 847/1000\n",
      "6567/6567 [==============================] - 1s 177us/step - loss: 0.0042 - acc: 1.0001 - mae: 0.0042 - mse: 9.9228e-05 - val_loss: 0.3265 - val_acc: 1.0000 - val_mae: 0.0041 - val_mse: 1.7133e-05\n",
      "Epoch 848/1000\n",
      "6567/6567 [==============================] - 1s 176us/step - loss: 0.0042 - acc: 1.0000 - mae: 0.0042 - mse: 1.0166e-04 - val_loss: 0.3292 - val_acc: 1.0000 - val_mae: 0.0042 - val_mse: 1.7414e-05\n",
      "Epoch 849/1000\n",
      "6567/6567 [==============================] - 1s 176us/step - loss: 0.0042 - acc: 1.0001 - mae: 0.0042 - mse: 7.0304e-05 - val_loss: 0.3353 - val_acc: 1.0000 - val_mae: 0.0042 - val_mse: 1.8024e-05\n",
      "Epoch 850/1000\n",
      "6567/6567 [==============================] - 1s 177us/step - loss: 0.0042 - acc: 1.0001 - mae: 0.0042 - mse: 9.2100e-05 - val_loss: 0.3324 - val_acc: 1.0000 - val_mae: 0.0042 - val_mse: 1.7634e-05\n",
      "Epoch 851/1000\n",
      "6567/6567 [==============================] - 1s 194us/step - loss: 0.0042 - acc: 1.0001 - mae: 0.0042 - mse: 1.0361e-04 - val_loss: 0.3371 - val_acc: 1.0000 - val_mae: 0.0042 - val_mse: 1.8080e-05\n",
      "Epoch 852/1000\n",
      "6567/6567 [==============================] - 1s 192us/step - loss: 0.0043 - acc: 1.0000 - mae: 0.0042 - mse: 1.0496e-04 - val_loss: 0.3358 - val_acc: 1.0000 - val_mae: 0.0042 - val_mse: 1.7928e-05\n",
      "Epoch 853/1000\n",
      "6567/6567 [==============================] - 1s 181us/step - loss: 0.0043 - acc: 1.0001 - mae: 0.0043 - mse: 9.0449e-05 - val_loss: 0.3372 - val_acc: 1.0000 - val_mae: 0.0042 - val_mse: 1.8028e-05\n",
      "Epoch 854/1000\n",
      "6567/6567 [==============================] - 1s 185us/step - loss: 0.0042 - acc: 1.0000 - mae: 0.0043 - mse: 8.2612e-05 - val_loss: 0.3366 - val_acc: 1.0000 - val_mae: 0.0042 - val_mse: 1.7955e-05\n",
      "Epoch 855/1000\n",
      "6567/6567 [==============================] - 1s 195us/step - loss: 0.0042 - acc: 1.0000 - mae: 0.0043 - mse: 7.3422e-05 - val_loss: 0.3344 - val_acc: 1.0000 - val_mae: 0.0042 - val_mse: 1.7682e-05\n"
     ]
    },
    {
     "name": "stdout",
     "output_type": "stream",
     "text": [
      "Epoch 856/1000\n",
      "6567/6567 [==============================] - 1s 197us/step - loss: 0.0042 - acc: 1.0001 - mae: 0.0042 - mse: 7.2426e-05 - val_loss: 0.3328 - val_acc: 1.0000 - val_mae: 0.0042 - val_mse: 1.7469e-05\n",
      "Epoch 857/1000\n",
      "6567/6567 [==============================] - 1s 197us/step - loss: 0.0042 - acc: 1.0000 - mae: 0.0042 - mse: 9.8328e-05 - val_loss: 0.3315 - val_acc: 1.0000 - val_mae: 0.0042 - val_mse: 1.7268e-05\n",
      "Epoch 858/1000\n",
      "6567/6567 [==============================] - 1s 197us/step - loss: 0.0042 - acc: 1.0000 - mae: 0.0042 - mse: 1.0340e-04 - val_loss: 0.3341 - val_acc: 1.0000 - val_mae: 0.0042 - val_mse: 1.7551e-05\n",
      "Epoch 859/1000\n",
      "6567/6567 [==============================] - 1s 198us/step - loss: 0.0042 - acc: 1.0001 - mae: 0.0042 - mse: 9.3073e-05 - val_loss: 0.3380 - val_acc: 1.0000 - val_mae: 0.0042 - val_mse: 1.7924e-05\n",
      "Epoch 860/1000\n",
      "6567/6567 [==============================] - 1s 197us/step - loss: 0.0042 - acc: 1.0001 - mae: 0.0042 - mse: 9.0343e-05 - val_loss: 0.3391 - val_acc: 1.0000 - val_mae: 0.0042 - val_mse: 1.7952e-05\n",
      "Epoch 861/1000\n",
      "6567/6567 [==============================] - 1s 193us/step - loss: 0.0042 - acc: 1.0001 - mae: 0.0043 - mse: 1.7912e-05 - val_loss: 0.3375 - val_acc: 1.0000 - val_mae: 0.0042 - val_mse: 1.7773e-05\n",
      "Epoch 862/1000\n",
      "6567/6567 [==============================] - 1s 196us/step - loss: 0.0042 - acc: 1.0001 - mae: 0.0042 - mse: 1.7935e-05 - val_loss: 0.3387 - val_acc: 1.0000 - val_mae: 0.0042 - val_mse: 1.7855e-05\n",
      "Epoch 863/1000\n",
      "6567/6567 [==============================] - 1s 186us/step - loss: 0.0043 - acc: 1.0001 - mae: 0.0043 - mse: 1.8230e-05 - val_loss: 0.3437 - val_acc: 1.0000 - val_mae: 0.0043 - val_mse: 1.8397e-05\n",
      "Epoch 864/1000\n",
      "6567/6567 [==============================] - 1s 176us/step - loss: 0.0043 - acc: 1.0001 - mae: 0.0043 - mse: 9.4791e-05 - val_loss: 0.3428 - val_acc: 1.0000 - val_mae: 0.0043 - val_mse: 1.8222e-05\n",
      "Epoch 865/1000\n",
      "6567/6567 [==============================] - 1s 176us/step - loss: 0.0043 - acc: 1.0001 - mae: 0.0043 - mse: 9.0622e-05 - val_loss: 0.3451 - val_acc: 1.0000 - val_mae: 0.0043 - val_mse: 1.8405e-05\n",
      "Epoch 866/1000\n",
      "6567/6567 [==============================] - 1s 176us/step - loss: 0.0043 - acc: 1.0000 - mae: 0.0043 - mse: 1.0045e-04 - val_loss: 0.3414 - val_acc: 1.0000 - val_mae: 0.0042 - val_mse: 1.8000e-05\n",
      "Epoch 867/1000\n",
      "6567/6567 [==============================] - 1s 176us/step - loss: 0.0042 - acc: 1.0001 - mae: 0.0042 - mse: 6.7783e-05 - val_loss: 0.3388 - val_acc: 1.0000 - val_mae: 0.0042 - val_mse: 1.7667e-05\n",
      "Epoch 868/1000\n",
      "6567/6567 [==============================] - 1s 177us/step - loss: 0.0042 - acc: 1.0001 - mae: 0.0042 - mse: 1.7498e-05 - val_loss: 0.3359 - val_acc: 1.0000 - val_mae: 0.0042 - val_mse: 1.7309e-05\n",
      "Epoch 869/1000\n",
      "6567/6567 [==============================] - 1s 175us/step - loss: 0.0042 - acc: 1.0001 - mae: 0.0042 - mse: 8.8899e-05 - val_loss: 0.3345 - val_acc: 1.0000 - val_mae: 0.0041 - val_mse: 1.7113e-05\n",
      "Epoch 870/1000\n",
      "6567/6567 [==============================] - 1s 178us/step - loss: 0.0041 - acc: 1.0001 - mae: 0.0041 - mse: 1.6950e-05 - val_loss: 0.3318 - val_acc: 1.0000 - val_mae: 0.0041 - val_mse: 1.6786e-05\n",
      "Epoch 871/1000\n",
      "6567/6567 [==============================] - 1s 177us/step - loss: 0.0041 - acc: 1.0001 - mae: 0.0041 - mse: 6.5189e-05 - val_loss: 0.3319 - val_acc: 1.0000 - val_mae: 0.0041 - val_mse: 1.6734e-05\n",
      "Epoch 872/1000\n",
      "6567/6567 [==============================] - 1s 177us/step - loss: 0.0041 - acc: 1.0001 - mae: 0.0041 - mse: 7.5683e-05 - val_loss: 0.3302 - val_acc: 1.0000 - val_mae: 0.0041 - val_mse: 1.6509e-05\n",
      "Epoch 873/1000\n",
      "6567/6567 [==============================] - 1s 175us/step - loss: 0.0041 - acc: 1.0001 - mae: 0.0040 - mse: 1.6375e-05 - val_loss: 0.3281 - val_acc: 1.0000 - val_mae: 0.0040 - val_mse: 1.6305e-05\n",
      "Epoch 874/1000\n",
      "6567/6567 [==============================] - 1s 176us/step - loss: 0.0040 - acc: 1.0001 - mae: 0.0040 - mse: 8.0420e-05 - val_loss: 0.3319 - val_acc: 1.0000 - val_mae: 0.0041 - val_mse: 1.6644e-05\n",
      "Epoch 875/1000\n",
      "6567/6567 [==============================] - 1s 181us/step - loss: 0.0041 - acc: 1.0001 - mae: 0.0041 - mse: 9.5891e-05 - val_loss: 0.3368 - val_acc: 1.0000 - val_mae: 0.0041 - val_mse: 1.7054e-05\n",
      "Epoch 876/1000\n",
      "6567/6567 [==============================] - 1s 180us/step - loss: 0.0041 - acc: 1.0000 - mae: 0.0041 - mse: 5.7603e-05 - val_loss: 0.3376 - val_acc: 1.0000 - val_mae: 0.0041 - val_mse: 1.7136e-05\n",
      "Epoch 877/1000\n",
      "6567/6567 [==============================] - 1s 176us/step - loss: 0.0042 - acc: 1.0001 - mae: 0.0041 - mse: 7.5259e-05 - val_loss: 0.3377 - val_acc: 1.0000 - val_mae: 0.0041 - val_mse: 1.7080e-05\n",
      "Epoch 878/1000\n",
      "6567/6567 [==============================] - 1s 182us/step - loss: 0.0041 - acc: 1.0001 - mae: 0.0041 - mse: 8.0822e-05 - val_loss: 0.3370 - val_acc: 1.0000 - val_mae: 0.0041 - val_mse: 1.6974e-05\n",
      "Epoch 879/1000\n",
      "6567/6567 [==============================] - 1s 186us/step - loss: 0.0041 - acc: 1.0000 - mae: 0.0041 - mse: 8.2538e-05 - val_loss: 0.3407 - val_acc: 1.0000 - val_mae: 0.0042 - val_mse: 1.7286e-05\n",
      "Epoch 880/1000\n",
      "6567/6567 [==============================] - 1s 187us/step - loss: 0.0042 - acc: 1.0000 - mae: 0.0042 - mse: 8.5120e-05 - val_loss: 0.3423 - val_acc: 1.0000 - val_mae: 0.0042 - val_mse: 1.7456e-05\n",
      "Epoch 881/1000\n",
      "6567/6567 [==============================] - 1s 190us/step - loss: 0.0042 - acc: 1.0001 - mae: 0.0042 - mse: 7.6074e-05 - val_loss: 0.3426 - val_acc: 1.0000 - val_mae: 0.0042 - val_mse: 1.7439e-05\n",
      "Epoch 882/1000\n",
      "6567/6567 [==============================] - 1s 191us/step - loss: 0.0042 - acc: 1.0001 - mae: 0.0042 - mse: 1.7312e-05 - val_loss: 0.3400 - val_acc: 1.0000 - val_mae: 0.0041 - val_mse: 1.7138e-05\n",
      "Epoch 883/1000\n",
      "6567/6567 [==============================] - 1s 178us/step - loss: 0.0041 - acc: 1.0000 - mae: 0.0042 - mse: 7.2034e-05 - val_loss: 0.3381 - val_acc: 1.0000 - val_mae: 0.0041 - val_mse: 1.6894e-05\n",
      "Epoch 884/1000\n",
      "6567/6567 [==============================] - 1s 180us/step - loss: 0.0041 - acc: 1.0001 - mae: 0.0041 - mse: 6.3283e-05 - val_loss: 0.3405 - val_acc: 1.0000 - val_mae: 0.0041 - val_mse: 1.7109e-05\n",
      "Epoch 885/1000\n",
      "6567/6567 [==============================] - 1s 182us/step - loss: 0.0041 - acc: 0.9999 - mae: 0.0041 - mse: 1.6990e-05 - val_loss: 0.3381 - val_acc: 1.0000 - val_mae: 0.0041 - val_mse: 1.6866e-05\n",
      "Epoch 886/1000\n",
      "6567/6567 [==============================] - 1s 176us/step - loss: 0.0041 - acc: 1.0000 - mae: 0.0041 - mse: 5.9273e-05 - val_loss: 0.3361 - val_acc: 1.0000 - val_mae: 0.0041 - val_mse: 1.6627e-05\n",
      "Epoch 887/1000\n",
      "6567/6567 [==============================] - 1s 175us/step - loss: 0.0041 - acc: 1.0001 - mae: 0.0041 - mse: 1.6713e-05 - val_loss: 0.3383 - val_acc: 1.0000 - val_mae: 0.0041 - val_mse: 1.6794e-05\n",
      "Epoch 888/1000\n",
      "6567/6567 [==============================] - 1s 176us/step - loss: 0.0041 - acc: 1.0000 - mae: 0.0041 - mse: 8.0520e-05 - val_loss: 0.3373 - val_acc: 1.0000 - val_mae: 0.0041 - val_mse: 1.6663e-05\n",
      "Epoch 889/1000\n",
      "6567/6567 [==============================] - 1s 175us/step - loss: 0.0041 - acc: 1.0000 - mae: 0.0041 - mse: 1.6550e-05 - val_loss: 0.3358 - val_acc: 1.0000 - val_mae: 0.0041 - val_mse: 1.6500e-05\n",
      "Epoch 890/1000\n",
      "6567/6567 [==============================] - 1s 175us/step - loss: 0.0041 - acc: 1.0001 - mae: 0.0041 - mse: 7.0729e-05 - val_loss: 0.3390 - val_acc: 1.0000 - val_mae: 0.0041 - val_mse: 1.6772e-05\n",
      "Epoch 891/1000\n",
      "6567/6567 [==============================] - 1s 174us/step - loss: 0.0041 - acc: 1.0000 - mae: 0.0041 - mse: 7.4062e-05 - val_loss: 0.3427 - val_acc: 1.0000 - val_mae: 0.0041 - val_mse: 1.7096e-05\n",
      "Epoch 892/1000\n",
      "6567/6567 [==============================] - 1s 174us/step - loss: 0.0041 - acc: 1.0001 - mae: 0.0041 - mse: 1.7006e-05 - val_loss: 0.3406 - val_acc: 1.0000 - val_mae: 0.0041 - val_mse: 1.6848e-05\n",
      "Epoch 893/1000\n",
      "6567/6567 [==============================] - 1s 180us/step - loss: 0.0041 - acc: 1.0001 - mae: 0.0041 - mse: 7.6971e-05 - val_loss: 0.3418 - val_acc: 1.0000 - val_mae: 0.0041 - val_mse: 1.6928e-05\n",
      "Epoch 894/1000\n",
      "6567/6567 [==============================] - 1s 180us/step - loss: 0.0041 - acc: 1.0001 - mae: 0.0041 - mse: 8.0867e-05 - val_loss: 0.3424 - val_acc: 1.0000 - val_mae: 0.0041 - val_mse: 1.6933e-05\n"
     ]
    },
    {
     "name": "stdout",
     "output_type": "stream",
     "text": [
      "Epoch 895/1000\n",
      "6567/6567 [==============================] - 1s 179us/step - loss: 0.0041 - acc: 1.0000 - mae: 0.0041 - mse: 6.7629e-05 - val_loss: 0.3399 - val_acc: 1.0000 - val_mae: 0.0041 - val_mse: 1.6654e-05\n",
      "Epoch 896/1000\n",
      "6567/6567 [==============================] - 1s 175us/step - loss: 0.0041 - acc: 1.0001 - mae: 0.0041 - mse: 8.7757e-05 - val_loss: 0.3379 - val_acc: 1.0000 - val_mae: 0.0041 - val_mse: 1.6429e-05\n",
      "Epoch 897/1000\n",
      "6567/6567 [==============================] - 1s 173us/step - loss: 0.0041 - acc: 1.0001 - mae: 0.0041 - mse: 8.4835e-05 - val_loss: 0.3400 - val_acc: 1.0000 - val_mae: 0.0041 - val_mse: 1.6600e-05\n",
      "Epoch 898/1000\n",
      "6567/6567 [==============================] - 1s 174us/step - loss: 0.0041 - acc: 1.0000 - mae: 0.0041 - mse: 6.8222e-05 - val_loss: 0.3404 - val_acc: 1.0000 - val_mae: 0.0041 - val_mse: 1.6639e-05\n",
      "Epoch 899/1000\n",
      "6567/6567 [==============================] - 1s 171us/step - loss: 0.0041 - acc: 1.0001 - mae: 0.0041 - mse: 6.2983e-05 - val_loss: 0.3391 - val_acc: 1.0000 - val_mae: 0.0041 - val_mse: 1.6479e-05\n",
      "Epoch 900/1000\n",
      "6567/6567 [==============================] - 1s 173us/step - loss: 0.0041 - acc: 1.0001 - mae: 0.0040 - mse: 7.6981e-05 - val_loss: 0.3373 - val_acc: 1.0000 - val_mae: 0.0040 - val_mse: 1.6263e-05\n",
      "Epoch 901/1000\n",
      "6567/6567 [==============================] - 1s 177us/step - loss: 0.0041 - acc: 1.0001 - mae: 0.0041 - mse: 6.6644e-05 - val_loss: 0.3433 - val_acc: 1.0000 - val_mae: 0.0041 - val_mse: 1.6784e-05\n",
      "Epoch 902/1000\n",
      "6567/6567 [==============================] - 1s 175us/step - loss: 0.0041 - acc: 1.0001 - mae: 0.0041 - mse: 1.6624e-05 - val_loss: 0.3408 - val_acc: 1.0000 - val_mae: 0.0041 - val_mse: 1.6510e-05\n",
      "Epoch 903/1000\n",
      "6567/6567 [==============================] - 1s 174us/step - loss: 0.0041 - acc: 1.0000 - mae: 0.0041 - mse: 1.6507e-05 - val_loss: 0.3433 - val_acc: 1.0000 - val_mae: 0.0041 - val_mse: 1.6742e-05\n",
      "Epoch 904/1000\n",
      "6567/6567 [==============================] - 1s 175us/step - loss: 0.0041 - acc: 1.0001 - mae: 0.0041 - mse: 9.9565e-05 - val_loss: 0.3475 - val_acc: 1.0000 - val_mae: 0.0041 - val_mse: 1.7122e-05\n",
      "Epoch 905/1000\n",
      "6567/6567 [==============================] - 1s 172us/step - loss: 0.0041 - acc: 1.0001 - mae: 0.0041 - mse: 9.7027e-05 - val_loss: 0.3453 - val_acc: 1.0000 - val_mae: 0.0041 - val_mse: 1.6838e-05\n",
      "Epoch 906/1000\n",
      "6567/6567 [==============================] - 1s 193us/step - loss: 0.0042 - acc: 1.0000 - mae: 0.0042 - mse: 8.3053e-05 - val_loss: 0.3508 - val_acc: 1.0000 - val_mae: 0.0042 - val_mse: 1.7384e-05\n",
      "Epoch 907/1000\n",
      "6567/6567 [==============================] - 1s 194us/step - loss: 0.0042 - acc: 0.9999 - mae: 0.0042 - mse: 5.8593e-05 - val_loss: 0.3540 - val_acc: 1.0000 - val_mae: 0.0042 - val_mse: 1.7631e-05\n",
      "Epoch 908/1000\n",
      "6567/6567 [==============================] - 1s 196us/step - loss: 0.0042 - acc: 1.0000 - mae: 0.0042 - mse: 1.7799e-05 - val_loss: 0.3552 - val_acc: 1.0000 - val_mae: 0.0042 - val_mse: 1.7758e-05\n",
      "Epoch 909/1000\n",
      "6567/6567 [==============================] - 1s 193us/step - loss: 0.0042 - acc: 1.0001 - mae: 0.0042 - mse: 6.5675e-05 - val_loss: 0.3547 - val_acc: 1.0000 - val_mae: 0.0042 - val_mse: 1.7647e-05\n",
      "Epoch 910/1000\n",
      "6567/6567 [==============================] - 1s 189us/step - loss: 0.0042 - acc: 1.0000 - mae: 0.0042 - mse: 7.3899e-05 - val_loss: 0.3552 - val_acc: 1.0000 - val_mae: 0.0042 - val_mse: 1.7691e-05\n",
      "Epoch 911/1000\n",
      "6567/6567 [==============================] - 1s 194us/step - loss: 0.0042 - acc: 1.0000 - mae: 0.0042 - mse: 6.9091e-05 - val_loss: 0.3527 - val_acc: 1.0000 - val_mae: 0.0042 - val_mse: 1.7406e-05\n",
      "Epoch 912/1000\n",
      "6567/6567 [==============================] - 1s 190us/step - loss: 0.0042 - acc: 1.0001 - mae: 0.0042 - mse: 1.7249e-05 - val_loss: 0.3502 - val_acc: 1.0000 - val_mae: 0.0041 - val_mse: 1.7106e-05\n",
      "Epoch 913/1000\n",
      "6567/6567 [==============================] - 1s 199us/step - loss: 0.0042 - acc: 1.0000 - mae: 0.0041 - mse: 5.5741e-05 - val_loss: 0.3542 - val_acc: 1.0000 - val_mae: 0.0042 - val_mse: 1.7452e-05\n",
      "Epoch 914/1000\n",
      "6567/6567 [==============================] - 1s 197us/step - loss: 0.0042 - acc: 1.0001 - mae: 0.0042 - mse: 6.5359e-05 - val_loss: 0.3562 - val_acc: 1.0000 - val_mae: 0.0042 - val_mse: 1.7604e-05\n",
      "Epoch 915/1000\n",
      "6567/6567 [==============================] - 1s 195us/step - loss: 0.0043 - acc: 1.0001 - mae: 0.0043 - mse: 1.8096e-05 - val_loss: 0.3627 - val_acc: 1.0000 - val_mae: 0.0043 - val_mse: 1.8268e-05\n",
      "Epoch 916/1000\n",
      "6567/6567 [==============================] - 1s 198us/step - loss: 0.0043 - acc: 1.0000 - mae: 0.0043 - mse: 7.4265e-05 - val_loss: 0.3603 - val_acc: 1.0000 - val_mae: 0.0042 - val_mse: 1.7967e-05\n",
      "Epoch 917/1000\n",
      "6567/6567 [==============================] - 1s 190us/step - loss: 0.0042 - acc: 1.0001 - mae: 0.0042 - mse: 1.7970e-05 - val_loss: 0.3600 - val_acc: 1.0000 - val_mae: 0.0042 - val_mse: 1.7897e-05\n",
      "Epoch 918/1000\n",
      "6567/6567 [==============================] - 1s 178us/step - loss: 0.0042 - acc: 1.0000 - mae: 0.0042 - mse: 7.3077e-05 - val_loss: 0.3581 - val_acc: 1.0000 - val_mae: 0.0042 - val_mse: 1.7653e-05\n",
      "Epoch 919/1000\n",
      "6567/6567 [==============================] - 1s 174us/step - loss: 0.0042 - acc: 1.0000 - mae: 0.0042 - mse: 6.9618e-05 - val_loss: 0.3556 - val_acc: 1.0000 - val_mae: 0.0042 - val_mse: 1.7387e-05\n",
      "Epoch 920/1000\n",
      "6567/6567 [==============================] - 1s 173us/step - loss: 0.0042 - acc: 1.0000 - mae: 0.0042 - mse: 7.4770e-05 - val_loss: 0.3601 - val_acc: 1.0000 - val_mae: 0.0042 - val_mse: 1.7838e-05\n",
      "Epoch 921/1000\n",
      "6567/6567 [==============================] - 1s 174us/step - loss: 0.0042 - acc: 1.0001 - mae: 0.0042 - mse: 5.7984e-05 - val_loss: 0.3587 - val_acc: 1.0000 - val_mae: 0.0042 - val_mse: 1.7657e-05\n",
      "Epoch 922/1000\n",
      "6567/6567 [==============================] - 1s 174us/step - loss: 0.0042 - acc: 1.0000 - mae: 0.0042 - mse: 7.4100e-05 - val_loss: 0.3588 - val_acc: 1.0000 - val_mae: 0.0042 - val_mse: 1.7662e-05\n",
      "Epoch 923/1000\n",
      "6567/6567 [==============================] - 1s 174us/step - loss: 0.0042 - acc: 1.0001 - mae: 0.0042 - mse: 8.1091e-05 - val_loss: 0.3571 - val_acc: 1.0000 - val_mae: 0.0042 - val_mse: 1.7444e-05\n",
      "Epoch 924/1000\n",
      "6567/6567 [==============================] - 1s 176us/step - loss: 0.0042 - acc: 1.0000 - mae: 0.0042 - mse: 7.3144e-05 - val_loss: 0.3604 - val_acc: 1.0000 - val_mae: 0.0042 - val_mse: 1.7713e-05\n",
      "Epoch 925/1000\n",
      "6567/6567 [==============================] - 1s 175us/step - loss: 0.0042 - acc: 1.0001 - mae: 0.0042 - mse: 1.7583e-05 - val_loss: 0.3580 - val_acc: 1.0000 - val_mae: 0.0042 - val_mse: 1.7480e-05\n",
      "Epoch 926/1000\n",
      "6567/6567 [==============================] - 1s 178us/step - loss: 0.0042 - acc: 1.0001 - mae: 0.0042 - mse: 8.1913e-05 - val_loss: 0.3567 - val_acc: 1.0000 - val_mae: 0.0042 - val_mse: 1.7305e-05\n",
      "Epoch 927/1000\n",
      "6567/6567 [==============================] - 1s 179us/step - loss: 0.0042 - acc: 1.0000 - mae: 0.0042 - mse: 6.4225e-05 - val_loss: 0.3631 - val_acc: 1.0000 - val_mae: 0.0042 - val_mse: 1.7886e-05\n",
      "Epoch 928/1000\n",
      "6567/6567 [==============================] - 1s 173us/step - loss: 0.0042 - acc: 1.0001 - mae: 0.0042 - mse: 1.7757e-05 - val_loss: 0.3603 - val_acc: 1.0000 - val_mae: 0.0042 - val_mse: 1.7567e-05\n",
      "Epoch 929/1000\n",
      "6567/6567 [==============================] - 1s 180us/step - loss: 0.0042 - acc: 1.0001 - mae: 0.0042 - mse: 6.7556e-05 - val_loss: 0.3577 - val_acc: 1.0000 - val_mae: 0.0042 - val_mse: 1.7270e-05\n",
      "Epoch 930/1000\n",
      "6567/6567 [==============================] - 1s 176us/step - loss: 0.0042 - acc: 1.0001 - mae: 0.0042 - mse: 1.7264e-05 - val_loss: 0.3586 - val_acc: 1.0000 - val_mae: 0.0042 - val_mse: 1.7306e-05\n",
      "Epoch 931/1000\n",
      "6567/6567 [==============================] - 1s 176us/step - loss: 0.0042 - acc: 1.0001 - mae: 0.0042 - mse: 7.8731e-05 - val_loss: 0.3581 - val_acc: 1.0000 - val_mae: 0.0041 - val_mse: 1.7212e-05\n",
      "Epoch 932/1000\n",
      "6567/6567 [==============================] - 1s 177us/step - loss: 0.0041 - acc: 1.0001 - mae: 0.0041 - mse: 1.7047e-05 - val_loss: 0.3549 - val_acc: 1.0000 - val_mae: 0.0041 - val_mse: 1.6883e-05\n",
      "Epoch 933/1000\n",
      "6567/6567 [==============================] - 1s 176us/step - loss: 0.0041 - acc: 1.0001 - mae: 0.0042 - mse: 8.3947e-05 - val_loss: 0.3538 - val_acc: 1.0000 - val_mae: 0.0041 - val_mse: 1.6712e-05\n"
     ]
    },
    {
     "name": "stdout",
     "output_type": "stream",
     "text": [
      "Epoch 934/1000\n",
      "6567/6567 [==============================] - 1s 175us/step - loss: 0.0041 - acc: 1.0001 - mae: 0.0041 - mse: 8.3407e-05 - val_loss: 0.3529 - val_acc: 1.0000 - val_mae: 0.0041 - val_mse: 1.6585e-05\n",
      "Epoch 935/1000\n",
      "6567/6567 [==============================] - 1s 177us/step - loss: 0.0041 - acc: 1.0001 - mae: 0.0041 - mse: 9.5473e-05 - val_loss: 0.3523 - val_acc: 1.0000 - val_mae: 0.0041 - val_mse: 1.6500e-05\n",
      "Epoch 936/1000\n",
      "6567/6567 [==============================] - 1s 177us/step - loss: 0.0041 - acc: 1.0001 - mae: 0.0041 - mse: 6.5115e-05 - val_loss: 0.3560 - val_acc: 1.0000 - val_mae: 0.0041 - val_mse: 1.6787e-05\n",
      "Epoch 937/1000\n",
      "6567/6567 [==============================] - 1s 175us/step - loss: 0.0041 - acc: 1.0001 - mae: 0.0041 - mse: 8.8153e-05 - val_loss: 0.3537 - val_acc: 1.0000 - val_mae: 0.0041 - val_mse: 1.6521e-05\n",
      "Epoch 938/1000\n",
      "6567/6567 [==============================] - 1s 176us/step - loss: 0.0041 - acc: 0.9999 - mae: 0.0041 - mse: 1.6456e-05 - val_loss: 0.3527 - val_acc: 1.0000 - val_mae: 0.0040 - val_mse: 1.6361e-05\n",
      "Epoch 939/1000\n",
      "6567/6567 [==============================] - 1s 177us/step - loss: 0.0041 - acc: 1.0001 - mae: 0.0041 - mse: 7.2506e-05 - val_loss: 0.3554 - val_acc: 1.0000 - val_mae: 0.0041 - val_mse: 1.6564e-05\n",
      "Epoch 940/1000\n",
      "6567/6567 [==============================] - 1s 177us/step - loss: 0.0041 - acc: 1.0001 - mae: 0.0041 - mse: 1.6408e-05 - val_loss: 0.3528 - val_acc: 1.0000 - val_mae: 0.0040 - val_mse: 1.6274e-05\n",
      "Epoch 941/1000\n",
      "6567/6567 [==============================] - 1s 179us/step - loss: 0.0040 - acc: 1.0001 - mae: 0.0040 - mse: 9.3591e-05 - val_loss: 0.3519 - val_acc: 1.0000 - val_mae: 0.0040 - val_mse: 1.6152e-05\n",
      "Epoch 942/1000\n",
      "6567/6567 [==============================] - 1s 177us/step - loss: 0.0040 - acc: 1.0000 - mae: 0.0040 - mse: 9.6015e-05 - val_loss: 0.3534 - val_acc: 1.0000 - val_mae: 0.0040 - val_mse: 1.6284e-05\n",
      "Epoch 943/1000\n",
      "6567/6567 [==============================] - 1s 176us/step - loss: 0.0040 - acc: 1.0000 - mae: 0.0040 - mse: 7.6925e-05 - val_loss: 0.3530 - val_acc: 1.0000 - val_mae: 0.0040 - val_mse: 1.6211e-05\n",
      "Epoch 944/1000\n",
      "6567/6567 [==============================] - 1s 178us/step - loss: 0.0040 - acc: 1.0001 - mae: 0.0040 - mse: 1.6086e-05 - val_loss: 0.3507 - val_acc: 1.0000 - val_mae: 0.0040 - val_mse: 1.5973e-05\n",
      "Epoch 945/1000\n",
      "6567/6567 [==============================] - 1s 178us/step - loss: 0.0040 - acc: 1.0001 - mae: 0.0040 - mse: 8.1197e-05 - val_loss: 0.3514 - val_acc: 1.0000 - val_mae: 0.0040 - val_mse: 1.5992e-05\n",
      "Epoch 946/1000\n",
      "6567/6567 [==============================] - 1s 176us/step - loss: 0.0040 - acc: 1.0001 - mae: 0.0040 - mse: 7.3082e-05 - val_loss: 0.3507 - val_acc: 1.0000 - val_mae: 0.0040 - val_mse: 1.5888e-05\n",
      "Epoch 947/1000\n",
      "6567/6567 [==============================] - 1s 181us/step - loss: 0.0040 - acc: 1.0001 - mae: 0.0040 - mse: 8.0671e-05 - val_loss: 0.3517 - val_acc: 1.0000 - val_mae: 0.0040 - val_mse: 1.5932e-05\n",
      "Epoch 948/1000\n",
      "6567/6567 [==============================] - 1s 180us/step - loss: 0.0040 - acc: 1.0001 - mae: 0.0040 - mse: 7.9712e-05 - val_loss: 0.3555 - val_acc: 1.0000 - val_mae: 0.0040 - val_mse: 1.6220e-05\n",
      "Epoch 949/1000\n",
      "6567/6567 [==============================] - 1s 176us/step - loss: 0.0040 - acc: 1.0001 - mae: 0.0040 - mse: 6.7360e-05 - val_loss: 0.3556 - val_acc: 1.0000 - val_mae: 0.0040 - val_mse: 1.6181e-05\n",
      "Epoch 950/1000\n",
      "6567/6567 [==============================] - 1s 178us/step - loss: 0.0040 - acc: 1.0001 - mae: 0.0040 - mse: 7.7567e-05 - val_loss: 0.3546 - val_acc: 1.0000 - val_mae: 0.0040 - val_mse: 1.6062e-05\n",
      "Epoch 951/1000\n",
      "6567/6567 [==============================] - 1s 178us/step - loss: 0.0040 - acc: 1.0001 - mae: 0.0040 - mse: 7.8260e-05 - val_loss: 0.3566 - val_acc: 1.0000 - val_mae: 0.0040 - val_mse: 1.6195e-05\n",
      "Epoch 952/1000\n",
      "6567/6567 [==============================] - 1s 178us/step - loss: 0.0040 - acc: 1.0001 - mae: 0.0040 - mse: 1.6090e-05 - val_loss: 0.3547 - val_acc: 1.0000 - val_mae: 0.0040 - val_mse: 1.5996e-05\n",
      "Epoch 953/1000\n",
      "6567/6567 [==============================] - 1s 181us/step - loss: 0.0040 - acc: 1.0001 - mae: 0.0040 - mse: 8.8680e-05 - val_loss: 0.3554 - val_acc: 1.0000 - val_mae: 0.0040 - val_mse: 1.6008e-05\n",
      "Epoch 954/1000\n",
      "6567/6567 [==============================] - 1s 182us/step - loss: 0.0040 - acc: 1.0001 - mae: 0.0040 - mse: 7.3083e-05 - val_loss: 0.3538 - val_acc: 1.0000 - val_mae: 0.0040 - val_mse: 1.5814e-05\n",
      "Epoch 955/1000\n",
      "6567/6567 [==============================] - 1s 175us/step - loss: 0.0040 - acc: 0.9999 - mae: 0.0040 - mse: 6.5633e-05 - val_loss: 0.3558 - val_acc: 1.0000 - val_mae: 0.0040 - val_mse: 1.5942e-05\n",
      "Epoch 956/1000\n",
      "6567/6567 [==============================] - 1s 189us/step - loss: 0.0040 - acc: 1.0001 - mae: 0.0040 - mse: 6.2746e-05 - val_loss: 0.3632 - val_acc: 1.0000 - val_mae: 0.0041 - val_mse: 1.6556e-05\n",
      "Epoch 957/1000\n",
      "6567/6567 [==============================] - 1s 198us/step - loss: 0.0041 - acc: 1.0000 - mae: 0.0041 - mse: 7.2826e-05 - val_loss: 0.3629 - val_acc: 1.0000 - val_mae: 0.0041 - val_mse: 1.6490e-05\n",
      "Epoch 958/1000\n",
      "6567/6567 [==============================] - 1s 196us/step - loss: 0.0041 - acc: 1.0000 - mae: 0.0041 - mse: 6.5181e-05 - val_loss: 0.3599 - val_acc: 1.0000 - val_mae: 0.0040 - val_mse: 1.6229e-05\n",
      "Epoch 959/1000\n",
      "6567/6567 [==============================] - 1s 203us/step - loss: 0.0040 - acc: 1.0001 - mae: 0.0040 - mse: 7.0599e-05 - val_loss: 0.3572 - val_acc: 1.0000 - val_mae: 0.0040 - val_mse: 1.5944e-05\n",
      "Epoch 960/1000\n",
      "6567/6567 [==============================] - 1s 187us/step - loss: 0.0040 - acc: 1.0001 - mae: 0.0040 - mse: 8.0020e-05 - val_loss: 0.3610 - val_acc: 1.0000 - val_mae: 0.0040 - val_mse: 1.6251e-05\n",
      "Epoch 961/1000\n",
      "6567/6567 [==============================] - 1s 194us/step - loss: 0.0041 - acc: 1.0001 - mae: 0.0040 - mse: 8.8205e-05 - val_loss: 0.3645 - val_acc: 1.0000 - val_mae: 0.0041 - val_mse: 1.6493e-05\n",
      "Epoch 962/1000\n",
      "6567/6567 [==============================] - 1s 201us/step - loss: 0.0040 - acc: 1.0000 - mae: 0.0040 - mse: 1.6337e-05 - val_loss: 0.3617 - val_acc: 1.0000 - val_mae: 0.0040 - val_mse: 1.6198e-05\n",
      "Epoch 963/1000\n",
      "6567/6567 [==============================] - 1s 198us/step - loss: 0.0040 - acc: 1.0001 - mae: 0.0040 - mse: 1.6216e-05 - val_loss: 0.3611 - val_acc: 1.0000 - val_mae: 0.0040 - val_mse: 1.6143e-05\n",
      "Epoch 964/1000\n",
      "6567/6567 [==============================] - 1s 188us/step - loss: 0.0040 - acc: 1.0001 - mae: 0.0040 - mse: 7.3794e-05 - val_loss: 0.3641 - val_acc: 1.0000 - val_mae: 0.0040 - val_mse: 1.6368e-05\n",
      "Epoch 965/1000\n",
      "6567/6567 [==============================] - 1s 186us/step - loss: 0.0040 - acc: 0.9999 - mae: 0.0040 - mse: 1.6280e-05 - val_loss: 0.3630 - val_acc: 1.0000 - val_mae: 0.0040 - val_mse: 1.6269e-05\n",
      "Epoch 966/1000\n",
      "6567/6567 [==============================] - 1s 174us/step - loss: 0.0040 - acc: 1.0001 - mae: 0.0040 - mse: 6.8401e-05 - val_loss: 0.3615 - val_acc: 1.0000 - val_mae: 0.0040 - val_mse: 1.6094e-05\n",
      "Epoch 967/1000\n",
      "6567/6567 [==============================] - 1s 176us/step - loss: 0.0040 - acc: 1.0000 - mae: 0.0040 - mse: 7.6415e-05 - val_loss: 0.3625 - val_acc: 1.0000 - val_mae: 0.0040 - val_mse: 1.6136e-05\n",
      "Epoch 968/1000\n",
      "6567/6567 [==============================] - 1s 176us/step - loss: 0.0040 - acc: 1.0000 - mae: 0.0040 - mse: 5.8525e-05 - val_loss: 0.3623 - val_acc: 1.0000 - val_mae: 0.0040 - val_mse: 1.6124e-05\n",
      "Epoch 969/1000\n",
      "6567/6567 [==============================] - 1s 174us/step - loss: 0.0040 - acc: 1.0000 - mae: 0.0040 - mse: 7.3565e-05 - val_loss: 0.3597 - val_acc: 1.0000 - val_mae: 0.0040 - val_mse: 1.5843e-05\n",
      "Epoch 970/1000\n",
      "6567/6567 [==============================] - 1s 179us/step - loss: 0.0040 - acc: 1.0001 - mae: 0.0040 - mse: 5.2425e-05 - val_loss: 0.3602 - val_acc: 1.0000 - val_mae: 0.0040 - val_mse: 1.5873e-05\n",
      "Epoch 971/1000\n",
      "6567/6567 [==============================] - 1s 176us/step - loss: 0.0040 - acc: 1.0000 - mae: 0.0040 - mse: 6.7456e-05 - val_loss: 0.3614 - val_acc: 1.0000 - val_mae: 0.0040 - val_mse: 1.5938e-05\n",
      "Epoch 972/1000\n",
      "6567/6567 [==============================] - 1s 178us/step - loss: 0.0040 - acc: 1.0000 - mae: 0.0040 - mse: 5.4121e-05 - val_loss: 0.3590 - val_acc: 1.0000 - val_mae: 0.0040 - val_mse: 1.5693e-05\n"
     ]
    },
    {
     "name": "stdout",
     "output_type": "stream",
     "text": [
      "Epoch 973/1000\n",
      "6567/6567 [==============================] - 1s 179us/step - loss: 0.0040 - acc: 1.0000 - mae: 0.0040 - mse: 1.5697e-05 - val_loss: 0.3621 - val_acc: 1.0000 - val_mae: 0.0040 - val_mse: 1.5957e-05\n",
      "Epoch 974/1000\n",
      "6567/6567 [==============================] - 1s 174us/step - loss: 0.0040 - acc: 1.0001 - mae: 0.0040 - mse: 7.4772e-05 - val_loss: 0.3653 - val_acc: 1.0000 - val_mae: 0.0040 - val_mse: 1.6179e-05\n",
      "Epoch 975/1000\n",
      "6567/6567 [==============================] - 1s 177us/step - loss: 0.0040 - acc: 1.0000 - mae: 0.0040 - mse: 6.5680e-05 - val_loss: 0.3624 - val_acc: 1.0000 - val_mae: 0.0040 - val_mse: 1.5894e-05\n",
      "Epoch 976/1000\n",
      "6567/6567 [==============================] - 1s 178us/step - loss: 0.0040 - acc: 1.0001 - mae: 0.0040 - mse: 4.8665e-05 - val_loss: 0.3629 - val_acc: 1.0000 - val_mae: 0.0040 - val_mse: 1.5921e-05\n",
      "Epoch 977/1000\n",
      "6567/6567 [==============================] - 1s 178us/step - loss: 0.0040 - acc: 1.0001 - mae: 0.0040 - mse: 6.6413e-05 - val_loss: 0.3641 - val_acc: 1.0000 - val_mae: 0.0040 - val_mse: 1.5987e-05\n",
      "Epoch 978/1000\n",
      "6567/6567 [==============================] - 1s 174us/step - loss: 0.0040 - acc: 1.0001 - mae: 0.0040 - mse: 6.2625e-05 - val_loss: 0.3623 - val_acc: 1.0000 - val_mae: 0.0040 - val_mse: 1.5814e-05\n",
      "Epoch 979/1000\n",
      "6567/6567 [==============================] - 1s 176us/step - loss: 0.0040 - acc: 1.0000 - mae: 0.0040 - mse: 5.6144e-05 - val_loss: 0.3648 - val_acc: 1.0000 - val_mae: 0.0040 - val_mse: 1.6005e-05\n",
      "Epoch 980/1000\n",
      "6567/6567 [==============================] - 1s 176us/step - loss: 0.0040 - acc: 0.9999 - mae: 0.0040 - mse: 7.7799e-05 - val_loss: 0.3664 - val_acc: 1.0000 - val_mae: 0.0040 - val_mse: 1.6107e-05\n",
      "Epoch 981/1000\n",
      "6567/6567 [==============================] - 1s 176us/step - loss: 0.0041 - acc: 1.0001 - mae: 0.0041 - mse: 1.6445e-05 - val_loss: 0.3723 - val_acc: 1.0000 - val_mae: 0.0041 - val_mse: 1.6631e-05\n",
      "Epoch 982/1000\n",
      "6567/6567 [==============================] - 1s 174us/step - loss: 0.0041 - acc: 1.0001 - mae: 0.0041 - mse: 6.6236e-05 - val_loss: 0.3715 - val_acc: 1.0000 - val_mae: 0.0041 - val_mse: 1.6515e-05\n",
      "Epoch 983/1000\n",
      "6567/6567 [==============================] - 1s 177us/step - loss: 0.0041 - acc: 1.0001 - mae: 0.0041 - mse: 8.8557e-05 - val_loss: 0.3747 - val_acc: 1.0000 - val_mae: 0.0041 - val_mse: 1.6760e-05\n",
      "Epoch 984/1000\n",
      "6567/6567 [==============================] - 1s 176us/step - loss: 0.0041 - acc: 1.0001 - mae: 0.0041 - mse: 1.6602e-05 - val_loss: 0.3715 - val_acc: 1.0000 - val_mae: 0.0041 - val_mse: 1.6439e-05\n",
      "Epoch 985/1000\n",
      "6567/6567 [==============================] - 1s 178us/step - loss: 0.0040 - acc: 1.0001 - mae: 0.0040 - mse: 8.1149e-05 - val_loss: 0.3692 - val_acc: 1.0000 - val_mae: 0.0040 - val_mse: 1.6210e-05\n",
      "Epoch 986/1000\n",
      "6567/6567 [==============================] - 1s 179us/step - loss: 0.0040 - acc: 1.0001 - mae: 0.0040 - mse: 5.8496e-05 - val_loss: 0.3715 - val_acc: 1.0000 - val_mae: 0.0040 - val_mse: 1.6359e-05\n",
      "Epoch 987/1000\n",
      "6567/6567 [==============================] - 1s 178us/step - loss: 0.0040 - acc: 1.0000 - mae: 0.0040 - mse: 6.5679e-05 - val_loss: 0.3689 - val_acc: 1.0000 - val_mae: 0.0040 - val_mse: 1.6063e-05\n",
      "Epoch 988/1000\n",
      "6567/6567 [==============================] - 1s 176us/step - loss: 0.0040 - acc: 1.0001 - mae: 0.0040 - mse: 6.9473e-05 - val_loss: 0.3701 - val_acc: 1.0000 - val_mae: 0.0040 - val_mse: 1.6147e-05\n",
      "Epoch 989/1000\n",
      "6567/6567 [==============================] - 1s 174us/step - loss: 0.0040 - acc: 1.0000 - mae: 0.0040 - mse: 1.0133e-04 - val_loss: 0.3711 - val_acc: 1.0000 - val_mae: 0.0040 - val_mse: 1.6159e-05\n",
      "Epoch 990/1000\n",
      "6567/6567 [==============================] - 1s 176us/step - loss: 0.0040 - acc: 1.0000 - mae: 0.0040 - mse: 8.9065e-05 - val_loss: 0.3707 - val_acc: 1.0000 - val_mae: 0.0040 - val_mse: 1.6123e-05\n",
      "Epoch 991/1000\n",
      "6567/6567 [==============================] - 1s 174us/step - loss: 0.0040 - acc: 1.0000 - mae: 0.0040 - mse: 8.3585e-05 - val_loss: 0.3692 - val_acc: 1.0000 - val_mae: 0.0040 - val_mse: 1.5965e-05\n",
      "Epoch 992/1000\n",
      "6567/6567 [==============================] - 1s 180us/step - loss: 0.0040 - acc: 1.0001 - mae: 0.0040 - mse: 8.5331e-05 - val_loss: 0.3709 - val_acc: 1.0000 - val_mae: 0.0040 - val_mse: 1.6057e-05\n",
      "Epoch 993/1000\n",
      "6567/6567 [==============================] - 1s 182us/step - loss: 0.0040 - acc: 1.0001 - mae: 0.0040 - mse: 1.0053e-04 - val_loss: 0.3688 - val_acc: 1.0000 - val_mae: 0.0040 - val_mse: 1.5815e-05\n",
      "Epoch 994/1000\n",
      "6567/6567 [==============================] - 1s 178us/step - loss: 0.0040 - acc: 1.0001 - mae: 0.0040 - mse: 1.5663e-05 - val_loss: 0.3660 - val_acc: 1.0000 - val_mae: 0.0039 - val_mse: 1.5539e-05\n",
      "Epoch 995/1000\n",
      "6567/6567 [==============================] - 1s 179us/step - loss: 0.0040 - acc: 1.0001 - mae: 0.0040 - mse: 7.5464e-05 - val_loss: 0.3690 - val_acc: 1.0000 - val_mae: 0.0040 - val_mse: 1.5751e-05\n",
      "Epoch 996/1000\n",
      "6567/6567 [==============================] - 1s 180us/step - loss: 0.0040 - acc: 1.0001 - mae: 0.0039 - mse: 1.5600e-05 - val_loss: 0.3666 - val_acc: 1.0000 - val_mae: 0.0039 - val_mse: 1.5477e-05\n",
      "Epoch 997/1000\n",
      "6567/6567 [==============================] - 1s 187us/step - loss: 0.0039 - acc: 1.0001 - mae: 0.0039 - mse: 1.5405e-05 - val_loss: 0.3689 - val_acc: 1.0000 - val_mae: 0.0040 - val_mse: 1.5668e-05\n",
      "Epoch 998/1000\n",
      "6567/6567 [==============================] - 1s 180us/step - loss: 0.0039 - acc: 1.0001 - mae: 0.0039 - mse: 1.5518e-05 - val_loss: 0.3662 - val_acc: 1.0000 - val_mae: 0.0039 - val_mse: 1.5399e-05\n",
      "Epoch 999/1000\n",
      "6567/6567 [==============================] - 1s 187us/step - loss: 0.0040 - acc: 1.0001 - mae: 0.0040 - mse: 8.3107e-05 - val_loss: 0.3754 - val_acc: 1.0000 - val_mae: 0.0040 - val_mse: 1.6102e-05\n",
      "Epoch 1000/1000\n",
      "6567/6567 [==============================] - 1s 184us/step - loss: 0.0040 - acc: 1.0000 - mae: 0.0040 - mse: 9.2652e-05 - val_loss: 0.3757 - val_acc: 1.0000 - val_mae: 0.0040 - val_mse: 1.6129e-05\n"
     ]
    }
   ],
   "source": [
    "from keras import Sequential\n",
    "from keras.layers import Dense,LSTM,Embedding\n",
    "from keras import layers\n",
    "import keras\n",
    "#callbacks_list = [keras.callbacks.EarlyStopping(monitor='acc',patience=1,),\n",
    "#keras.callbacks.ModelCheckpoint(filepath='my_model.h5',monitor='val_loss',save_best_only=True,)]\n",
    "\n",
    "model_lstm = Sequential()\n",
    "\n",
    "model_lstm.add(layers.Embedding(6, 8))\n",
    "model_lstm.add(layers.LSTM(4))\n",
    "model_lstm.add(Dense(2, activation='softmax'))\n",
    "model_lstm.compile(optimizer='sgd', loss='categorical_crossentropy', metrics=['acc','mae','mse'])\n",
    "model_lstm.summary()\n",
    "history_lstm = model_lstm.fit(X_train, y_train,epochs=1000,validation_split=0.2)"
   ]
  },
  {
   "cell_type": "code",
   "execution_count": 25,
   "metadata": {},
   "outputs": [
    {
     "data": {
      "image/png": "[encoded data removed]",
      "text/plain": [
       "<Figure size 432x288 with 1 Axes>"
      ]
     },
     "metadata": {
      "needs_background": "light"
     },
     "output_type": "display_data"
    },
    {
     "data": {
      "image/png": "[encoded data removed]",
      "text/plain": [
       "<Figure size 432x288 with 1 Axes>"
      ]
     },
     "metadata": {
      "needs_background": "light"
     },
     "output_type": "display_data"
    },
    {
     "data": {
      "image/png": "[encoded data removed]",
      "text/plain": [
       "<Figure size 432x288 with 1 Axes>"
      ]
     },
     "metadata": {
      "needs_background": "light"
     },
     "output_type": "display_data"
    },
    {
     "data": {
      "image/png": "[encoded data removed]",
      "text/plain": [
       "<Figure size 432x288 with 1 Axes>"
      ]
     },
     "metadata": {
      "needs_background": "light"
     },
     "output_type": "display_data"
    }
   ],
   "source": [
    "import matplotlib.pyplot as plt\n",
    "loss = history_lstm.history['loss']\n",
    "val_loss = history_lstm.history['val_loss']\n",
    "mse = history_lstm.history['mse']\n",
    "val_mse = history_lstm.history['val_mse']\n",
    "mae = history_lstm.history['mae']\n",
    "val_mae = history_lstm.history['val_mae']\n",
    "acc = history_lstm.history['acc']\n",
    "val_acc = history_lstm.history['val_acc']\n",
    "\n",
    "epochs = range(1, len(loss) + 1)\n",
    "\n",
    "plt.figure()\n",
    "plt.plot(epochs, loss, 'bo', label='Training loss')\n",
    "plt.plot(epochs, val_loss, 'r', label='Validation loss')\n",
    "plt.xlabel('Epochs')\n",
    "plt.ylabel('Loss')\n",
    "plt.title('Training and validation Loss for LSTM-NA model with Under-sampling')\n",
    "plt.legend()\n",
    "plt.show()\n",
    "\n",
    "plt.figure()\n",
    "plt.plot(epochs, mse, 'ro', label='Training mse')\n",
    "plt.plot(epochs, val_mse, 'b', label='Validation mse')\n",
    "plt.xlabel('Epochs')\n",
    "plt.ylabel('MSE')\n",
    "plt.title('Training and validation MSE for LSTM-NA model')\n",
    "plt.legend()\n",
    "plt.show()\n",
    "\n",
    "plt.figure()\n",
    "plt.plot(epochs, loss, 'go', label='Training mae')\n",
    "plt.plot(epochs, val_loss, 'r', label='Validation mae')\n",
    "plt.xlabel('Epochs')\n",
    "plt.ylabel('MAE')\n",
    "plt.title('Training and validation MAE for LSTM-NA model')\n",
    "plt.legend()\n",
    "plt.show()\n",
    "\n",
    "plt.figure()\n",
    "plt.plot(epochs, acc, 'co', label='Training acc')\n",
    "plt.plot(epochs, val_acc, 'r', label='Validation acc')\n",
    "plt.xlabel('Epochs')\n",
    "plt.ylabel('Accuracy')\n",
    "plt.title('Training and validation Acc for LSTM-NA model')\n",
    "plt.legend()\n",
    "plt.show()\n"
   ]
  },
  {
   "cell_type": "code",
   "execution_count": 26,
   "metadata": {},
   "outputs": [],
   "source": [
    "# save model\n",
    "import h5py\n",
    "model_lstm.save('large dataset/deep_model_resample_6features_undersampling-lstm_ec-sc.h5')\n",
    "model_lstm.save_weights('large dataset/deep_model_resample_6features_undersampling-lstm_weights_ec-sc.h5')"
   ]
  },
  {
   "cell_type": "markdown",
   "metadata": {},
   "source": [
    "## test tune model for real data"
   ]
  },
  {
   "cell_type": "code",
   "execution_count": 27,
   "metadata": {},
   "outputs": [],
   "source": [
    "from keras.models import load_model\n",
    "#del model_onelstm\n",
    "model_onelstm = load_model('large dataset/deep_model_resample_6features_undersampling-lstm_ec-sc.h5')\n",
    "model_onelstm.load_weights('large dataset/deep_model_resample_6features_undersampling-lstm_weights_ec-sc.h5', by_name=True)"
   ]
  },
  {
   "cell_type": "code",
   "execution_count": 32,
   "metadata": {},
   "outputs": [
    {
     "name": "stdout",
     "output_type": "stream",
     "text": [
      "8209/8209 [==============================] - 1s 73us/step\n"
     ]
    },
    {
     "data": {
      "text/plain": [
       "[0.0040236424058194735, 1.0, 0.00401556771248579, 1.612554660823662e-05]"
      ]
     },
     "execution_count": 32,
     "metadata": {},
     "output_type": "execute_result"
    }
   ],
   "source": [
    "# without resample\n",
    "result_tr = model_onelstm.evaluate(X_train, y_train)\n",
    "result_tr"
   ]
  },
  {
   "cell_type": "code",
   "execution_count": 33,
   "metadata": {},
   "outputs": [
    {
     "name": "stdout",
     "output_type": "stream",
     "text": [
      "Wall time: 328 ms\n"
     ]
    },
    {
     "data": {
      "text/plain": [
       "array([[0.00398797, 0.9960121 ],\n",
       "       [0.00398797, 0.9960121 ],\n",
       "       [0.99595684, 0.00404311],\n",
       "       ...,\n",
       "       [0.00398797, 0.9960121 ],\n",
       "       [0.00398797, 0.9960121 ],\n",
       "       [0.00398797, 0.9960121 ]], dtype=float32)"
      ]
     },
     "execution_count": 33,
     "metadata": {},
     "output_type": "execute_result"
    }
   ],
   "source": [
    "%%time\n",
    "out_tr=model_onelstm.predict(X_train)\n",
    "out_tr"
   ]
  },
  {
   "cell_type": "code",
   "execution_count": 34,
   "metadata": {},
   "outputs": [
    {
     "name": "stdout",
     "output_type": "stream",
     "text": [
      "[[4109    0]\n",
      " [   0 4100]]\n"
     ]
    }
   ],
   "source": [
    "from sklearn.metrics import confusion_matrix\n",
    "print(confusion_matrix(y_train.argmax(axis=1), out_tr.argmax(axis=1)))"
   ]
  },
  {
   "cell_type": "code",
   "execution_count": 35,
   "metadata": {},
   "outputs": [
    {
     "name": "stdout",
     "output_type": "stream",
     "text": [
      "1.0\n",
      "1.0\n",
      "1.0\n"
     ]
    }
   ],
   "source": [
    "from sklearn.metrics import f1_score, precision_score, recall_score\n",
    "print(precision_score(y_train.argmax(axis=1), out_tr.argmax(axis=1) , average=\"macro\"))\n",
    "print(recall_score(y_train.argmax(axis=1), out_tr.argmax(axis=1) , average=\"macro\"))\n",
    "print(f1_score(y_train.argmax(axis=1), out_tr.argmax(axis=1) , average=\"macro\"))"
   ]
  },
  {
   "cell_type": "code",
   "execution_count": 28,
   "metadata": {},
   "outputs": [
    {
     "name": "stdout",
     "output_type": "stream",
     "text": [
      "913/913 [==============================] - 0s 144us/step\n"
     ]
    },
    {
     "data": {
      "text/plain": [
       "[0.004023338725682254, 1.0, 0.004015264101326466, 1.6123109162435867e-05]"
      ]
     },
     "execution_count": 28,
     "metadata": {},
     "output_type": "execute_result"
    }
   ],
   "source": [
    "# without resample\n",
    "result_te = model_onelstm.evaluate(X_test, y_test)\n",
    "result_te"
   ]
  },
  {
   "cell_type": "code",
   "execution_count": 29,
   "metadata": {},
   "outputs": [
    {
     "name": "stdout",
     "output_type": "stream",
     "text": [
      "Wall time: 140 ms\n"
     ]
    },
    {
     "data": {
      "text/plain": [
       "array([[0.99595684, 0.00404311],\n",
       "       [0.00398797, 0.9960121 ],\n",
       "       [0.99595684, 0.00404311],\n",
       "       ...,\n",
       "       [0.00398797, 0.9960121 ],\n",
       "       [0.00398797, 0.9960121 ],\n",
       "       [0.99595684, 0.00404311]], dtype=float32)"
      ]
     },
     "execution_count": 29,
     "metadata": {},
     "output_type": "execute_result"
    }
   ],
   "source": [
    "%%time\n",
    "out_te=model_onelstm.predict(X_test)\n",
    "out_te"
   ]
  },
  {
   "cell_type": "code",
   "execution_count": 30,
   "metadata": {},
   "outputs": [
    {
     "name": "stdout",
     "output_type": "stream",
     "text": [
      "[[452   0]\n",
      " [  0 461]]\n"
     ]
    }
   ],
   "source": [
    "from sklearn.metrics import confusion_matrix\n",
    "print(confusion_matrix(y_test.argmax(axis=1), out_te.argmax(axis=1)))"
   ]
  },
  {
   "cell_type": "code",
   "execution_count": 31,
   "metadata": {},
   "outputs": [
    {
     "name": "stdout",
     "output_type": "stream",
     "text": [
      "1.0\n",
      "1.0\n",
      "1.0\n"
     ]
    }
   ],
   "source": [
    "from sklearn.metrics import f1_score, precision_score, recall_score\n",
    "print(precision_score(y_test.argmax(axis=1), out_te.argmax(axis=1) , average=\"macro\"))\n",
    "print(recall_score(y_test.argmax(axis=1), out_te.argmax(axis=1) , average=\"macro\"))\n",
    "print(f1_score(y_test.argmax(axis=1), out_te.argmax(axis=1) , average=\"macro\"))"
   ]
  },
  {
   "cell_type": "markdown",
   "metadata": {},
   "source": [
    "# test real data with undersampling model"
   ]
  },
  {
   "cell_type": "code",
   "execution_count": 39,
   "metadata": {},
   "outputs": [
    {
     "name": "stdout",
     "output_type": "stream",
     "text": [
      "28204445/28204445 [==============================] - 1971s 70us/step\n"
     ]
    },
    {
     "data": {
      "text/plain": [
       "[0.00405132665513873, 1.0, 0.0040810974314808846, 1.626261291676201e-05]"
      ]
     },
     "execution_count": 39,
     "metadata": {},
     "output_type": "execute_result"
    }
   ],
   "source": [
    "# without resample\n",
    "result_te = model_onelstm.evaluate(X_test, y_test)\n",
    "result_te"
   ]
  },
  {
   "cell_type": "code",
   "execution_count": 40,
   "metadata": {
    "scrolled": true
   },
   "outputs": [
    {
     "name": "stdout",
     "output_type": "stream",
     "text": [
      "Wall time: 19min 23s\n"
     ]
    },
    {
     "data": {
      "text/plain": [
       "array([[0.00398797, 0.9960121 ],\n",
       "       [0.00398797, 0.9960121 ],\n",
       "       [0.00398797, 0.9960121 ],\n",
       "       ...,\n",
       "       [0.99595684, 0.00404311],\n",
       "       [0.99595684, 0.00404311],\n",
       "       [0.99595684, 0.00404311]], dtype=float32)"
      ]
     },
     "execution_count": 40,
     "metadata": {},
     "output_type": "execute_result"
    }
   ],
   "source": [
    "%%time\n",
    "out_te=model_onelstm.predict(X_test)\n",
    "out_te"
   ]
  },
  {
   "cell_type": "code",
   "execution_count": 41,
   "metadata": {},
   "outputs": [
    {
     "name": "stdout",
     "output_type": "stream",
     "text": [
      "[[28199884        0]\n",
      " [       0     4561]]\n"
     ]
    }
   ],
   "source": [
    "from sklearn.metrics import confusion_matrix\n",
    "print(confusion_matrix(y_test.argmax(axis=1), out_te.argmax(axis=1)))"
   ]
  },
  {
   "cell_type": "code",
   "execution_count": 42,
   "metadata": {},
   "outputs": [
    {
     "name": "stdout",
     "output_type": "stream",
     "text": [
      "1.0\n",
      "1.0\n",
      "1.0\n"
     ]
    }
   ],
   "source": [
    "from sklearn.metrics import f1_score, precision_score, recall_score\n",
    "print(precision_score(y_test.argmax(axis=1), out_te.argmax(axis=1) , average=\"macro\"))\n",
    "print(recall_score(y_test.argmax(axis=1), out_te.argmax(axis=1) , average=\"macro\"))\n",
    "print(f1_score(y_test.argmax(axis=1), out_te.argmax(axis=1) , average=\"macro\"))"
   ]
  },
  {
   "cell_type": "markdown",
   "metadata": {},
   "source": [
    "# Train LSTM model for real data (without resample)"
   ]
  },
  {
   "cell_type": "code",
   "execution_count": 33,
   "metadata": {},
   "outputs": [
    {
     "name": "stdout",
     "output_type": "stream",
     "text": [
      "Model: \"sequential_2\"\n",
      "_________________________________________________________________\n",
      "Layer (type)                 Output Shape              Param #   \n",
      "=================================================================\n",
      "embedding_2 (Embedding)      (None, None, 8)           48        \n",
      "_________________________________________________________________\n",
      "lstm_2 (LSTM)                (None, 4)                 208       \n",
      "_________________________________________________________________\n",
      "dense_2 (Dense)              (None, 2)                 10        \n",
      "=================================================================\n",
      "Total params: 266\n",
      "Trainable params: 266\n",
      "Non-trainable params: 0\n",
      "_________________________________________________________________\n",
      "Train on 20307200 samples, validate on 5076800 samples\n",
      "Epoch 1/2\n",
      "20307200/20307200 [==============================] - 3979s 196us/step - loss: 0.0016 - acc: 0.9999 - mae: 5.7148e-04 - mse: 1.8825e-04 - val_loss: 0.0011 - val_acc: 0.9998 - val_mae: 3.0702e-04 - val_mse: 1.5160e-04\n",
      "Epoch 2/2\n",
      "20307200/20307200 [==============================] - 3954s 195us/step - loss: 0.0016 - acc: 0.9999 - mae: 4.4753e-04 - mse: 1.6095e-04 - val_loss: 0.0015 - val_acc: 0.9998 - val_mae: 3.2360e-04 - val_mse: 1.5201e-04\n"
     ]
    }
   ],
   "source": [
    "from keras import Sequential\n",
    "from keras.layers import Dense,LSTM,Embedding\n",
    "from keras import layers\n",
    "import keras\n",
    "callbacks_list = [keras.callbacks.EarlyStopping(monitor='acc',patience=1,),\n",
    "keras.callbacks.ModelCheckpoint(filepath='my_model.h5',monitor='val_loss',save_best_only=True,)]\n",
    "\n",
    "model_lstm = Sequential()\n",
    "\n",
    "model_lstm.add(layers.Embedding(6, 8))\n",
    "model_lstm.add(layers.LSTM(4))\n",
    "model_lstm.add(Dense(2, activation='softmax'))\n",
    "model_lstm.compile(optimizer='sgd', loss='categorical_crossentropy', metrics=['acc','mae','mse'])\n",
    "model_lstm.summary()\n",
    "history_lstm = model_lstm.fit(X_train, y_train,epochs=2,validation_split=0.2, callbacks=callbacks_list)"
   ]
  },
  {
   "cell_type": "code",
   "execution_count": 34,
   "metadata": {},
   "outputs": [],
   "source": [
    "# save model\n",
    "import h5py\n",
    "model_lstm.save('large dataset/deep_model_before_resample_6features_lstm_ec-sc.h5')\n",
    "model_lstm.save_weights('large dataset/deep_model_before_resample_6features_lstm_weights_ec-sc.h5')"
   ]
  },
  {
   "cell_type": "markdown",
   "metadata": {},
   "source": [
    "## Test Tune model for real data (without resample)"
   ]
  },
  {
   "cell_type": "code",
   "execution_count": 26,
   "metadata": {},
   "outputs": [
    {
     "name": "stdout",
     "output_type": "stream",
     "text": [
      "WARNING:tensorflow:From C:\\Users\\ASUS\\Anaconda3\\lib\\site-packages\\keras\\backend\\tensorflow_backend.py:422: The name tf.global_variables is deprecated. Please use tf.compat.v1.global_variables instead.\n",
      "\n"
     ]
    }
   ],
   "source": [
    "from keras.models import load_model\n",
    "#del model\n",
    "model_lstm = load_model('large dataset/deep_model_before_resample_6features_lstm_ec-sc.h5')\n",
    "model_lstm.load_weights('large dataset/deep_model_before_resample_6features_lstm_weights_ec-sc.h5', by_name=True)"
   ]
  },
  {
   "cell_type": "code",
   "execution_count": 36,
   "metadata": {},
   "outputs": [
    {
     "name": "stdout",
     "output_type": "stream",
     "text": [
      "25384000/25384000 [==============================] - 2011s 79us/step\n"
     ]
    },
    {
     "data": {
      "text/plain": [
       "[0.0017920834103681668,\n",
       " 0.99989253282547,\n",
       " 0.0007473152363672853,\n",
       " 0.00016190006863325834]"
      ]
     },
     "execution_count": 36,
     "metadata": {},
     "output_type": "execute_result"
    }
   ],
   "source": [
    "# without resample\n",
    "result_tr = model_lstm.evaluate(X_train, y_train)\n",
    "result_tr"
   ]
  },
  {
   "cell_type": "code",
   "execution_count": 37,
   "metadata": {},
   "outputs": [
    {
     "name": "stdout",
     "output_type": "stream",
     "text": [
      "Wall time: 21min 11s\n"
     ]
    },
    {
     "data": {
      "text/plain": [
       "array([[9.994142e-01, 5.858662e-04],\n",
       "       [9.994142e-01, 5.858662e-04],\n",
       "       [9.994142e-01, 5.858662e-04],\n",
       "       ...,\n",
       "       [9.994142e-01, 5.858662e-04],\n",
       "       [9.994142e-01, 5.858662e-04],\n",
       "       [9.994142e-01, 5.858662e-04]], dtype=float32)"
      ]
     },
     "execution_count": 37,
     "metadata": {},
     "output_type": "execute_result"
    }
   ],
   "source": [
    "%%time\n",
    "out_tr=model_lstm.predict(X_train)\n",
    "out_tr"
   ]
  },
  {
   "cell_type": "code",
   "execution_count": 38,
   "metadata": {},
   "outputs": [
    {
     "name": "stdout",
     "output_type": "stream",
     "text": [
      "[[25379886        0]\n",
      " [    4114        0]]\n"
     ]
    }
   ],
   "source": [
    "from sklearn.metrics import confusion_matrix\n",
    "print(confusion_matrix(y_train.argmax(axis=1), out_tr.argmax(axis=1)))"
   ]
  },
  {
   "cell_type": "code",
   "execution_count": 39,
   "metadata": {},
   "outputs": [
    {
     "name": "stderr",
     "output_type": "stream",
     "text": [
      "C:\\Users\\ASUS\\Anaconda3\\lib\\site-packages\\sklearn\\metrics\\_classification.py:1272: UndefinedMetricWarning: Precision is ill-defined and being set to 0.0 in labels with no predicted samples. Use `zero_division` parameter to control this behavior.\n",
      "  _warn_prf(average, modifier, msg_start, len(result))\n"
     ]
    },
    {
     "name": "stdout",
     "output_type": "stream",
     "text": [
      "0.4999189647021746\n",
      "0.5\n",
      "0.49995947906746147\n"
     ]
    }
   ],
   "source": [
    "from sklearn.metrics import f1_score, precision_score, recall_score\n",
    "print(precision_score(y_train.argmax(axis=1), out_tr.argmax(axis=1) , average=\"macro\"))\n",
    "print(recall_score(y_train.argmax(axis=1), out_tr.argmax(axis=1) , average=\"macro\"))\n",
    "print(f1_score(y_train.argmax(axis=1), out_tr.argmax(axis=1) , average=\"macro\"))"
   ]
  },
  {
   "cell_type": "code",
   "execution_count": 40,
   "metadata": {},
   "outputs": [
    {
     "name": "stdout",
     "output_type": "stream",
     "text": [
      "2820445/2820445 [==============================] - 214s 76us/step\n"
     ]
    },
    {
     "data": {
      "text/plain": [
       "[0.001765404671098096,\n",
       " 0.9998415112495422,\n",
       " 0.0007448680698871613,\n",
       " 0.000158529554028064]"
      ]
     },
     "execution_count": 40,
     "metadata": {},
     "output_type": "execute_result"
    }
   ],
   "source": [
    "# without resample\n",
    "result_te = model_lstm.evaluate(X_test, y_test)\n",
    "result_te"
   ]
  },
  {
   "cell_type": "code",
   "execution_count": 41,
   "metadata": {},
   "outputs": [
    {
     "name": "stdout",
     "output_type": "stream",
     "text": [
      "Wall time: 2min 22s\n"
     ]
    },
    {
     "data": {
      "text/plain": [
       "array([[9.994142e-01, 5.858662e-04],\n",
       "       [9.994142e-01, 5.858662e-04],\n",
       "       [9.994142e-01, 5.858662e-04],\n",
       "       ...,\n",
       "       [9.994142e-01, 5.858662e-04],\n",
       "       [9.994142e-01, 5.858662e-04],\n",
       "       [9.994142e-01, 5.858660e-04]], dtype=float32)"
      ]
     },
     "execution_count": 41,
     "metadata": {},
     "output_type": "execute_result"
    }
   ],
   "source": [
    "%%time\n",
    "out_te=model_lstm.predict(X_test)\n",
    "out_te"
   ]
  },
  {
   "cell_type": "code",
   "execution_count": 42,
   "metadata": {},
   "outputs": [
    {
     "name": "stdout",
     "output_type": "stream",
     "text": [
      "[[2819998       0]\n",
      " [    447       0]]\n"
     ]
    }
   ],
   "source": [
    "from sklearn.metrics import confusion_matrix\n",
    "print(confusion_matrix(y_test.argmax(axis=1), out_te.argmax(axis=1)))"
   ]
  },
  {
   "cell_type": "code",
   "execution_count": 43,
   "metadata": {},
   "outputs": [
    {
     "name": "stdout",
     "output_type": "stream",
     "text": [
      "0.49992075718547957\n",
      "0.5\n",
      "0.49996037545277916\n"
     ]
    }
   ],
   "source": [
    "from sklearn.metrics import f1_score, precision_score, recall_score\n",
    "print(precision_score(y_test.argmax(axis=1), out_te.argmax(axis=1) , average=\"macro\"))\n",
    "print(recall_score(y_test.argmax(axis=1), out_te.argmax(axis=1) , average=\"macro\"))\n",
    "print(f1_score(y_test.argmax(axis=1), out_te.argmax(axis=1) , average=\"macro\"))"
   ]
  },
  {
   "cell_type": "markdown",
   "metadata": {},
   "source": [
    "# test other classifier without resample"
   ]
  },
  {
   "cell_type": "code",
   "execution_count": 78,
   "metadata": {},
   "outputs": [],
   "source": [
    "x_tra,y_tra,x_tes,y_tes=X_train,y_train,X_test,y_test"
   ]
  },
  {
   "cell_type": "code",
   "execution_count": 79,
   "metadata": {},
   "outputs": [],
   "source": [
    "X_train,y_train,X_test,y_test=x_tr,y_tr,x_te,y_te"
   ]
  },
  {
   "cell_type": "code",
   "execution_count": 89,
   "metadata": {},
   "outputs": [
    {
     "name": "stdout",
     "output_type": "stream",
     "text": [
      "Accuracy of LDA classifier on training set: 1.00\n",
      "Accuracy of LDA classifier on test set: 1.00\n",
      "Wall time: 2min 22s\n"
     ]
    }
   ],
   "source": [
    "%%time\n",
    "# Linear Discriminant Analysis\n",
    "\n",
    "from sklearn.discriminant_analysis import LinearDiscriminantAnalysis\n",
    "lda = LinearDiscriminantAnalysis()\n",
    "lda.fit(X_train, y_train)\n",
    "print('Accuracy of LDA classifier on training set: {:.2f}'\n",
    "     .format(lda.score(X_train, y_train)))\n",
    "print('Accuracy of LDA classifier on test set: {:.2f}'\n",
    "     .format(lda.score(X_test, y_test)))"
   ]
  },
  {
   "cell_type": "code",
   "execution_count": 90,
   "metadata": {},
   "outputs": [
    {
     "name": "stdout",
     "output_type": "stream",
     "text": [
      "['No' 'No' 'No' ... 'No' 'No' 'No']\n",
      "0.9999761660888749\n",
      "[[25379886        0]\n",
      " [     605     3509]]\n",
      "0.9999880813968492\n",
      "0.9264705882352942\n",
      "0.9603115009448575\n",
      "Wall time: 3min 56s\n"
     ]
    }
   ],
   "source": [
    "%%time\n",
    "from sklearn.metrics import f1_score, precision_score, recall_score,confusion_matrix\n",
    "# Make predictions\n",
    "preds_tr = lda.predict(X_train)\n",
    "print(preds_tr)\n",
    "\n",
    "# Evaluate accuracy\n",
    "print(accuracy_score(y_train, preds_tr))\n",
    "\n",
    "print(confusion_matrix(y_train, preds_tr))\n",
    "print(precision_score(y_train, preds_tr , average=\"macro\"))\n",
    "print(recall_score(y_train, preds_tr , average=\"macro\"))\n",
    "print(f1_score(y_train, preds_tr , average=\"macro\"))"
   ]
  },
  {
   "cell_type": "code",
   "execution_count": 91,
   "metadata": {},
   "outputs": [
    {
     "name": "stdout",
     "output_type": "stream",
     "text": [
      "['No' 'No' 'No' ... 'No' 'No' 'No']\n",
      "0.9999726993435433\n",
      "[[2819998       0]\n",
      " [     77     370]]\n",
      "0.9999863478808187\n",
      "0.9138702460850112\n",
      "0.952869550836202\n",
      "Wall time: 25.4 s\n"
     ]
    }
   ],
   "source": [
    "%%time\n",
    "from sklearn.metrics import f1_score, precision_score, recall_score,confusion_matrix\n",
    "# Make predictions\n",
    "preds = lda.predict(X_test)\n",
    "print(preds)\n",
    "\n",
    "# Evaluate accuracy\n",
    "print(accuracy_score(y_test, preds))\n",
    "\n",
    "print(confusion_matrix(y_test, preds))\n",
    "print(precision_score(y_test, preds , average=\"macro\"))\n",
    "print(recall_score(y_test, preds , average=\"macro\"))\n",
    "print(f1_score(y_test, preds , average=\"macro\"))"
   ]
  },
  {
   "cell_type": "code",
   "execution_count": null,
   "metadata": {},
   "outputs": [],
   "source": [
    "%%time\n",
    "# KNN\n",
    "from sklearn.neighbors import KNeighborsClassifier\n",
    "knn = KNeighborsClassifier()\n",
    "knn.fit(X_train, y_train)\n",
    "# time: one hour"
   ]
  },
  {
   "cell_type": "code",
   "execution_count": 5,
   "metadata": {},
   "outputs": [
    {
     "name": "stdout",
     "output_type": "stream",
     "text": [
      "['No' 'No' 'No' ... 'No' 'No' 'No']\n",
      "0.9999808934762054\n",
      "[[25379886        0]\n",
      " [     485     3629]]\n",
      "0.9999904453721342\n",
      "0.9410549343704424\n",
      "0.9686766122826788\n",
      "Wall time: 20min 4s\n"
     ]
    }
   ],
   "source": [
    "%%time\n",
    "from sklearn.metrics import f1_score, precision_score, recall_score,confusion_matrix\n",
    "# Make predictions\n",
    "preds_tr = knn.predict(X_train)\n",
    "print(preds_tr)\n",
    "\n",
    "# Evaluate accuracy\n",
    "print(accuracy_score(y_train, preds_tr))\n",
    "\n",
    "print(confusion_matrix(y_train, preds_tr))\n",
    "print(precision_score(y_train, preds_tr , average=\"macro\"))\n",
    "print(recall_score(y_train, preds_tr , average=\"macro\"))\n",
    "print(f1_score(y_train, preds_tr , average=\"macro\"))"
   ]
  },
  {
   "cell_type": "code",
   "execution_count": 6,
   "metadata": {},
   "outputs": [
    {
     "name": "stdout",
     "output_type": "stream",
     "text": [
      "['No' 'No' 'No' ... 'No' 'No' 'No']\n",
      "0.9999709265736435\n",
      "[[2819998       0]\n",
      " [     82     365]]\n",
      "0.9999854614053503\n",
      "0.9082774049217002\n",
      "0.9495001197595498\n",
      "Wall time: 2min 19s\n"
     ]
    }
   ],
   "source": [
    "%%time\n",
    "from sklearn.metrics import f1_score, precision_score, recall_score, confusion_matrix,accuracy_score\n",
    "# Make predictions\n",
    "preds =  knn.predict(X_test)\n",
    "print(preds)\n",
    "\n",
    "# Evaluate accuracy\n",
    "print(accuracy_score(y_test, preds))\n",
    "\n",
    "print(confusion_matrix(y_test, preds))\n",
    "print(precision_score(y_test, preds , average=\"macro\"))\n",
    "print(recall_score(y_test, preds , average=\"macro\"))\n",
    "print(f1_score(y_test, preds , average=\"macro\"))"
   ]
  },
  {
   "cell_type": "code",
   "execution_count": 7,
   "metadata": {},
   "outputs": [
    {
     "name": "stdout",
     "output_type": "stream",
     "text": [
      "Accuracy of SVM classifier on training set: 1.00\n",
      "Accuracy of SVM classifier on test set: 1.00\n",
      "Wall time: 3h 29min 4s\n"
     ]
    }
   ],
   "source": [
    "%%time\n",
    "# SVM\n",
    "from sklearn.svm import SVC\n",
    "svm = SVC()\n",
    "svm.fit(X_train, y_train)\n",
    "print('Accuracy of SVM classifier on training set: {:.2f}'\n",
    "     .format(svm.score(X_train, y_train)))\n",
    "print('Accuracy of SVM classifier on test set: {:.2f}'\n",
    "     .format(svm.score(X_test, y_test)))"
   ]
  },
  {
   "cell_type": "code",
   "execution_count": 8,
   "metadata": {},
   "outputs": [
    {
     "name": "stdout",
     "output_type": "stream",
     "text": [
      "['No' 'No' 'No' ... 'No' 'No' 'No']\n",
      "0.99998262685156\n",
      "[[25379886        0]\n",
      " [     441     3673]]\n",
      "0.999991312168673\n",
      "0.9464025279533301\n",
      "0.9716792312360152\n",
      "Wall time: 42min 41s\n"
     ]
    }
   ],
   "source": [
    "%%time\n",
    "from sklearn.metrics import f1_score, precision_score, recall_score,confusion_matrix,accuracy_score\n",
    "# Make predictions\n",
    "preds_tr = svm.predict(X_train)\n",
    "print(preds_tr)\n",
    "\n",
    "# Evaluate accuracy\n",
    "print(accuracy_score(y_train, preds_tr))\n",
    "\n",
    "print(confusion_matrix(y_train, preds_tr))\n",
    "print(precision_score(y_train, preds_tr , average=\"macro\"))\n",
    "print(recall_score(y_train, preds_tr , average=\"macro\"))\n",
    "print(f1_score(y_train, preds_tr , average=\"macro\"))"
   ]
  },
  {
   "cell_type": "code",
   "execution_count": 9,
   "metadata": {},
   "outputs": [
    {
     "name": "stdout",
     "output_type": "stream",
     "text": [
      "['No' 'No' 'No' ... 'No' 'No' 'No']\n",
      "0.9999840450709019\n",
      "[[2819998       0]\n",
      " [     45     402]]\n",
      "0.9999920213982553\n",
      "0.9496644295302014\n",
      "0.973494243882846\n",
      "Wall time: 4min 42s\n",
      "Parser   : 1.64 s\n"
     ]
    }
   ],
   "source": [
    "%%time\n",
    "from sklearn.metrics import f1_score, precision_score, recall_score,confusion_matrix,accuracy_score\n",
    "# Make predictions\n",
    "preds = svm.predict(X_test)\n",
    "print(preds)\n",
    "\n",
    "# Evaluate accuracy\n",
    "print(accuracy_score(y_test, preds))\n",
    "\n",
    "print(confusion_matrix(y_test, preds))\n",
    "print(precision_score(y_test, preds , average=\"macro\"))\n",
    "print(recall_score(y_test, preds , average=\"macro\"))\n",
    "print(f1_score(y_test, preds , average=\"macro\"))"
   ]
  },
  {
   "cell_type": "code",
   "execution_count": null,
   "metadata": {},
   "outputs": [],
   "source": []
  }
 ],
 "metadata": {
  "kernelspec": {
   "display_name": "Python 3",
   "language": "python",
   "name": "python3"
  },
  "language_info": {
   "codemirror_mode": {
    "name": "ipython",
    "version": 3
   },
   "file_extension": ".py",
   "mimetype": "text/x-python",
   "name": "python",
   "nbconvert_exporter": "python",
   "pygments_lexer": "ipython3",
   "version": "3.7.3"
  }
 },
 "nbformat": 4,
 "nbformat_minor": 2
}
